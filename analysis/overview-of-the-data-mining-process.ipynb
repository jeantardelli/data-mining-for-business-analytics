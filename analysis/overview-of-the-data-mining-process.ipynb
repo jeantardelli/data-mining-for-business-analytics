{
 "cells": [
  {
   "cell_type": "markdown",
   "id": "3006d9e5",
   "metadata": {},
   "source": [
    "# Preliminary Steps\n",
    "\n",
    "## Analysis of WestRoxbury.csv\n",
    "\n",
    "Description of variables in West Roxbury (Boston) Home Value Dataset\n",
    "\n",
    "- *TOTAL VALUE*: Total assessed value for property, in thousands of USD\n",
    "- *TAX*: Tax bill amount based on total assessed value multiplied by the tax rate, in USD\n",
    "- *LOT SQ FT*: Total lot size of parcel (ft 2 )\n",
    "- *YR BUILT*: Year the property was built\n",
    "- *GROSS AREA*: Gross floor area\n",
    "- *LIVING AREA*: Total living area for residential properties (ft 2 )\n",
    "- *FLOORS*: Number of floors\n",
    "- *ROOMS*: Total number of rooms\n",
    "- *BEDROOMS*: Total number of bedrooms\n",
    "- *FULL BATH*: Total number of full baths\n",
    "- *HALF BATH*: Total number of half baths\n",
    "- *KITCHEN*: Total number of kitchens\n",
    "- *FIREPLACE*: Total number of fireplaces\n",
    "- *REMODEL*: When the house was remodeled (recent/old/none)"
   ]
  },
  {
   "cell_type": "markdown",
   "id": "9c68803a",
   "metadata": {},
   "source": [
    "Packages imports and data load:"
   ]
  },
  {
   "cell_type": "code",
   "execution_count": 1,
   "id": "de537781",
   "metadata": {},
   "outputs": [],
   "source": [
    "# Import required packages\n",
    "import math\n",
    "from typing import List, Tuple\n",
    "import numpy as np\n",
    "import pandas as pd\n",
    "\n",
    "from sklearn.linear_model import LinearRegression\n",
    "from sklearn.preprocessing import MinMaxScaler, StandardScaler\n",
    "from sklearn.model_selection import train_test_split\n",
    "from sklearn.metrics import mean_squared_error\n",
    "\n",
    "def print_values(l: List[Tuple]):\n",
    "    \"\"\"Receives a list of 2-dimensional on the form ('desc','vals') and print them.\"\"\"\n",
    "    for desc, vals in l:\n",
    "        print(desc + \":\")\n",
    "        print(vals)\n",
    "        print(\"\\n\")\n",
    "\n",
    "def regression_summary(y_true: pd.DataFrame, y_pred: pd.DataFrame):\n",
    "    \"\"\"Print regression performance metrics.\n",
    "    Function adapted from https://github.com/gedeck/dmba/blob/master/src/dmba/metric.py\n",
    "\n",
    "    Input:\n",
    "        y_true: actual values\n",
    "        y_pred: predicted values\n",
    "    \"\"\"\n",
    "    y_true = np.asarray(y_true)\n",
    "    y_pred = np.asarray(y_pred)\n",
    "    y_res = y_true - y_pred\n",
    "\n",
    "    metrics = [\n",
    "        ('Mean Error (ME)', sum(y_res) / len(y_res)),\n",
    "        ('Root Mean Squared Error (RMSE)', math.sqrt(mean_squared_error(y_true, y_pred))),\n",
    "        ('Mean Absolute Error (MAE)', sum(abs(y_res)) / len(y_res)),\n",
    "    ]\n",
    "    if all(yt != 0 for yt in y_true):\n",
    "        metrics.extend([\n",
    "            ('Mean Percentage Error (MPE)', 100 * sum(y_res / y_true) / len(y_res)),\n",
    "            ('Mean Absolute Percentage Error (MAPE)', 100 * sum(abs(y_res / y_true) / len(y_res))),\n",
    "        ])\n",
    "    fmt1 = '{{:>{}}} : {{:.4f}}'.format(max(len(m[0]) for m in metrics))\n",
    "    print('\\nRegression statistics\\n')\n",
    "    for metric, value in metrics:\n",
    "        print(fmt1.format(metric, value))"
   ]
  },
  {
   "cell_type": "code",
   "execution_count": 2,
   "id": "98d4c733",
   "metadata": {},
   "outputs": [
    {
     "name": "stdout",
     "output_type": "stream",
     "text": [
      "DataFrame Dimension:\n",
      "(5802, 14)\n",
      "\n",
      "\n",
      "First five rows:\n",
      "   TOTAL VALUE    TAX  LOT SQFT   YR BUILT  GROSS AREA   LIVING AREA  FLOORS   \\\n",
      "0         344.2  4330       9965      1880         2436         1352      2.0   \n",
      "1         412.6  5190       6590      1945         3108         1976      2.0   \n",
      "2         330.1  4152       7500      1890         2294         1371      2.0   \n",
      "3         498.6  6272      13773      1957         5032         2608      1.0   \n",
      "4         331.5  4170       5000      1910         2370         1438      2.0   \n",
      "\n",
      "   ROOMS  BEDROOMS   FULL BATH  HALF BATH  KITCHEN  FIREPLACE REMODEL  \n",
      "0      6          3          1          1        1          0    None  \n",
      "1     10          4          2          1        1          0  Recent  \n",
      "2      8          4          1          1        1          0    None  \n",
      "3      9          5          1          1        1          1    None  \n",
      "4      7          3          2          0        1          0    None  \n",
      "\n",
      "\n"
     ]
    }
   ],
   "source": [
    "# Load data\n",
    "housing_df = pd.read_csv(\"../datasets/WestRoxbury.csv\")\n",
    "info = [(\"DataFrame Dimension\", housing_df.shape),\n",
    "        (\"First five rows\", housing_df.head())]\n",
    "print_values(info)"
   ]
  },
  {
   "cell_type": "markdown",
   "id": "bc7402d8",
   "metadata": {},
   "source": [
    "Renaming the colums:"
   ]
  },
  {
   "cell_type": "code",
   "execution_count": 3,
   "id": "a46855ee",
   "metadata": {},
   "outputs": [
    {
     "name": "stdout",
     "output_type": "stream",
     "text": [
      "Index(['total_value', 'tax', 'lot_sqft', 'yr_built', 'gross_area',\n",
      "       'living_area', 'floors', 'rooms', 'bedrooms', 'full_bath', 'half_bath',\n",
      "       'kitchen', 'fireplace', 'remodel'],\n",
      "      dtype='object')\n"
     ]
    }
   ],
   "source": [
    "housing_df.columns = [s.strip().replace(\" \", \"_\").lower() for s in housing_df.columns]\n",
    "print(housing_df.columns)"
   ]
  },
  {
   "cell_type": "markdown",
   "id": "3c11dc5f",
   "metadata": {},
   "source": [
    "Showing some rows with `loc` and `iloc`:"
   ]
  },
  {
   "cell_type": "code",
   "execution_count": 4,
   "id": "79edde8d",
   "metadata": {},
   "outputs": [
    {
     "name": "stdout",
     "output_type": "stream",
     "text": [
      "loc:\n",
      "   total_value   tax  lot_sqft  yr_built  gross_area  living_area  floors  \\\n",
      "0        344.2  4330      9965      1880        2436         1352     2.0   \n",
      "1        412.6  5190      6590      1945        3108         1976     2.0   \n",
      "2        330.1  4152      7500      1890        2294         1371     2.0   \n",
      "3        498.6  6272     13773      1957        5032         2608     1.0   \n",
      "\n",
      "   rooms  bedrooms  full_bath  half_bath  kitchen  fireplace remodel  \n",
      "0      6         3          1          1        1          0    None  \n",
      "1     10         4          2          1        1          0  Recent  \n",
      "2      8         4          1          1        1          0    None  \n",
      "3      9         5          1          1        1          1    None  \n",
      "\n",
      "\n",
      "iloc:\n",
      "   total_value   tax  lot_sqft  yr_built  gross_area  living_area  floors  \\\n",
      "0        344.2  4330      9965      1880        2436         1352     2.0   \n",
      "1        412.6  5190      6590      1945        3108         1976     2.0   \n",
      "2        330.1  4152      7500      1890        2294         1371     2.0   \n",
      "3        498.6  6272     13773      1957        5032         2608     1.0   \n",
      "\n",
      "   rooms  bedrooms  full_bath  half_bath  kitchen  fireplace remodel  \n",
      "0      6         3          1          1        1          0    None  \n",
      "1     10         4          2          1        1          0  Recent  \n",
      "2      8         4          1          1        1          0    None  \n",
      "3      9         5          1          1        1          1    None  \n",
      "\n",
      "\n"
     ]
    }
   ],
   "source": [
    "# loc[a:b] gives rows a to b, inclusive\n",
    "info = list()\n",
    "info.append((\"loc\", housing_df.loc[0:3]))\n",
    "\n",
    "# iloc[a:b] gives rows a to b-1\n",
    "info.append((\"iloc\", housing_df.iloc[0:4]))\n",
    "\n",
    "print_values(info)"
   ]
  },
  {
   "cell_type": "markdown",
   "id": "7596c5e4",
   "metadata": {},
   "source": [
    "Different ways to show the first 3 values for `total_value`:"
   ]
  },
  {
   "cell_type": "code",
   "execution_count": 5,
   "id": "c0a550b2",
   "metadata": {},
   "outputs": [
    {
     "name": "stdout",
     "output_type": "stream",
     "text": [
      "0    344.2\n",
      "1    412.6\n",
      "2    330.1\n",
      "Name: total_value, dtype: float64\n",
      "0    344.2\n",
      "1    412.6\n",
      "2    330.1\n",
      "Name: total_value, dtype: float64\n",
      "0    344.2\n",
      "1    412.6\n",
      "2    330.1\n",
      "Name: total_value, dtype: float64\n"
     ]
    }
   ],
   "source": [
    "print(housing_df[\"total_value\"][0:3])\n",
    "print(housing_df.iloc[0:3][\"total_value\"])\n",
    "print(housing_df.iloc[0:3].total_value) # only when the column name does not have spaces"
   ]
  },
  {
   "cell_type": "markdown",
   "id": "ccc1605f",
   "metadata": {},
   "source": [
    "Show the second row of the first ten columns:"
   ]
  },
  {
   "cell_type": "code",
   "execution_count": 6,
   "id": "06679d38",
   "metadata": {},
   "outputs": [
    {
     "name": "stdout",
     "output_type": "stream",
     "text": [
      "total_value    330.1\n",
      "tax             4152\n",
      "lot_sqft        7500\n",
      "yr_built        1890\n",
      "gross_area      2294\n",
      "living_area     1371\n",
      "floors           2.0\n",
      "rooms              8\n",
      "bedrooms           4\n",
      "full_bath          1\n",
      "Name: 2, dtype: object\n",
      "total_value    330.1\n",
      "tax             4152\n",
      "lot_sqft        7500\n",
      "yr_built        1890\n",
      "gross_area      2294\n",
      "living_area     1371\n",
      "floors           2.0\n",
      "rooms              8\n",
      "bedrooms           4\n",
      "full_bath          1\n",
      "Name: 2, dtype: object\n",
      "   total_value   tax  lot_sqft  yr_built  gross_area  living_area  floors  \\\n",
      "2        330.1  4152      7500      1890        2294         1371     2.0   \n",
      "\n",
      "   rooms  bedrooms  full_bath  \n",
      "2      8         4          1  \n"
     ]
    }
   ],
   "source": [
    "print(housing_df.iloc[2][0:10])\n",
    "print(housing_df.iloc[2, 0:10])\n",
    "print(housing_df.iloc[2:3, 0:10]) # use a slice to return a data frame"
   ]
  },
  {
   "cell_type": "markdown",
   "id": "15eb9d01",
   "metadata": {},
   "source": [
    "Concatenating columns:"
   ]
  },
  {
   "cell_type": "code",
   "execution_count": 7,
   "id": "efc60450",
   "metadata": {},
   "outputs": [
    {
     "data": {
      "text/html": [
       "<div>\n",
       "<style scoped>\n",
       "    .dataframe tbody tr th:only-of-type {\n",
       "        vertical-align: middle;\n",
       "    }\n",
       "\n",
       "    .dataframe tbody tr th {\n",
       "        vertical-align: top;\n",
       "    }\n",
       "\n",
       "    .dataframe thead th {\n",
       "        text-align: right;\n",
       "    }\n",
       "</style>\n",
       "<table border=\"1\" class=\"dataframe\">\n",
       "  <thead>\n",
       "    <tr style=\"text-align: right;\">\n",
       "      <th></th>\n",
       "      <th>total_value</th>\n",
       "      <th>tax</th>\n",
       "      <th>gross_area</th>\n",
       "      <th>living_area</th>\n",
       "    </tr>\n",
       "  </thead>\n",
       "  <tbody>\n",
       "    <tr>\n",
       "      <th>4</th>\n",
       "      <td>331.5</td>\n",
       "      <td>4170</td>\n",
       "      <td>2370</td>\n",
       "      <td>1438</td>\n",
       "    </tr>\n",
       "    <tr>\n",
       "      <th>5</th>\n",
       "      <td>337.4</td>\n",
       "      <td>4244</td>\n",
       "      <td>2124</td>\n",
       "      <td>1060</td>\n",
       "    </tr>\n",
       "  </tbody>\n",
       "</table>\n",
       "</div>"
      ],
      "text/plain": [
       "   total_value   tax  gross_area  living_area\n",
       "4        331.5  4170        2370         1438\n",
       "5        337.4  4244        2124         1060"
      ]
     },
     "execution_count": 7,
     "metadata": {},
     "output_type": "execute_result"
    }
   ],
   "source": [
    "# Use pd.concat to combine non-consecutive columns into a new data frame.\n",
    "# The axis argument specifies the dimension along which the\n",
    "# concatenation happens, 0=rows, 1=columns.\n",
    "pd.concat([housing_df.iloc[4:6, 0:2], housing_df.iloc[4:6, 4:6]],\n",
    "          axis=1)"
   ]
  },
  {
   "cell_type": "markdown",
   "id": "4eadc83b",
   "metadata": {},
   "source": [
    "Specifying a full column:"
   ]
  },
  {
   "cell_type": "code",
   "execution_count": 8,
   "id": "8de84747",
   "metadata": {},
   "outputs": [
    {
     "data": {
      "text/plain": [
       "(      total_value\n",
       " 0           344.2\n",
       " 1           412.6\n",
       " 2           330.1\n",
       " 3           498.6\n",
       " 4           331.5\n",
       " ...           ...\n",
       " 5797        404.8\n",
       " 5798        407.9\n",
       " 5799        406.5\n",
       " 5800        308.7\n",
       " 5801        447.6\n",
       " \n",
       " [5802 rows x 1 columns],\n",
       " 0       344.2\n",
       " 1       412.6\n",
       " 2       330.1\n",
       " 3       498.6\n",
       " 4       331.5\n",
       "         ...  \n",
       " 5797    404.8\n",
       " 5798    407.9\n",
       " 5799    406.5\n",
       " 5800    308.7\n",
       " 5801    447.6\n",
       " Name: total_value, Length: 5802, dtype: float64)"
      ]
     },
     "execution_count": 8,
     "metadata": {},
     "output_type": "execute_result"
    }
   ],
   "source": [
    "(housing_df.iloc[:,0:1],\n",
    " housing_df.total_value)"
   ]
  },
  {
   "cell_type": "markdown",
   "id": "0923b60c",
   "metadata": {},
   "source": [
    "Descriptive Statistics:"
   ]
  },
  {
   "cell_type": "code",
   "execution_count": 9,
   "id": "3093db2f",
   "metadata": {},
   "outputs": [
    {
     "name": "stdout",
     "output_type": "stream",
     "text": [
      "Number of rows:  5802\n",
      "Mean of 'total_value':  392.6857149258877\n"
     ]
    },
    {
     "data": {
      "text/html": [
       "<div>\n",
       "<style scoped>\n",
       "    .dataframe tbody tr th:only-of-type {\n",
       "        vertical-align: middle;\n",
       "    }\n",
       "\n",
       "    .dataframe tbody tr th {\n",
       "        vertical-align: top;\n",
       "    }\n",
       "\n",
       "    .dataframe thead th {\n",
       "        text-align: right;\n",
       "    }\n",
       "</style>\n",
       "<table border=\"1\" class=\"dataframe\">\n",
       "  <thead>\n",
       "    <tr style=\"text-align: right;\">\n",
       "      <th></th>\n",
       "      <th>total_value</th>\n",
       "      <th>tax</th>\n",
       "      <th>lot_sqft</th>\n",
       "      <th>yr_built</th>\n",
       "      <th>gross_area</th>\n",
       "      <th>living_area</th>\n",
       "      <th>floors</th>\n",
       "      <th>rooms</th>\n",
       "      <th>bedrooms</th>\n",
       "      <th>full_bath</th>\n",
       "      <th>half_bath</th>\n",
       "      <th>kitchen</th>\n",
       "      <th>fireplace</th>\n",
       "    </tr>\n",
       "  </thead>\n",
       "  <tbody>\n",
       "    <tr>\n",
       "      <th>count</th>\n",
       "      <td>5802.000000</td>\n",
       "      <td>5802.000000</td>\n",
       "      <td>5802.000000</td>\n",
       "      <td>5802.000000</td>\n",
       "      <td>5802.000000</td>\n",
       "      <td>5802.000000</td>\n",
       "      <td>5802.000000</td>\n",
       "      <td>5802.000000</td>\n",
       "      <td>5802.000000</td>\n",
       "      <td>5802.000000</td>\n",
       "      <td>5802.000000</td>\n",
       "      <td>5802.00000</td>\n",
       "      <td>5802.000000</td>\n",
       "    </tr>\n",
       "    <tr>\n",
       "      <th>mean</th>\n",
       "      <td>392.685715</td>\n",
       "      <td>4939.485867</td>\n",
       "      <td>6278.083764</td>\n",
       "      <td>1936.744916</td>\n",
       "      <td>2924.842123</td>\n",
       "      <td>1657.065322</td>\n",
       "      <td>1.683730</td>\n",
       "      <td>6.994829</td>\n",
       "      <td>3.230093</td>\n",
       "      <td>1.296794</td>\n",
       "      <td>0.613926</td>\n",
       "      <td>1.01534</td>\n",
       "      <td>0.739917</td>\n",
       "    </tr>\n",
       "    <tr>\n",
       "      <th>std</th>\n",
       "      <td>99.177414</td>\n",
       "      <td>1247.649118</td>\n",
       "      <td>2669.707974</td>\n",
       "      <td>35.989910</td>\n",
       "      <td>883.984726</td>\n",
       "      <td>540.456726</td>\n",
       "      <td>0.444884</td>\n",
       "      <td>1.437657</td>\n",
       "      <td>0.846607</td>\n",
       "      <td>0.522040</td>\n",
       "      <td>0.533839</td>\n",
       "      <td>0.12291</td>\n",
       "      <td>0.565108</td>\n",
       "    </tr>\n",
       "    <tr>\n",
       "      <th>min</th>\n",
       "      <td>105.000000</td>\n",
       "      <td>1320.000000</td>\n",
       "      <td>997.000000</td>\n",
       "      <td>0.000000</td>\n",
       "      <td>821.000000</td>\n",
       "      <td>504.000000</td>\n",
       "      <td>1.000000</td>\n",
       "      <td>3.000000</td>\n",
       "      <td>1.000000</td>\n",
       "      <td>1.000000</td>\n",
       "      <td>0.000000</td>\n",
       "      <td>1.00000</td>\n",
       "      <td>0.000000</td>\n",
       "    </tr>\n",
       "    <tr>\n",
       "      <th>25%</th>\n",
       "      <td>325.125000</td>\n",
       "      <td>4089.500000</td>\n",
       "      <td>4772.000000</td>\n",
       "      <td>1920.000000</td>\n",
       "      <td>2347.000000</td>\n",
       "      <td>1308.000000</td>\n",
       "      <td>1.000000</td>\n",
       "      <td>6.000000</td>\n",
       "      <td>3.000000</td>\n",
       "      <td>1.000000</td>\n",
       "      <td>0.000000</td>\n",
       "      <td>1.00000</td>\n",
       "      <td>0.000000</td>\n",
       "    </tr>\n",
       "    <tr>\n",
       "      <th>50%</th>\n",
       "      <td>375.900000</td>\n",
       "      <td>4728.000000</td>\n",
       "      <td>5683.000000</td>\n",
       "      <td>1935.000000</td>\n",
       "      <td>2700.000000</td>\n",
       "      <td>1548.500000</td>\n",
       "      <td>2.000000</td>\n",
       "      <td>7.000000</td>\n",
       "      <td>3.000000</td>\n",
       "      <td>1.000000</td>\n",
       "      <td>1.000000</td>\n",
       "      <td>1.00000</td>\n",
       "      <td>1.000000</td>\n",
       "    </tr>\n",
       "    <tr>\n",
       "      <th>75%</th>\n",
       "      <td>438.775000</td>\n",
       "      <td>5519.500000</td>\n",
       "      <td>7022.250000</td>\n",
       "      <td>1955.000000</td>\n",
       "      <td>3239.000000</td>\n",
       "      <td>1873.750000</td>\n",
       "      <td>2.000000</td>\n",
       "      <td>8.000000</td>\n",
       "      <td>4.000000</td>\n",
       "      <td>2.000000</td>\n",
       "      <td>1.000000</td>\n",
       "      <td>1.00000</td>\n",
       "      <td>1.000000</td>\n",
       "    </tr>\n",
       "    <tr>\n",
       "      <th>max</th>\n",
       "      <td>1217.800000</td>\n",
       "      <td>15319.000000</td>\n",
       "      <td>46411.000000</td>\n",
       "      <td>2011.000000</td>\n",
       "      <td>8154.000000</td>\n",
       "      <td>5289.000000</td>\n",
       "      <td>3.000000</td>\n",
       "      <td>14.000000</td>\n",
       "      <td>9.000000</td>\n",
       "      <td>5.000000</td>\n",
       "      <td>3.000000</td>\n",
       "      <td>2.00000</td>\n",
       "      <td>4.000000</td>\n",
       "    </tr>\n",
       "  </tbody>\n",
       "</table>\n",
       "</div>"
      ],
      "text/plain": [
       "       total_value           tax      lot_sqft     yr_built   gross_area  \\\n",
       "count  5802.000000   5802.000000   5802.000000  5802.000000  5802.000000   \n",
       "mean    392.685715   4939.485867   6278.083764  1936.744916  2924.842123   \n",
       "std      99.177414   1247.649118   2669.707974    35.989910   883.984726   \n",
       "min     105.000000   1320.000000    997.000000     0.000000   821.000000   \n",
       "25%     325.125000   4089.500000   4772.000000  1920.000000  2347.000000   \n",
       "50%     375.900000   4728.000000   5683.000000  1935.000000  2700.000000   \n",
       "75%     438.775000   5519.500000   7022.250000  1955.000000  3239.000000   \n",
       "max    1217.800000  15319.000000  46411.000000  2011.000000  8154.000000   \n",
       "\n",
       "       living_area       floors        rooms     bedrooms    full_bath  \\\n",
       "count  5802.000000  5802.000000  5802.000000  5802.000000  5802.000000   \n",
       "mean   1657.065322     1.683730     6.994829     3.230093     1.296794   \n",
       "std     540.456726     0.444884     1.437657     0.846607     0.522040   \n",
       "min     504.000000     1.000000     3.000000     1.000000     1.000000   \n",
       "25%    1308.000000     1.000000     6.000000     3.000000     1.000000   \n",
       "50%    1548.500000     2.000000     7.000000     3.000000     1.000000   \n",
       "75%    1873.750000     2.000000     8.000000     4.000000     2.000000   \n",
       "max    5289.000000     3.000000    14.000000     9.000000     5.000000   \n",
       "\n",
       "         half_bath     kitchen    fireplace  \n",
       "count  5802.000000  5802.00000  5802.000000  \n",
       "mean      0.613926     1.01534     0.739917  \n",
       "std       0.533839     0.12291     0.565108  \n",
       "min       0.000000     1.00000     0.000000  \n",
       "25%       0.000000     1.00000     0.000000  \n",
       "50%       1.000000     1.00000     1.000000  \n",
       "75%       1.000000     1.00000     1.000000  \n",
       "max       3.000000     2.00000     4.000000  "
      ]
     },
     "execution_count": 9,
     "metadata": {},
     "output_type": "execute_result"
    }
   ],
   "source": [
    "print(\"Number of rows: \", len(housing_df.total_value)) # show lenght of the total_value column\n",
    "print(\"Mean of 'total_value': \", housing_df.total_value.mean()) # show mwan of column\n",
    "housing_df.describe() # show summary statistics for each column"
   ]
  },
  {
   "cell_type": "markdown",
   "id": "2dc77268",
   "metadata": {},
   "source": [
    "## Sampling in `pandas`"
   ]
  },
  {
   "cell_type": "code",
   "execution_count": 10,
   "id": "b2e7e1b5",
   "metadata": {},
   "outputs": [
    {
     "name": "stdout",
     "output_type": "stream",
     "text": [
      "      total_value   tax  lot_sqft  yr_built  gross_area  living_area  floors  \\\n",
      "5655        389.6  4901      4851      1938        3020         1555     2.5   \n",
      "5716        376.2  4732      6110      1940        2810         1768     2.0   \n",
      "2319        304.3  3828      4615      1928        2224          925     1.0   \n",
      "105         344.6  4335      8151      1983        4532         2056     1.0   \n",
      "458         198.4  2495      3228      1920        1755         1006     1.5   \n",
      "\n",
      "      rooms  bedrooms  full_bath  half_bath  kitchen  fireplace remodel  \n",
      "5655      8         4          1          1        1          1     Old  \n",
      "5716      8         4          1          1        1          1    None  \n",
      "2319      5         2          1          0        1          1    None  \n",
      "105       5         2          1          2        1          1    None  \n",
      "458       6         3          1          0        1          0    None  \n",
      "      total_value   tax  lot_sqft  yr_built  gross_area  living_area  floors  \\\n",
      "4194      466.000  5862      5000      1957        2340         1908     2.0   \n",
      "3564      453.600  5706      5000      1910        5401         2951     2.0   \n",
      "4531      321.600  4045      4232      1950        2176         1056     1.0   \n",
      "3760      750.595  9442      7000      1890        6069         3443     2.0   \n",
      "2589      530.300  6671     10000      1890        4628         2908     2.0   \n",
      "\n",
      "      rooms  bedrooms  full_bath  half_bath  kitchen  fireplace remodel  \n",
      "4194     11         3          2          1        1          1    None  \n",
      "3564     13         4          2          0        1          0    None  \n",
      "4531      5         2          1          0        1          1    None  \n",
      "3760     11         5          2          1        2          3  Recent  \n",
      "2589     11         6          1          1        1          1    None  \n"
     ]
    }
   ],
   "source": [
    "# random sample of 5 observations\n",
    "print(housing_df.sample(5))\n",
    "\n",
    "# oversample houses with over 10 rooms\n",
    "weights = [0.9 if rooms > 10 else 0.01 for rooms in housing_df.rooms]\n",
    "print(housing_df.sample(5, weights=weights))"
   ]
  },
  {
   "cell_type": "markdown",
   "id": "a14d7c96",
   "metadata": {},
   "source": [
    "## Preprocessing and Cleaning the Data"
   ]
  },
  {
   "cell_type": "code",
   "execution_count": 11,
   "id": "9c259a8f",
   "metadata": {},
   "outputs": [
    {
     "name": "stdout",
     "output_type": "stream",
     "text": [
      "Columns:\n",
      "Index(['total_value', 'tax', 'lot_sqft', 'yr_built', 'gross_area',\n",
      "       'living_area', 'floors', 'rooms', 'bedrooms', 'full_bath', 'half_bath',\n",
      "       'kitchen', 'fireplace', 'remodel'],\n",
      "      dtype='object')\n",
      "\n",
      "\n",
      "Categories:\n",
      "Index(['None', 'Old', 'Recent'], dtype='object')\n",
      "\n",
      "\n",
      "Column type:\n",
      "category\n",
      "\n",
      "\n"
     ]
    }
   ],
   "source": [
    "info = list()\n",
    "\n",
    "# Column names\n",
    "info.append((\"Columns\", housing_df.columns))\n",
    "\n",
    "# Remodel needs to be converted to a categorical variable\n",
    "housing_df.remodel = housing_df.remodel.astype(\"category\")\n",
    "\n",
    "# Show the number of categories\n",
    "info.append((\"Categories\", housing_df.remodel.cat.categories)) \n",
    "# Check type of converted variable\n",
    "info.append((\"Column type\", housing_df.remodel.dtype))\n",
    "\n",
    "print_values(info)"
   ]
  },
  {
   "cell_type": "markdown",
   "id": "fbed7245",
   "metadata": {},
   "source": [
    "To create binary dummies (indicators):"
   ]
  },
  {
   "cell_type": "code",
   "execution_count": 12,
   "id": "4ffc053b",
   "metadata": {},
   "outputs": [
    {
     "name": "stdout",
     "output_type": "stream",
     "text": [
      "Index(['total_value', 'tax', 'lot_sqft', 'yr_built', 'gross_area',\n",
      "       'living_area', 'floors', 'rooms', 'bedrooms', 'full_bath', 'half_bath',\n",
      "       'kitchen', 'fireplace', 'remodel_Old', 'remodel_Recent'],\n",
      "      dtype='object')\n"
     ]
    }
   ],
   "source": [
    "# Use drop_first=True to drop the first dummy variable\n",
    "housing_df = pd.get_dummies(housing_df, prefix_sep=\"_\", drop_first=True)\n",
    "print(housing_df.columns)"
   ]
  },
  {
   "cell_type": "code",
   "execution_count": 13,
   "id": "03422a73",
   "metadata": {},
   "outputs": [
    {
     "name": "stdout",
     "output_type": "stream",
     "text": [
      "   remodel_Old  remodel_Recent\n",
      "0            0               0\n",
      "1            0               1\n",
      "2            0               0\n",
      "3            0               0\n",
      "4            0               0\n"
     ]
    }
   ],
   "source": [
    "print(housing_df.loc[:, [\"remodel_Old\", \"remodel_Recent\"]].head())"
   ]
  },
  {
   "cell_type": "markdown",
   "id": "0f7ad1e1",
   "metadata": {},
   "source": [
    "## Imputing Missing Data"
   ]
  },
  {
   "cell_type": "code",
   "execution_count": 14,
   "id": "b3c42509",
   "metadata": {},
   "outputs": [
    {
     "name": "stdout",
     "output_type": "stream",
     "text": [
      "Number of rows with valid 'bedrooms' values before setting to NAN:  5802\n",
      "Number of rows after removing rows with missing values:  5792\n",
      "Number of rows with valid 'bedrooms' values after filling NA values:  5802\n"
     ]
    }
   ],
   "source": [
    "# To illustrate missing data procedures, we first convert a few entries for\n",
    "# bedrooms to NA’s. Then we impute these missing values using the median of the\n",
    "# remaining values.\n",
    "\n",
    "print(\"Number of rows with valid 'bedrooms' values before setting to NAN: \",\n",
    "      housing_df.bedrooms.count())\n",
    "\n",
    "# remove rows with missing values\n",
    "missing_rows = housing_df.sample(10).index\n",
    "housing_df.loc[missing_rows, \"bedrooms\"] = np.nan\n",
    "reduced_df = housing_df.dropna()\n",
    "print(\"Number of rows after removing rows with missing values: \",\n",
    "      len(reduced_df.bedrooms))\n",
    "\n",
    "# replace the missing values using the median of the remaining values\n",
    "median_bedrooms = housing_df.bedrooms.median()\n",
    "housing_df.bedrooms = housing_df.bedrooms.fillna(value=median_bedrooms)\n",
    "print(\"Number of rows with valid 'bedrooms' values after filling NA values: \",\n",
    "      housing_df.bedrooms.count())"
   ]
  },
  {
   "cell_type": "markdown",
   "id": "37d6c98f",
   "metadata": {},
   "source": [
    "## Normalizing and rescaling data"
   ]
  },
  {
   "cell_type": "code",
   "execution_count": 15,
   "id": "354304ab",
   "metadata": {},
   "outputs": [],
   "source": [
    "df = housing_df.copy()\n",
    "\n",
    "# Normalizing a data frame\n",
    "# pandas:\n",
    "norm_df = (housing_df - housing_df.mean()) / housing_df.std()\n",
    "\n",
    "# scikit-learn:\n",
    "# the result of the transformation is a numpy array, we convert it into a dataframe\n",
    "scaler = StandardScaler()\n",
    "norm_df = pd.DataFrame(scaler.fit_transform(housing_df),\n",
    "                       index=housing_df.index,\n",
    "                       columns=housing_df.columns)\n",
    "\n",
    "# Rescaling a data frame\n",
    "# pandas:\n",
    "norm_df = (housing_df - housing_df.min()) / (housing_df.max() - housing_df.min())\n",
    "\n",
    "# scikit-learn:\n",
    "scaler = MinMaxScaler()\n",
    "norm_df = pd.DataFrame(scaler.fit_transform(housing_df),\n",
    "                       index=housing_df.index,\n",
    "                       columns=housing_df.columns)"
   ]
  },
  {
   "cell_type": "markdown",
   "id": "e47c3f3a",
   "metadata": {},
   "source": [
    "# Predictive Power and Overfitting\n",
    "\n",
    "## Partitioning data into training, validation and test sets"
   ]
  },
  {
   "cell_type": "code",
   "execution_count": 16,
   "id": "b0403870",
   "metadata": {},
   "outputs": [
    {
     "name": "stdout",
     "output_type": "stream",
     "text": [
      "Training:    (3481, 15)\n",
      "Validation:  (2321, 15)\n",
      "Training:    (2901, 15)\n",
      "Validation:  (1740, 15)\n",
      "Test:        (1161, 15)\n"
     ]
    }
   ],
   "source": [
    "# random_state is set to a defined value to get the same partitions when re-running\n",
    "# the code\n",
    "# training: 60 %\n",
    "# validation (test): 40%\n",
    "\n",
    "train_data, valid_data = train_test_split(housing_df, test_size=0.40, random_state=1)\n",
    "print(\"Training:   \", train_data.shape)\n",
    "print(\"Validation: \", valid_data.shape)\n",
    "\n",
    "# training: 50%\n",
    "# validation: 30%\n",
    "# test: 20%\n",
    "train_data, temp = train_test_split(housing_df, test_size=0.50, random_state=1)\n",
    "valid_data, test_data = train_test_split(temp, test_size=0.40, random_state=1)\n",
    "print(\"Training:   \", train_data.shape)\n",
    "print(\"Validation: \", valid_data.shape)\n",
    "print(\"Test:       \", test_data.shape)"
   ]
  },
  {
   "cell_type": "markdown",
   "id": "117ddcd2",
   "metadata": {},
   "source": [
    "# Building a Predictive Model"
   ]
  },
  {
   "cell_type": "markdown",
   "id": "14cc722e",
   "metadata": {},
   "source": [
    "As we already loaded the data and did some data manipulation with the `West Roxbury` dataset. Let's create the a list of predictors and the outcome\n",
    "\n",
    "Obs:\n",
    "\n",
    "TAX might be a very good predictor of home value in a numerical sense, but would it be useful if we wanted to apply our model to homes whose assessed value might not be known? For this reason, we will exclude TAX from the analysis.\n",
    "\n",
    "It is also useful to check for outliers that might be errors. Let's look to some of them:\n",
    "\n",
    " - Floors"
   ]
  },
  {
   "cell_type": "code",
   "execution_count": 17,
   "id": "03ecb5b1",
   "metadata": {},
   "outputs": [
    {
     "data": {
      "text/plain": [
       "2.0    3415\n",
       "1.0    1505\n",
       "1.5     773\n",
       "2.5     105\n",
       "3.0       4\n",
       "Name: floors, dtype: int64"
      ]
     },
     "execution_count": 17,
     "metadata": {},
     "output_type": "execute_result"
    }
   ],
   "source": [
    "housing_df.floors.value_counts()"
   ]
  },
  {
   "cell_type": "markdown",
   "id": "de06349b",
   "metadata": {},
   "source": [
    " - Rooms"
   ]
  },
  {
   "cell_type": "code",
   "execution_count": 18,
   "id": "319da892",
   "metadata": {},
   "outputs": [
    {
     "data": {
      "text/plain": [
       "7     1769\n",
       "6     1669\n",
       "8      936\n",
       "5      578\n",
       "9      450\n",
       "10     200\n",
       "4       71\n",
       "11      66\n",
       "12      45\n",
       "13      10\n",
       "14       5\n",
       "3        3\n",
       "Name: rooms, dtype: int64"
      ]
     },
     "execution_count": 18,
     "metadata": {},
     "output_type": "execute_result"
    }
   ],
   "source": [
    "housing_df.rooms.value_counts()"
   ]
  },
  {
   "cell_type": "markdown",
   "id": "ca9ac7f3",
   "metadata": {},
   "source": [
    " - Bedrooms"
   ]
  },
  {
   "cell_type": "code",
   "execution_count": 19,
   "id": "36c10dd1",
   "metadata": {},
   "outputs": [
    {
     "data": {
      "text/plain": [
       "3.0    3243\n",
       "4.0    1348\n",
       "2.0     817\n",
       "5.0     256\n",
       "6.0      90\n",
       "1.0      30\n",
       "7.0      14\n",
       "8.0       3\n",
       "9.0       1\n",
       "Name: bedrooms, dtype: int64"
      ]
     },
     "execution_count": 19,
     "metadata": {},
     "output_type": "execute_result"
    }
   ],
   "source": [
    "housing_df.bedrooms.value_counts()"
   ]
  },
  {
   "cell_type": "markdown",
   "id": "4bc28903",
   "metadata": {},
   "source": [
    " - Full Bath"
   ]
  },
  {
   "cell_type": "code",
   "execution_count": 20,
   "id": "94eb8652",
   "metadata": {},
   "outputs": [
    {
     "data": {
      "text/plain": [
       "1    4249\n",
       "2    1399\n",
       "3     140\n",
       "4      13\n",
       "5       1\n",
       "Name: full_bath, dtype: int64"
      ]
     },
     "execution_count": 20,
     "metadata": {},
     "output_type": "execute_result"
    }
   ],
   "source": [
    "housing_df.full_bath.value_counts()"
   ]
  },
  {
   "cell_type": "markdown",
   "id": "a464962f",
   "metadata": {},
   "source": [
    " - Half Bath"
   ]
  },
  {
   "cell_type": "code",
   "execution_count": 21,
   "id": "d6d42acc",
   "metadata": {},
   "outputs": [
    {
     "data": {
      "text/plain": [
       "1    3287\n",
       "0    2378\n",
       "2     136\n",
       "3       1\n",
       "Name: half_bath, dtype: int64"
      ]
     },
     "execution_count": 21,
     "metadata": {},
     "output_type": "execute_result"
    }
   ],
   "source": [
    "housing_df.half_bath.value_counts()"
   ]
  },
  {
   "cell_type": "markdown",
   "id": "6652bede",
   "metadata": {},
   "source": [
    " - Kitchen"
   ]
  },
  {
   "cell_type": "code",
   "execution_count": 22,
   "id": "312b09ca",
   "metadata": {},
   "outputs": [
    {
     "data": {
      "text/plain": [
       "1    5713\n",
       "2      89\n",
       "Name: kitchen, dtype: int64"
      ]
     },
     "execution_count": 22,
     "metadata": {},
     "output_type": "execute_result"
    }
   ],
   "source": [
    "housing_df.kitchen.value_counts()"
   ]
  },
  {
   "cell_type": "markdown",
   "id": "842f55df",
   "metadata": {},
   "source": [
    " - Fireplace"
   ]
  },
  {
   "cell_type": "code",
   "execution_count": 23,
   "id": "d4a3ed76",
   "metadata": {},
   "outputs": [
    {
     "data": {
      "text/plain": [
       "1    3658\n",
       "0    1842\n",
       "2     275\n",
       "3      23\n",
       "4       4\n",
       "Name: fireplace, dtype: int64"
      ]
     },
     "execution_count": 23,
     "metadata": {},
     "output_type": "execute_result"
    }
   ],
   "source": [
    "housing_df.fireplace.value_counts()"
   ]
  },
  {
   "cell_type": "markdown",
   "id": "15c1c9fa",
   "metadata": {},
   "source": [
    "Now creating the predictos and outcome:"
   ]
  },
  {
   "cell_type": "code",
   "execution_count": 24,
   "id": "485cb478",
   "metadata": {},
   "outputs": [],
   "source": [
    "# create list of predictors and outcome\n",
    "exclude_cols = (\"total_value\", \"tax\")\n",
    "predictors = [s for s in housing_df.columns if s not in exclude_cols]\n",
    "outcome = \"total_value\""
   ]
  },
  {
   "cell_type": "markdown",
   "id": "2c4ea2bc",
   "metadata": {},
   "source": [
    "Let's partition the data in training and validation sets:"
   ]
  },
  {
   "cell_type": "code",
   "execution_count": 25,
   "id": "4f94ea4d",
   "metadata": {},
   "outputs": [],
   "source": [
    "# Partition data\n",
    "X = housing_df[predictors]\n",
    "y = housing_df[outcome]\n",
    "\n",
    "train_X, valid_X, train_y, valid_y = train_test_split(X, y, test_size=0.40, random_state=1)"
   ]
  },
  {
   "cell_type": "markdown",
   "id": "8f7b8a25",
   "metadata": {},
   "source": [
    "And train the model. In this case, it is multiple linear regression.And train the model. We want to predict the value of a house in `West Roxbury` on the basis of all the other predictors (except TAX)."
   ]
  },
  {
   "cell_type": "code",
   "execution_count": 26,
   "id": "82a6b9b2",
   "metadata": {},
   "outputs": [
    {
     "data": {
      "text/plain": [
       "LinearRegression()"
      ]
     },
     "execution_count": 26,
     "metadata": {},
     "output_type": "execute_result"
    }
   ],
   "source": [
    "model = LinearRegression()\n",
    "model.fit(train_X, train_y)"
   ]
  },
  {
   "cell_type": "markdown",
   "id": "e5513523",
   "metadata": {},
   "source": [
    "Model prediction on training set:"
   ]
  },
  {
   "cell_type": "code",
   "execution_count": 27,
   "id": "dab04cef",
   "metadata": {},
   "outputs": [
    {
     "data": {
      "text/html": [
       "<div>\n",
       "<style scoped>\n",
       "    .dataframe tbody tr th:only-of-type {\n",
       "        vertical-align: middle;\n",
       "    }\n",
       "\n",
       "    .dataframe tbody tr th {\n",
       "        vertical-align: top;\n",
       "    }\n",
       "\n",
       "    .dataframe thead th {\n",
       "        text-align: right;\n",
       "    }\n",
       "</style>\n",
       "<table border=\"1\" class=\"dataframe\">\n",
       "  <thead>\n",
       "    <tr style=\"text-align: right;\">\n",
       "      <th></th>\n",
       "      <th>total_value</th>\n",
       "      <th>predicted</th>\n",
       "      <th>residual</th>\n",
       "    </tr>\n",
       "  </thead>\n",
       "  <tbody>\n",
       "    <tr>\n",
       "      <th>2024</th>\n",
       "      <td>392.0</td>\n",
       "      <td>387.692778</td>\n",
       "      <td>4.307222</td>\n",
       "    </tr>\n",
       "    <tr>\n",
       "      <th>5140</th>\n",
       "      <td>476.3</td>\n",
       "      <td>430.840645</td>\n",
       "      <td>45.459355</td>\n",
       "    </tr>\n",
       "    <tr>\n",
       "      <th>5259</th>\n",
       "      <td>367.4</td>\n",
       "      <td>384.030436</td>\n",
       "      <td>-16.630436</td>\n",
       "    </tr>\n",
       "    <tr>\n",
       "      <th>421</th>\n",
       "      <td>350.3</td>\n",
       "      <td>368.998307</td>\n",
       "      <td>-18.698307</td>\n",
       "    </tr>\n",
       "    <tr>\n",
       "      <th>1401</th>\n",
       "      <td>348.1</td>\n",
       "      <td>315.004776</td>\n",
       "      <td>33.095224</td>\n",
       "    </tr>\n",
       "  </tbody>\n",
       "</table>\n",
       "</div>"
      ],
      "text/plain": [
       "      total_value   predicted   residual\n",
       "2024        392.0  387.692778   4.307222\n",
       "5140        476.3  430.840645  45.459355\n",
       "5259        367.4  384.030436 -16.630436\n",
       "421         350.3  368.998307 -18.698307\n",
       "1401        348.1  315.004776  33.095224"
      ]
     },
     "execution_count": 27,
     "metadata": {},
     "output_type": "execute_result"
    }
   ],
   "source": [
    "train_pred = model.predict(train_X)\n",
    "train_results = pd.DataFrame({\n",
    "    \"total_value\": train_y,\n",
    "    \"predicted\": train_pred,\n",
    "    \"residual\": train_y - train_pred,\n",
    "})\n",
    "train_results.head()"
   ]
  },
  {
   "cell_type": "markdown",
   "id": "a9f44306",
   "metadata": {},
   "source": [
    "And validation set:"
   ]
  },
  {
   "cell_type": "code",
   "execution_count": 28,
   "id": "bc8d87a6",
   "metadata": {},
   "outputs": [
    {
     "data": {
      "text/html": [
       "<div>\n",
       "<style scoped>\n",
       "    .dataframe tbody tr th:only-of-type {\n",
       "        vertical-align: middle;\n",
       "    }\n",
       "\n",
       "    .dataframe tbody tr th {\n",
       "        vertical-align: top;\n",
       "    }\n",
       "\n",
       "    .dataframe thead th {\n",
       "        text-align: right;\n",
       "    }\n",
       "</style>\n",
       "<table border=\"1\" class=\"dataframe\">\n",
       "  <thead>\n",
       "    <tr style=\"text-align: right;\">\n",
       "      <th></th>\n",
       "      <th>total_value</th>\n",
       "      <th>predicted</th>\n",
       "      <th>residual</th>\n",
       "    </tr>\n",
       "  </thead>\n",
       "  <tbody>\n",
       "    <tr>\n",
       "      <th>1822</th>\n",
       "      <td>462.0</td>\n",
       "      <td>406.878702</td>\n",
       "      <td>55.121298</td>\n",
       "    </tr>\n",
       "    <tr>\n",
       "      <th>1998</th>\n",
       "      <td>370.4</td>\n",
       "      <td>362.834535</td>\n",
       "      <td>7.565465</td>\n",
       "    </tr>\n",
       "    <tr>\n",
       "      <th>5126</th>\n",
       "      <td>407.4</td>\n",
       "      <td>390.278439</td>\n",
       "      <td>17.121561</td>\n",
       "    </tr>\n",
       "    <tr>\n",
       "      <th>808</th>\n",
       "      <td>316.1</td>\n",
       "      <td>382.470841</td>\n",
       "      <td>-66.370841</td>\n",
       "    </tr>\n",
       "    <tr>\n",
       "      <th>4034</th>\n",
       "      <td>393.2</td>\n",
       "      <td>434.273851</td>\n",
       "      <td>-41.073851</td>\n",
       "    </tr>\n",
       "  </tbody>\n",
       "</table>\n",
       "</div>"
      ],
      "text/plain": [
       "      total_value   predicted   residual\n",
       "1822        462.0  406.878702  55.121298\n",
       "1998        370.4  362.834535   7.565465\n",
       "5126        407.4  390.278439  17.121561\n",
       "808         316.1  382.470841 -66.370841\n",
       "4034        393.2  434.273851 -41.073851"
      ]
     },
     "execution_count": 28,
     "metadata": {},
     "output_type": "execute_result"
    }
   ],
   "source": [
    "valid_pred = model.predict(valid_X)\n",
    "valid_results = pd.DataFrame({\n",
    "    \"total_value\": valid_y,\n",
    "    \"predicted\": valid_pred,\n",
    "    \"residual\": valid_y - valid_pred,\n",
    "})\n",
    "valid_results.head()"
   ]
  },
  {
   "cell_type": "markdown",
   "id": "de7c0c2a",
   "metadata": {},
   "source": [
    "Let's see the algorithm performance:"
   ]
  },
  {
   "cell_type": "code",
   "execution_count": 29,
   "id": "9c15341a",
   "metadata": {},
   "outputs": [
    {
     "name": "stdout",
     "output_type": "stream",
     "text": [
      "\n",
      "Regression statistics\n",
      "\n",
      "                      Mean Error (ME) : 0.0000\n",
      "       Root Mean Squared Error (RMSE) : 43.0348\n",
      "            Mean Absolute Error (MAE) : 32.6066\n",
      "          Mean Percentage Error (MPE) : -1.1118\n",
      "Mean Absolute Percentage Error (MAPE) : 8.4885\n",
      "\n",
      "Regression statistics\n",
      "\n",
      "                      Mean Error (ME) : -0.1483\n",
      "       Root Mean Squared Error (RMSE) : 42.7208\n",
      "            Mean Absolute Error (MAE) : 31.9569\n",
      "          Mean Percentage Error (MPE) : -1.0895\n",
      "Mean Absolute Percentage Error (MAPE) : 8.3256\n"
     ]
    }
   ],
   "source": [
    "# training set\n",
    "regression_summary(y_true=train_y, y_pred=train_pred)\n",
    "\n",
    "# validation set\n",
    "regression_summary(y_true=valid_y, y_pred=valid_pred)"
   ]
  },
  {
   "cell_type": "markdown",
   "id": "f95f335e",
   "metadata": {},
   "source": [
    "The first is mean error (ME), simply the average of the residuals (errors). In both cases, it is quite small relative to the units of TOTAL VALUE, indicating that, on balance, predictions average about right our predictions are “unbiased”. Of course, this simply means that the positive and negative errors balance out. It tells us nothing about how large these errors are.\n",
    "\n",
    "The root-mean-squared error (RMSE) is more informative of the error magnitude: it takes the square root of the average squared error, so it gives an idea of the typical error (whether positive or negative) in the same scale as that used for the original outcome variable. The RMSE for the validation data (\\\\$42.7K), which the model is seeing for the first time in making these predictions, is in the same range as for the training data (\\\\$43.0K), which were used in training the model. Normally, we expect the validation set error to be higher than for the training set."
   ]
  },
  {
   "cell_type": "markdown",
   "id": "70c67ef9",
   "metadata": {},
   "source": [
    "Simulating a model deployed for three new records:"
   ]
  },
  {
   "cell_type": "code",
   "execution_count": 30,
   "id": "2df983d6",
   "metadata": {},
   "outputs": [
    {
     "name": "stdout",
     "output_type": "stream",
     "text": [
      "   lot_sqft  yr_built  gross_area  living_area  floors  rooms  bedrooms  \\\n",
      "0      4200      1960        2670         1710     2.0     10         4   \n",
      "1      6444      1940        2886         1474     1.5      6         3   \n",
      "2      5035      1925        3264         1523     1.9      6         2   \n",
      "\n",
      "   full_bath  half_bath  kitchen  fireplace  remodel_Old  remodel_Recent  \n",
      "0          1          1        1          1            0               0  \n",
      "1          1          1        1          1            0               0  \n",
      "2          1          0        1          0            0               1  \n",
      "Predictions:  [384.45922888 378.09089303 385.8814195 ]\n"
     ]
    }
   ],
   "source": [
    "new_data = pd.DataFrame({\n",
    "    \"lot_sqft\": [4200, 6444, 5035],\n",
    "    \"yr_built\": [1960, 1940, 1925],\n",
    "    \"gross_area\": [2670, 2886, 3264],\n",
    "    \"living_area\": [1710, 1474, 1523],\n",
    "    \"floors\": [2.0, 1.5, 1.9],\n",
    "    \"rooms\": [10, 6, 6],\n",
    "    \"bedrooms\": [4, 3, 2],\n",
    "    \"full_bath\": [1, 1, 1],\n",
    "    \"half_bath\": [1, 1, 0],\n",
    "    \"kitchen\": [1, 1, 1],\n",
    "    \"fireplace\": [1, 1, 0],\n",
    "    \"remodel_Old\": [0, 0, 0],\n",
    "    \"remodel_Recent\": [0, 0, 1],\n",
    "})\n",
    "\n",
    "print(new_data)\n",
    "print(\"Predictions: \", model.predict(new_data))"
   ]
  },
  {
   "cell_type": "markdown",
   "id": "6f9992e8",
   "metadata": {},
   "source": [
    "The model is used in new data to predict TOTAL VALUE for homes where this value is unknown. Predicting the output value for new records is called scoring. For predictive tasks, scoring produces predicted numerical values. For classification tasks, scoring produces classes and/or propensities."
   ]
  }
 ],
 "metadata": {
  "kernelspec": {
   "display_name": "Python 3",
   "language": "python",
   "name": "python3"
  },
  "language_info": {
   "codemirror_mode": {
    "name": "ipython",
    "version": 3
   },
   "file_extension": ".py",
   "mimetype": "text/x-python",
   "name": "python",
   "nbconvert_exporter": "python",
   "pygments_lexer": "ipython3",
   "version": "3.8.5"
  },
  "varInspector": {
   "cols": {
    "lenName": 16,
    "lenType": 16,
    "lenVar": 40
   },
   "kernels_config": {
    "python": {
     "delete_cmd_postfix": "",
     "delete_cmd_prefix": "del ",
     "library": "var_list.py",
     "varRefreshCmd": "print(var_dic_list())"
    },
    "r": {
     "delete_cmd_postfix": ") ",
     "delete_cmd_prefix": "rm(",
     "library": "var_list.r",
     "varRefreshCmd": "cat(var_dic_list()) "
    }
   },
   "oldHeight": 245.85000000000002,
   "position": {
    "height": "40px",
    "left": "707px",
    "right": "20px",
    "top": "394px",
    "width": "525px"
   },
   "types_to_exclude": [
    "module",
    "function",
    "builtin_function_or_method",
    "instance",
    "_Feature"
   ],
   "varInspector_section_display": "none",
   "window_display": false
  }
 },
 "nbformat": 4,
 "nbformat_minor": 5
}
