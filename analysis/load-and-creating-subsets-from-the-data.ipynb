{
 "cells": [
  {
   "cell_type": "markdown",
   "id": "3006d9e5",
   "metadata": {},
   "source": [
    "# Preliminary Steps\n",
    "\n",
    "## Analysis of WestRoxbury.csv\n",
    "\n",
    "Description of variables in West Roxbury (Boston) Home Value Dataset\n",
    "\n",
    "- *TOTAL VALUE*: Total assessed value for property, in thousands of USD\n",
    "- *TAX*: Tax bill amount based on total assessed value multiplied by the tax rate, in USD\n",
    "- *LOT SQ FT*: Total lot size of parcel (ft 2 )\n",
    "- *YR BUILT*: Year the property was built\n",
    "- *GROSS AREA*: Gross floor area\n",
    "- *LIVING AREA*: Total living area for residential properties (ft 2 )\n",
    "- *FLOORS*: Number of floors\n",
    "- *ROOMS*: Total number of rooms\n",
    "- *BEDROOMS*: Total number of bedrooms\n",
    "- *FULL BATH*: Total number of full baths\n",
    "- *HALF BATH*: Total number of half baths\n",
    "- *KITCHEN*: Total number of kitchens\n",
    "- *FIREPLACE*: Total number of fireplaces\n",
    "- *REMODEL*: When the house was remodeled (recent/old/none)"
   ]
  },
  {
   "cell_type": "markdown",
   "id": "9c68803a",
   "metadata": {},
   "source": [
    "Packages imports and data load:"
   ]
  },
  {
   "cell_type": "code",
   "execution_count": 1,
   "id": "de537781",
   "metadata": {},
   "outputs": [
    {
     "name": "stdout",
     "output_type": "stream",
     "text": [
      "DataFrame Dimension:\n",
      "(5802, 14)\n",
      "\n",
      "\n",
      "First five rows:\n",
      "   TOTAL VALUE    TAX  LOT SQFT   YR BUILT  GROSS AREA   LIVING AREA  FLOORS   \\\n",
      "0         344.2  4330       9965      1880         2436         1352      2.0   \n",
      "1         412.6  5190       6590      1945         3108         1976      2.0   \n",
      "2         330.1  4152       7500      1890         2294         1371      2.0   \n",
      "3         498.6  6272      13773      1957         5032         2608      1.0   \n",
      "4         331.5  4170       5000      1910         2370         1438      2.0   \n",
      "\n",
      "   ROOMS  BEDROOMS   FULL BATH  HALF BATH  KITCHEN  FIREPLACE REMODEL  \n",
      "0      6          3          1          1        1          0    None  \n",
      "1     10          4          2          1        1          0  Recent  \n",
      "2      8          4          1          1        1          0    None  \n",
      "3      9          5          1          1        1          1    None  \n",
      "4      7          3          2          0        1          0    None  \n",
      "\n",
      "\n"
     ]
    }
   ],
   "source": [
    "# Import required packages\n",
    "from typing import List, Tuple\n",
    "import numpy as np\n",
    "import pandas as pd\n",
    "\n",
    "from sklearn.preprocessing import MinMaxScaler, StandardScaler\n",
    "\n",
    "def print_values(l: List[Tuple]):\n",
    "    \"\"\"Receives a list of 2-dimensional on the form ('desc','vals') and print them.\"\"\"\n",
    "    for desc, vals in l:\n",
    "        print(desc + \":\")\n",
    "        print(vals)\n",
    "        print(\"\\n\")\n",
    "\n",
    "# Load data\n",
    "housing_df = pd.read_csv(\"../datasets/WestRoxbury.csv\")\n",
    "info = [(\"DataFrame Dimension\", housing_df.shape),\n",
    "        (\"First five rows\", housing_df.head())]\n",
    "print_values(info)"
   ]
  },
  {
   "cell_type": "markdown",
   "id": "bc7402d8",
   "metadata": {},
   "source": [
    "Renaming the colums:"
   ]
  },
  {
   "cell_type": "code",
   "execution_count": 2,
   "id": "a46855ee",
   "metadata": {},
   "outputs": [
    {
     "name": "stdout",
     "output_type": "stream",
     "text": [
      "Index(['total_value', 'tax', 'lot_sqft', 'yr_built', 'gross_area',\n",
      "       'living_area', 'floors', 'rooms', 'bedrooms', 'full_bath', 'half_bath',\n",
      "       'kitchen', 'fireplace', 'remodel'],\n",
      "      dtype='object')\n"
     ]
    }
   ],
   "source": [
    "housing_df.columns = [s.strip().replace(\" \", \"_\").lower() for s in housing_df.columns]\n",
    "print(housing_df.columns)"
   ]
  },
  {
   "cell_type": "markdown",
   "id": "3c11dc5f",
   "metadata": {},
   "source": [
    "Showing some rows with `loc` and `iloc`:"
   ]
  },
  {
   "cell_type": "code",
   "execution_count": 3,
   "id": "79edde8d",
   "metadata": {},
   "outputs": [
    {
     "name": "stdout",
     "output_type": "stream",
     "text": [
      "loc:\n",
      "   total_value   tax  lot_sqft  yr_built  gross_area  living_area  floors  \\\n",
      "0        344.2  4330      9965      1880        2436         1352     2.0   \n",
      "1        412.6  5190      6590      1945        3108         1976     2.0   \n",
      "2        330.1  4152      7500      1890        2294         1371     2.0   \n",
      "3        498.6  6272     13773      1957        5032         2608     1.0   \n",
      "\n",
      "   rooms  bedrooms  full_bath  half_bath  kitchen  fireplace remodel  \n",
      "0      6         3          1          1        1          0    None  \n",
      "1     10         4          2          1        1          0  Recent  \n",
      "2      8         4          1          1        1          0    None  \n",
      "3      9         5          1          1        1          1    None  \n",
      "\n",
      "\n",
      "iloc:\n",
      "   total_value   tax  lot_sqft  yr_built  gross_area  living_area  floors  \\\n",
      "0        344.2  4330      9965      1880        2436         1352     2.0   \n",
      "1        412.6  5190      6590      1945        3108         1976     2.0   \n",
      "2        330.1  4152      7500      1890        2294         1371     2.0   \n",
      "3        498.6  6272     13773      1957        5032         2608     1.0   \n",
      "\n",
      "   rooms  bedrooms  full_bath  half_bath  kitchen  fireplace remodel  \n",
      "0      6         3          1          1        1          0    None  \n",
      "1     10         4          2          1        1          0  Recent  \n",
      "2      8         4          1          1        1          0    None  \n",
      "3      9         5          1          1        1          1    None  \n",
      "\n",
      "\n"
     ]
    }
   ],
   "source": [
    "# loc[a:b] gives rows a to b, inclusive\n",
    "info = list()\n",
    "info.append((\"loc\", housing_df.loc[0:3]))\n",
    "\n",
    "# iloc[a:b] gives rows a to b-1\n",
    "info.append((\"iloc\", housing_df.iloc[0:4]))\n",
    "\n",
    "print_values(info)"
   ]
  },
  {
   "cell_type": "markdown",
   "id": "7596c5e4",
   "metadata": {},
   "source": [
    "Different ways to show the first 3 values for `total_value`:"
   ]
  },
  {
   "cell_type": "code",
   "execution_count": 4,
   "id": "c0a550b2",
   "metadata": {},
   "outputs": [
    {
     "name": "stdout",
     "output_type": "stream",
     "text": [
      "0    344.2\n",
      "1    412.6\n",
      "2    330.1\n",
      "Name: total_value, dtype: float64\n",
      "0    344.2\n",
      "1    412.6\n",
      "2    330.1\n",
      "Name: total_value, dtype: float64\n",
      "0    344.2\n",
      "1    412.6\n",
      "2    330.1\n",
      "Name: total_value, dtype: float64\n"
     ]
    }
   ],
   "source": [
    "print(housing_df[\"total_value\"][0:3])\n",
    "print(housing_df.iloc[0:3][\"total_value\"])\n",
    "print(housing_df.iloc[0:3].total_value) # only when the column name does not have spaces"
   ]
  },
  {
   "cell_type": "markdown",
   "id": "ccc1605f",
   "metadata": {},
   "source": [
    "Show the second row of the first ten columns:"
   ]
  },
  {
   "cell_type": "code",
   "execution_count": 5,
   "id": "06679d38",
   "metadata": {},
   "outputs": [
    {
     "name": "stdout",
     "output_type": "stream",
     "text": [
      "total_value    330.1\n",
      "tax             4152\n",
      "lot_sqft        7500\n",
      "yr_built        1890\n",
      "gross_area      2294\n",
      "living_area     1371\n",
      "floors           2.0\n",
      "rooms              8\n",
      "bedrooms           4\n",
      "full_bath          1\n",
      "Name: 2, dtype: object\n",
      "total_value    330.1\n",
      "tax             4152\n",
      "lot_sqft        7500\n",
      "yr_built        1890\n",
      "gross_area      2294\n",
      "living_area     1371\n",
      "floors           2.0\n",
      "rooms              8\n",
      "bedrooms           4\n",
      "full_bath          1\n",
      "Name: 2, dtype: object\n",
      "   total_value   tax  lot_sqft  yr_built  gross_area  living_area  floors  \\\n",
      "2        330.1  4152      7500      1890        2294         1371     2.0   \n",
      "\n",
      "   rooms  bedrooms  full_bath  \n",
      "2      8         4          1  \n"
     ]
    }
   ],
   "source": [
    "print(housing_df.iloc[2][0:10])\n",
    "print(housing_df.iloc[2, 0:10])\n",
    "print(housing_df.iloc[2:3, 0:10]) # use a slice to return a data frame"
   ]
  },
  {
   "cell_type": "markdown",
   "id": "15eb9d01",
   "metadata": {},
   "source": [
    "Concatenating columns:"
   ]
  },
  {
   "cell_type": "code",
   "execution_count": 6,
   "id": "efc60450",
   "metadata": {},
   "outputs": [
    {
     "data": {
      "text/html": [
       "<div>\n",
       "<style scoped>\n",
       "    .dataframe tbody tr th:only-of-type {\n",
       "        vertical-align: middle;\n",
       "    }\n",
       "\n",
       "    .dataframe tbody tr th {\n",
       "        vertical-align: top;\n",
       "    }\n",
       "\n",
       "    .dataframe thead th {\n",
       "        text-align: right;\n",
       "    }\n",
       "</style>\n",
       "<table border=\"1\" class=\"dataframe\">\n",
       "  <thead>\n",
       "    <tr style=\"text-align: right;\">\n",
       "      <th></th>\n",
       "      <th>total_value</th>\n",
       "      <th>tax</th>\n",
       "      <th>gross_area</th>\n",
       "      <th>living_area</th>\n",
       "    </tr>\n",
       "  </thead>\n",
       "  <tbody>\n",
       "    <tr>\n",
       "      <th>4</th>\n",
       "      <td>331.5</td>\n",
       "      <td>4170</td>\n",
       "      <td>2370</td>\n",
       "      <td>1438</td>\n",
       "    </tr>\n",
       "    <tr>\n",
       "      <th>5</th>\n",
       "      <td>337.4</td>\n",
       "      <td>4244</td>\n",
       "      <td>2124</td>\n",
       "      <td>1060</td>\n",
       "    </tr>\n",
       "  </tbody>\n",
       "</table>\n",
       "</div>"
      ],
      "text/plain": [
       "   total_value   tax  gross_area  living_area\n",
       "4        331.5  4170        2370         1438\n",
       "5        337.4  4244        2124         1060"
      ]
     },
     "execution_count": 6,
     "metadata": {},
     "output_type": "execute_result"
    }
   ],
   "source": [
    "# Use pd.concat to combine non-consecutive columns into a new data frame.\n",
    "# The axis argument specifies the dimension along which the\n",
    "# concatenation happens, 0=rows, 1=columns.\n",
    "pd.concat([housing_df.iloc[4:6, 0:2], housing_df.iloc[4:6, 4:6]],\n",
    "          axis=1)"
   ]
  },
  {
   "cell_type": "markdown",
   "id": "4eadc83b",
   "metadata": {},
   "source": [
    "Specifying a full column:"
   ]
  },
  {
   "cell_type": "code",
   "execution_count": 7,
   "id": "8de84747",
   "metadata": {},
   "outputs": [
    {
     "data": {
      "text/plain": [
       "(      total_value\n",
       " 0           344.2\n",
       " 1           412.6\n",
       " 2           330.1\n",
       " 3           498.6\n",
       " 4           331.5\n",
       " ...           ...\n",
       " 5797        404.8\n",
       " 5798        407.9\n",
       " 5799        406.5\n",
       " 5800        308.7\n",
       " 5801        447.6\n",
       " \n",
       " [5802 rows x 1 columns],\n",
       " 0       344.2\n",
       " 1       412.6\n",
       " 2       330.1\n",
       " 3       498.6\n",
       " 4       331.5\n",
       "         ...  \n",
       " 5797    404.8\n",
       " 5798    407.9\n",
       " 5799    406.5\n",
       " 5800    308.7\n",
       " 5801    447.6\n",
       " Name: total_value, Length: 5802, dtype: float64)"
      ]
     },
     "execution_count": 7,
     "metadata": {},
     "output_type": "execute_result"
    }
   ],
   "source": [
    "(housing_df.iloc[:,0:1],\n",
    " housing_df.total_value)"
   ]
  },
  {
   "cell_type": "markdown",
   "id": "0923b60c",
   "metadata": {},
   "source": [
    "Descriptive Statistics:"
   ]
  },
  {
   "cell_type": "code",
   "execution_count": 8,
   "id": "3093db2f",
   "metadata": {},
   "outputs": [
    {
     "name": "stdout",
     "output_type": "stream",
     "text": [
      "Number of rows:  5802\n",
      "Mean of 'total_value':  392.6857149258877\n"
     ]
    },
    {
     "data": {
      "text/html": [
       "<div>\n",
       "<style scoped>\n",
       "    .dataframe tbody tr th:only-of-type {\n",
       "        vertical-align: middle;\n",
       "    }\n",
       "\n",
       "    .dataframe tbody tr th {\n",
       "        vertical-align: top;\n",
       "    }\n",
       "\n",
       "    .dataframe thead th {\n",
       "        text-align: right;\n",
       "    }\n",
       "</style>\n",
       "<table border=\"1\" class=\"dataframe\">\n",
       "  <thead>\n",
       "    <tr style=\"text-align: right;\">\n",
       "      <th></th>\n",
       "      <th>total_value</th>\n",
       "      <th>tax</th>\n",
       "      <th>lot_sqft</th>\n",
       "      <th>yr_built</th>\n",
       "      <th>gross_area</th>\n",
       "      <th>living_area</th>\n",
       "      <th>floors</th>\n",
       "      <th>rooms</th>\n",
       "      <th>bedrooms</th>\n",
       "      <th>full_bath</th>\n",
       "      <th>half_bath</th>\n",
       "      <th>kitchen</th>\n",
       "      <th>fireplace</th>\n",
       "    </tr>\n",
       "  </thead>\n",
       "  <tbody>\n",
       "    <tr>\n",
       "      <th>count</th>\n",
       "      <td>5802.000000</td>\n",
       "      <td>5802.000000</td>\n",
       "      <td>5802.000000</td>\n",
       "      <td>5802.000000</td>\n",
       "      <td>5802.000000</td>\n",
       "      <td>5802.000000</td>\n",
       "      <td>5802.000000</td>\n",
       "      <td>5802.000000</td>\n",
       "      <td>5802.000000</td>\n",
       "      <td>5802.000000</td>\n",
       "      <td>5802.000000</td>\n",
       "      <td>5802.00000</td>\n",
       "      <td>5802.000000</td>\n",
       "    </tr>\n",
       "    <tr>\n",
       "      <th>mean</th>\n",
       "      <td>392.685715</td>\n",
       "      <td>4939.485867</td>\n",
       "      <td>6278.083764</td>\n",
       "      <td>1936.744916</td>\n",
       "      <td>2924.842123</td>\n",
       "      <td>1657.065322</td>\n",
       "      <td>1.683730</td>\n",
       "      <td>6.994829</td>\n",
       "      <td>3.230093</td>\n",
       "      <td>1.296794</td>\n",
       "      <td>0.613926</td>\n",
       "      <td>1.01534</td>\n",
       "      <td>0.739917</td>\n",
       "    </tr>\n",
       "    <tr>\n",
       "      <th>std</th>\n",
       "      <td>99.177414</td>\n",
       "      <td>1247.649118</td>\n",
       "      <td>2669.707974</td>\n",
       "      <td>35.989910</td>\n",
       "      <td>883.984726</td>\n",
       "      <td>540.456726</td>\n",
       "      <td>0.444884</td>\n",
       "      <td>1.437657</td>\n",
       "      <td>0.846607</td>\n",
       "      <td>0.522040</td>\n",
       "      <td>0.533839</td>\n",
       "      <td>0.12291</td>\n",
       "      <td>0.565108</td>\n",
       "    </tr>\n",
       "    <tr>\n",
       "      <th>min</th>\n",
       "      <td>105.000000</td>\n",
       "      <td>1320.000000</td>\n",
       "      <td>997.000000</td>\n",
       "      <td>0.000000</td>\n",
       "      <td>821.000000</td>\n",
       "      <td>504.000000</td>\n",
       "      <td>1.000000</td>\n",
       "      <td>3.000000</td>\n",
       "      <td>1.000000</td>\n",
       "      <td>1.000000</td>\n",
       "      <td>0.000000</td>\n",
       "      <td>1.00000</td>\n",
       "      <td>0.000000</td>\n",
       "    </tr>\n",
       "    <tr>\n",
       "      <th>25%</th>\n",
       "      <td>325.125000</td>\n",
       "      <td>4089.500000</td>\n",
       "      <td>4772.000000</td>\n",
       "      <td>1920.000000</td>\n",
       "      <td>2347.000000</td>\n",
       "      <td>1308.000000</td>\n",
       "      <td>1.000000</td>\n",
       "      <td>6.000000</td>\n",
       "      <td>3.000000</td>\n",
       "      <td>1.000000</td>\n",
       "      <td>0.000000</td>\n",
       "      <td>1.00000</td>\n",
       "      <td>0.000000</td>\n",
       "    </tr>\n",
       "    <tr>\n",
       "      <th>50%</th>\n",
       "      <td>375.900000</td>\n",
       "      <td>4728.000000</td>\n",
       "      <td>5683.000000</td>\n",
       "      <td>1935.000000</td>\n",
       "      <td>2700.000000</td>\n",
       "      <td>1548.500000</td>\n",
       "      <td>2.000000</td>\n",
       "      <td>7.000000</td>\n",
       "      <td>3.000000</td>\n",
       "      <td>1.000000</td>\n",
       "      <td>1.000000</td>\n",
       "      <td>1.00000</td>\n",
       "      <td>1.000000</td>\n",
       "    </tr>\n",
       "    <tr>\n",
       "      <th>75%</th>\n",
       "      <td>438.775000</td>\n",
       "      <td>5519.500000</td>\n",
       "      <td>7022.250000</td>\n",
       "      <td>1955.000000</td>\n",
       "      <td>3239.000000</td>\n",
       "      <td>1873.750000</td>\n",
       "      <td>2.000000</td>\n",
       "      <td>8.000000</td>\n",
       "      <td>4.000000</td>\n",
       "      <td>2.000000</td>\n",
       "      <td>1.000000</td>\n",
       "      <td>1.00000</td>\n",
       "      <td>1.000000</td>\n",
       "    </tr>\n",
       "    <tr>\n",
       "      <th>max</th>\n",
       "      <td>1217.800000</td>\n",
       "      <td>15319.000000</td>\n",
       "      <td>46411.000000</td>\n",
       "      <td>2011.000000</td>\n",
       "      <td>8154.000000</td>\n",
       "      <td>5289.000000</td>\n",
       "      <td>3.000000</td>\n",
       "      <td>14.000000</td>\n",
       "      <td>9.000000</td>\n",
       "      <td>5.000000</td>\n",
       "      <td>3.000000</td>\n",
       "      <td>2.00000</td>\n",
       "      <td>4.000000</td>\n",
       "    </tr>\n",
       "  </tbody>\n",
       "</table>\n",
       "</div>"
      ],
      "text/plain": [
       "       total_value           tax      lot_sqft     yr_built   gross_area  \\\n",
       "count  5802.000000   5802.000000   5802.000000  5802.000000  5802.000000   \n",
       "mean    392.685715   4939.485867   6278.083764  1936.744916  2924.842123   \n",
       "std      99.177414   1247.649118   2669.707974    35.989910   883.984726   \n",
       "min     105.000000   1320.000000    997.000000     0.000000   821.000000   \n",
       "25%     325.125000   4089.500000   4772.000000  1920.000000  2347.000000   \n",
       "50%     375.900000   4728.000000   5683.000000  1935.000000  2700.000000   \n",
       "75%     438.775000   5519.500000   7022.250000  1955.000000  3239.000000   \n",
       "max    1217.800000  15319.000000  46411.000000  2011.000000  8154.000000   \n",
       "\n",
       "       living_area       floors        rooms     bedrooms    full_bath  \\\n",
       "count  5802.000000  5802.000000  5802.000000  5802.000000  5802.000000   \n",
       "mean   1657.065322     1.683730     6.994829     3.230093     1.296794   \n",
       "std     540.456726     0.444884     1.437657     0.846607     0.522040   \n",
       "min     504.000000     1.000000     3.000000     1.000000     1.000000   \n",
       "25%    1308.000000     1.000000     6.000000     3.000000     1.000000   \n",
       "50%    1548.500000     2.000000     7.000000     3.000000     1.000000   \n",
       "75%    1873.750000     2.000000     8.000000     4.000000     2.000000   \n",
       "max    5289.000000     3.000000    14.000000     9.000000     5.000000   \n",
       "\n",
       "         half_bath     kitchen    fireplace  \n",
       "count  5802.000000  5802.00000  5802.000000  \n",
       "mean      0.613926     1.01534     0.739917  \n",
       "std       0.533839     0.12291     0.565108  \n",
       "min       0.000000     1.00000     0.000000  \n",
       "25%       0.000000     1.00000     0.000000  \n",
       "50%       1.000000     1.00000     1.000000  \n",
       "75%       1.000000     1.00000     1.000000  \n",
       "max       3.000000     2.00000     4.000000  "
      ]
     },
     "execution_count": 8,
     "metadata": {},
     "output_type": "execute_result"
    }
   ],
   "source": [
    "print(\"Number of rows: \", len(housing_df.total_value)) # show lenght of the total_value column\n",
    "print(\"Mean of 'total_value': \", housing_df.total_value.mean()) # show mwan of column\n",
    "housing_df.describe() # show summary statistics for each column"
   ]
  },
  {
   "cell_type": "markdown",
   "id": "2dc77268",
   "metadata": {},
   "source": [
    "# Sampling in `pandas`"
   ]
  },
  {
   "cell_type": "code",
   "execution_count": 9,
   "id": "b2e7e1b5",
   "metadata": {},
   "outputs": [
    {
     "name": "stdout",
     "output_type": "stream",
     "text": [
      "      total_value   tax  lot_sqft  yr_built  gross_area  living_area  floors  \\\n",
      "1441        298.1  3750      4052      1959        2463         1313     1.5   \n",
      "582         325.9  4099      5992      1964        2904         1566     1.5   \n",
      "1175        317.5  3994      8250      1935        2276         1250     1.5   \n",
      "4780        379.9  4779      5254      1950        2852         1306     1.5   \n",
      "3007        292.6  3680      6000      1931        2292         1146     1.0   \n",
      "\n",
      "      rooms  bedrooms  full_bath  half_bath  kitchen  fireplace remodel  \n",
      "1441      6         3          2          0        1          1  Recent  \n",
      "582       8         3          2          1        1          1    None  \n",
      "1175      6         2          2          0        1          1    None  \n",
      "4780      7         4          1          1        1          1    None  \n",
      "3007      5         2          1          0        1          1    None  \n",
      "      total_value   tax  lot_sqft  yr_built  gross_area  living_area  floors  \\\n",
      "5447       603.36  7590      8945      1950        4952         2827     2.0   \n",
      "2608       410.90  5169      4700      1968        2822         1586     2.0   \n",
      "2589       530.30  6671     10000      1890        4628         2908     2.0   \n",
      "3283       639.60  8046     12500      1910        6287         3493     2.0   \n",
      "2453       564.70  7103      7676      1907        3596         2360     2.0   \n",
      "\n",
      "      rooms  bedrooms  full_bath  half_bath  kitchen  fireplace remodel  \n",
      "5447     12         4          4          0        1          1  Recent  \n",
      "2608     12         3          2          1        1          1    None  \n",
      "2589     11         6          1          1        1          1    None  \n",
      "3283     12         4          1          1        1          2    None  \n",
      "2453     11         5          2          1        1          1  Recent  \n"
     ]
    }
   ],
   "source": [
    "# random sample of 5 observations\n",
    "print(housing_df.sample(5))\n",
    "\n",
    "# oversample houses with over 10 rooms\n",
    "weights = [0.9 if rooms > 10 else 0.01 for rooms in housing_df.rooms]\n",
    "print(housing_df.sample(5, weights=weights))"
   ]
  },
  {
   "cell_type": "markdown",
   "id": "a14d7c96",
   "metadata": {},
   "source": [
    "# Preprocessing and Cleaning the Data"
   ]
  },
  {
   "cell_type": "code",
   "execution_count": 10,
   "id": "9c259a8f",
   "metadata": {},
   "outputs": [
    {
     "name": "stdout",
     "output_type": "stream",
     "text": [
      "Columns:\n",
      "Index(['total_value', 'tax', 'lot_sqft', 'yr_built', 'gross_area',\n",
      "       'living_area', 'floors', 'rooms', 'bedrooms', 'full_bath', 'half_bath',\n",
      "       'kitchen', 'fireplace', 'remodel'],\n",
      "      dtype='object')\n",
      "\n",
      "\n",
      "Categories:\n",
      "Index(['None', 'Old', 'Recent'], dtype='object')\n",
      "\n",
      "\n",
      "Column type:\n",
      "category\n",
      "\n",
      "\n"
     ]
    }
   ],
   "source": [
    "info = list()\n",
    "\n",
    "# Column names\n",
    "info.append((\"Columns\", housing_df.columns))\n",
    "\n",
    "# Remodel needs to be converted to a categorical variable\n",
    "housing_df.remodel = housing_df.remodel.astype(\"category\")\n",
    "\n",
    "# Show the number of categories\n",
    "info.append((\"Categories\", housing_df.remodel.cat.categories)) \n",
    "# Check type of converted variable\n",
    "info.append((\"Column type\", housing_df.remodel.dtype))\n",
    "\n",
    "print_values(info)"
   ]
  },
  {
   "cell_type": "markdown",
   "id": "fbed7245",
   "metadata": {},
   "source": [
    "To create binary dummies (indicators):"
   ]
  },
  {
   "cell_type": "code",
   "execution_count": 11,
   "id": "4ffc053b",
   "metadata": {},
   "outputs": [
    {
     "name": "stdout",
     "output_type": "stream",
     "text": [
      "Index(['total_value', 'tax', 'lot_sqft', 'yr_built', 'gross_area',\n",
      "       'living_area', 'floors', 'rooms', 'bedrooms', 'full_bath', 'half_bath',\n",
      "       'kitchen', 'fireplace', 'remodel_Old', 'remodel_Recent'],\n",
      "      dtype='object')\n"
     ]
    }
   ],
   "source": [
    "# Use drop_first=True to drop the first dummy variable\n",
    "housing_df = pd.get_dummies(housing_df, prefix_sep=\"_\", drop_first=True)\n",
    "print(housing_df.columns)"
   ]
  },
  {
   "cell_type": "code",
   "execution_count": 12,
   "id": "03422a73",
   "metadata": {},
   "outputs": [
    {
     "name": "stdout",
     "output_type": "stream",
     "text": [
      "   remodel_Old  remodel_Recent\n",
      "0            0               0\n",
      "1            0               1\n",
      "2            0               0\n",
      "3            0               0\n",
      "4            0               0\n"
     ]
    }
   ],
   "source": [
    "print(housing_df.loc[:, [\"remodel_Old\", \"remodel_Recent\"]].head())"
   ]
  },
  {
   "cell_type": "markdown",
   "id": "0f7ad1e1",
   "metadata": {},
   "source": [
    "# Imputing Missing Data"
   ]
  },
  {
   "cell_type": "code",
   "execution_count": 13,
   "id": "b3c42509",
   "metadata": {},
   "outputs": [
    {
     "name": "stdout",
     "output_type": "stream",
     "text": [
      "Number of rows with valid 'bedrooms' values before setting to NAN:  5802\n",
      "Number of rows after removing rows with missing values:  5792\n",
      "Number of rows with valid 'bedrooms' values after filling NA values:  5802\n"
     ]
    }
   ],
   "source": [
    "# To illustrate missing data procedures, we first convert a few entries for\n",
    "# bedrooms to NA’s. Then we impute these missing values using the median of the\n",
    "# remaining values.\n",
    "\n",
    "print(\"Number of rows with valid 'bedrooms' values before setting to NAN: \",\n",
    "      housing_df.bedrooms.count())\n",
    "\n",
    "# remove rows with missing values\n",
    "missing_rows = housing_df.sample(10).index\n",
    "housing_df.loc[missing_rows, \"bedrooms\"] = np.nan\n",
    "reduced_df = housing_df.dropna()\n",
    "print(\"Number of rows after removing rows with missing values: \",\n",
    "      len(reduced_df.bedrooms))\n",
    "\n",
    "# replace the missing values using the median of the remaining values\n",
    "median_bedrooms = housing_df.bedrooms.median()\n",
    "housing_df.bedrooms = housing_df.bedrooms.fillna(value=median_bedrooms)\n",
    "print(\"Number of rows with valid 'bedrooms' values after filling NA values: \",\n",
    "      housing_df.bedrooms.count())"
   ]
  },
  {
   "cell_type": "markdown",
   "id": "37d6c98f",
   "metadata": {},
   "source": [
    "# Normalizing and rescaling data"
   ]
  },
  {
   "cell_type": "code",
   "execution_count": 14,
   "id": "354304ab",
   "metadata": {},
   "outputs": [],
   "source": [
    "df = housing_df.copy()\n",
    "\n",
    "# Normalizing a data frame\n",
    "# pandas:\n",
    "norm_df = (housing_df - housing_df.mean()) / housing_df.std()\n",
    "\n",
    "# scikit-learn:\n",
    "# the result of the transformation is a numpy array, we convert it into a dataframe\n",
    "scaler = StandardScaler()\n",
    "norm_df = pd.DataFrame(scaler.fit_transform(housing_df),\n",
    "                       index=housing_df.index,\n",
    "                       columns=housing_df.columns)\n",
    "\n",
    "# Rescaling a data frame\n",
    "# pandas:\n",
    "norm_df = (housing_df - housing_df.min()) / (housing_df.max() - housing_df.min())\n",
    "\n",
    "# scikit-learn:\n",
    "scaler = MinMaxScaler()\n",
    "norm_df = pd.DataFrame(scaler.fit_transform(housing_df),\n",
    "                       index=housing_df.index,\n",
    "                       columns=housing_df.columns)"
   ]
  },
  {
   "cell_type": "code",
   "execution_count": null,
   "id": "87da1c3a",
   "metadata": {},
   "outputs": [],
   "source": []
  }
 ],
 "metadata": {
  "kernelspec": {
   "display_name": "Python 3",
   "language": "python",
   "name": "python3"
  },
  "language_info": {
   "codemirror_mode": {
    "name": "ipython",
    "version": 3
   },
   "file_extension": ".py",
   "mimetype": "text/x-python",
   "name": "python",
   "nbconvert_exporter": "python",
   "pygments_lexer": "ipython3",
   "version": "3.8.5"
  }
 },
 "nbformat": 4,
 "nbformat_minor": 5
}
