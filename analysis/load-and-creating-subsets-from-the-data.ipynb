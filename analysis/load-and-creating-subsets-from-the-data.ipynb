{
 "cells": [
  {
   "cell_type": "markdown",
   "id": "3006d9e5",
   "metadata": {},
   "source": [
    "# Preliminary Steps\n",
    "\n",
    "## Analysis of WestRoxbury.csv\n",
    "\n",
    "Description of variables in West Roxbury (Boston) Home Value Dataset\n",
    "\n",
    "- *TOTAL VALUE*: Total assessed value for property, in thousands of USD\n",
    "- *TAX*: Tax bill amount based on total assessed value multiplied by the tax rate, in USD\n",
    "- *LOT SQ FT*: Total lot size of parcel (ft 2 )\n",
    "- *YR BUILT*: Year the property was built\n",
    "- *GROSS AREA*: Gross floor area\n",
    "- *LIVING AREA*: Total living area for residential properties (ft 2 )\n",
    "- *FLOORS*: Number of floors\n",
    "- *ROOMS*: Total number of rooms\n",
    "- *BEDROOMS*: Total number of bedrooms\n",
    "- *FULL BATH*: Total number of full baths\n",
    "- *HALF BATH*: Total number of half baths\n",
    "- *KITCHEN*: Total number of kitchens\n",
    "- *FIREPLACE*: Total number of fireplaces\n",
    "- *REMODEL*: When the house was remodeled (recent/old/none)"
   ]
  },
  {
   "cell_type": "code",
   "execution_count": null,
   "id": "de537781",
   "metadata": {},
   "outputs": [],
   "source": []
  }
 ],
 "metadata": {
  "kernelspec": {
   "display_name": "Python 3",
   "language": "python",
   "name": "python3"
  },
  "language_info": {
   "codemirror_mode": {
    "name": "ipython",
    "version": 3
   },
   "file_extension": ".py",
   "mimetype": "text/x-python",
   "name": "python",
   "nbconvert_exporter": "python",
   "pygments_lexer": "ipython3",
   "version": "3.8.5"
  }
 },
 "nbformat": 4,
 "nbformat_minor": 5
}
