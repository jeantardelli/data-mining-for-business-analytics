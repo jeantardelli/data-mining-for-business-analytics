{
 "cells": [
  {
   "cell_type": "markdown",
   "id": "74cfe0ab",
   "metadata": {},
   "source": [
    "## Evaluating Predictive Performance\n",
    "\n",
    "Topics presented here:\n",
    "\n",
    "- Discussion on popular performance metrics. For prediction, metrics include Average Error, MAPE, and RMSE (based on the validation data). For classification tasks, metrics based on the confusion matrix include overall accuracy, specificity and sensitivity, and metrics that account for misclassification costs.\n",
    "\n",
    "- Relation between the choice of cutoff value and classification performance, and present the ROC (Receiver Operating Characteristic) curve, which is a popular chart for assessing method performance at different cutoff values.\n",
    " \n",
    "- Lift charts. Used when the goal is to accurately classify the most interesting or important records, called ranking, rather than accurately classify the entire sample (e.g., the 10% of customers most likely to respond to an offer, or the 5% of claims most likely to be fraudulent)\n",
    "\n",
    "- the usefulness of comparing metrics based on the validation data to those based on the training data for the purpose of detecting overfitting. While some differences are expected, extreme differences can be indicative of overfitting."
   ]
  },
  {
   "cell_type": "markdown",
   "id": "bd1d8c10",
   "metadata": {},
   "source": [
    "# Modules"
   ]
  },
  {
   "cell_type": "code",
   "execution_count": 1,
   "id": "d08fca96",
   "metadata": {},
   "outputs": [],
   "source": [
    "import math\n",
    "import pandas as pd\n",
    "\n",
    "from sklearn.model_selection import train_test_split\n",
    "from sklearn.linear_model import LinearRegression\n",
    "from sklearn.metrics import accuracy_score, roc_curve, auc\n",
    "\n",
    "import matplotlib.pylab as plt\n",
    "from utils import regression_summary"
   ]
  },
  {
   "cell_type": "markdown",
   "id": "7b715fed",
   "metadata": {},
   "source": [
    "## Introduction \n",
    "\n",
    "Three main types of outcomes of interest are:\n",
    "\n",
    "- Predicted numerical value: when the outcome variable is numerical (e.g., house price)\n",
    "\n",
    "- Predicted class membership: when the outcome variable is categorical (e.g., buyer/nonbuyer)\n",
    "\n",
    "- Propensity: the probability of class membership, when the outcome variable is categorical (e.g., the propensity to default)\n",
    "\n",
    "Prediction methods are used for generating numerical predictions, while classification methods (“classifiers”) are used for generating propensities and, using a cutoff value on the propensities, we can generate predicted class memberships.\n",
    "\n",
    "A subtle distinction to keep in mind is the two distinct predictive uses of classifiers: one use, classification, is aimed at predicting class membership for new records. The other, ranking, is detecting among a set of new records the ones most likely to belong to a class of interest.\n",
    "\n",
    "### Evaluating Predictive Performance \n",
    "\n",
    "First, let us emphasize that predictive accuracy is not the same as goodness-of-fit. Classical statistical measures of performance are aimed at finding a model that fits well to the data on which the model was trained. In data mining, we are interested in models that have high predictive accuracy when applied to new records.\n",
    "\n",
    "Measures such as $R^2$ and standard error of estimate are common metrics in classical regression modeling, and residual analysis is used to gauge goodness-of-fit in that situation. However, these measures do not tell us much about the ability of the model to predict new records.\n",
    "\n",
    "For assessing prediction performance, several measures are used. In all cases, the measures are based on the validation set, which serves as a more objective ground than the training set to assess predictive accuracy. This is because records in the validation set are more similar to the future records to be predicted, in the sense that they are not used to select predictors or to estimate the model parameters. Models are trained on the training set, applied to the validation set, and measures of accuracy then use the prediction errors on that validation set.\n",
    "\n",
    "### Naive Benchmark: The Average\n",
    "\n",
    "The benchmark criterion in prediction is using the average outcome value (thereby ignoring all predictor information). In other words, the prediction for a new record is simply the average across the outcome values of the records in the training set ($\\bar{y}$). This is sometimes called a naive benchmark. A good predictive model\n",
    "should outperform the benchmark criterion in terms of predictive accuracy.\n",
    "\n",
    "### Prediction Accuracy Measures\n",
    "\n",
    "The prediction error for record $i$ is defined as the difference between its actual outcome value and its predicted outcome value: $e_{i} = y_{i} - \\hat{y}_i$\n",
    "\n",
    "A few popular numerical measures of predictive accuracy are:\n",
    "\n",
    "- **MAE** (mean absolute error/deviation) = $\\frac{1}{n}\\sum^{n}_{i=1}|{e}|$\n",
    "\n",
    "    This gives the magnitude of the average absolute error.\n",
    "\n",
    "\n",
    "- **Mean Error** = $\\frac{1}{n}\\sum^{n}_{i=1}e_{i}$\n",
    "\n",
    "    This measure is similar to MAE except that it retains the sign of the errors, so that negative errors cancel out positive errors of the same magnitude. It therefore gives an indication of whether the predictions are on average over - or underpredicting the outcome variable.\n",
    "\n",
    "\n",
    "- **MPE** (mean percentage error) = 100 x $\\frac{1}{n}\\sum^{n}_{i=1}\\frac{e_{i}}{y_{i}}$\n",
    "\n",
    "    This gives the percentage score of how predictions deviate from the actual values (on average), taking into account the direction of the error.\n",
    "\n",
    "\n",
    "- **MAPE** (mean absolute percentage error) = 100 x $\\frac{1}{n}\\sum^{n}_{i=1}|\\frac{e_{i}}{y_{i}}|$\n",
    "\n",
    "    This measure gives a percentage score of how predictions deviate (on average) from the actual values.\n",
    "\n",
    "\n",
    "- **RMSE** (root mean squared error) = $\\sqrt{\\frac{1}{n}\\sum^{n}_{i=1}e^{2}_{i}}$\n",
    "\n",
    "    This is similar to the standard error of estimate in linear regression, except that it is computed on the validation data rather than on the training data. It has the same units as the outcome variable.\n",
    "\n",
    "\n",
    "Such measures can be used to compare models and to assess their degree of prediction accuracy. Note that all these measures are influenced by outliers. To check outlier influence, we can compute median-based measures (and compare to the above mean-based measures) or simply plot a histogram or boxplot of the errors. Plotting the prediction errors’ distribution is in fact very useful and can highlight more information than the metrics alone.\n",
    "\n",
    "To illustrate the use of predictive accuracy measures and charts of prediction error distribution, consider the error metrics and charts that follows:"
   ]
  },
  {
   "cell_type": "code",
   "execution_count": 2,
   "id": "a4bd9efb",
   "metadata": {},
   "outputs": [
    {
     "name": "stdout",
     "output_type": "stream",
     "text": [
      "\n",
      "Regression statistics\n",
      "\n",
      "                      Mean Error (ME) : -0.0000\n",
      "       Root Mean Squared Error (RMSE) : 1121.0606\n",
      "            Mean Absolute Error (MAE) : 811.6770\n",
      "          Mean Percentage Error (MPE) : -0.8630\n",
      "Mean Absolute Percentage Error (MAPE) : 8.0054\n",
      "\n",
      "Regression statistics\n",
      "\n",
      "                      Mean Error (ME) : 97.1891\n",
      "       Root Mean Squared Error (RMSE) : 1382.0352\n",
      "            Mean Absolute Error (MAE) : 880.1396\n",
      "          Mean Percentage Error (MPE) : 0.0138\n",
      "Mean Absolute Percentage Error (MAPE) : 8.8744\n"
     ]
    }
   ],
   "source": [
    "# reduce data frame to the top 1000 rows and select columns for regression analysis\n",
    "car_df = pd.read_csv(\"../datasets/ToyotaCorolla.csv\")\n",
    "\n",
    "# create a list of predictor variables by removing output variables and text columns\n",
    "excluded_columns = (\"Price\", \"Id\", \"Model\", \"Fuel_Type\", \"Color\")\n",
    "predictors = [s for s in car_df.columns if s not in excluded_columns]\n",
    "outcome = \"Price\"\n",
    "\n",
    "# partition data\n",
    "X = car_df[predictors]\n",
    "y = car_df[outcome]\n",
    "train_X, valid_X, train_y, valid_y = train_test_split(X, y, test_size=0.4, random_state=1)\n",
    "\n",
    "# train linear regression model\n",
    "reg = LinearRegression()\n",
    "reg.fit(train_X, train_y)\n",
    "\n",
    "# evaluate performance\n",
    "# training\n",
    "regression_summary(train_y, reg.predict(train_X))\n",
    "# validation\n",
    "regression_summary(valid_y, reg.predict(valid_X))"
   ]
  },
  {
   "cell_type": "code",
   "execution_count": 3,
   "id": "c15b9ef8",
   "metadata": {},
   "outputs": [
    {
     "data": {
      "image/png": "[encoded data removed]",
      "text/plain": [
       "<Figure size 648x288 with 3 Axes>"
      ]
     },
     "metadata": {
      "needs_background": "light"
     },
     "output_type": "display_data"
    }
   ],
   "source": [
    "pred_error_train = pd.DataFrame({\n",
    "    \"residual\": train_y - reg.predict(train_X),\n",
    "    \"data set\": \"training\"})\n",
    "\n",
    "pred_error_valid = pd.DataFrame({\n",
    "    \"residual\": valid_y - reg.predict(valid_X),\n",
    "    \"data set\": \"validation\"})\n",
    "\n",
    "boxdata_df = pred_error_train.append(pred_error_valid, ignore_index=True)\n",
    "\n",
    "fig, axes = plt.subplots(nrows=1, ncols=3)\n",
    "fig.set_size_inches(9, 4)\n",
    "\n",
    "common = {\"bins\": 100, \"range\": [-6500, 6500]}\n",
    "pred_error_train.hist(ax=axes[0], **common)\n",
    "pred_error_valid.hist(ax=axes[1], **common)\n",
    "boxdata_df.boxplot(ax=axes[2], by=\"data set\")\n",
    "\n",
    "axes[0].set_title(\"training\")\n",
    "axes[1].set_title(\"validation\")\n",
    "axes[2].set_title(\" \")\n",
    "axes[2].set_ylim(-6500, 6500)\n",
    "\n",
    "plt.suptitle(\"Prediction errors\")\n",
    "plt.subplots_adjust(bottom=0.1, top=0.85, wspace=0.35)\n",
    "plt.show()"
   ]
  },
  {
   "cell_type": "markdown",
   "id": "c9d6ecec",
   "metadata": {},
   "source": [
    "These are the result of fitting a certain predictive model to prices of used Toyota Corolla cars. The training set includes 861 cars and the validation set includes 575 cars. Results are displayed separately for the training and validation sets. We can see from the histogram and boxplot corresponding to the validation set that most errors are in the [−2000, 2000] range."
   ]
  },
  {
   "cell_type": "code",
   "execution_count": null,
   "id": "4e8f8b67",
   "metadata": {},
   "outputs": [],
   "source": []
  }
 ],
 "metadata": {
  "kernelspec": {
   "display_name": "Python 3",
   "language": "python",
   "name": "python3"
  },
  "language_info": {
   "codemirror_mode": {
    "name": "ipython",
    "version": 3
   },
   "file_extension": ".py",
   "mimetype": "text/x-python",
   "name": "python",
   "nbconvert_exporter": "python",
   "pygments_lexer": "ipython3",
   "version": "3.8.10"
  },
  "varInspector": {
   "cols": {
    "lenName": 16,
    "lenType": 16,
    "lenVar": 40
   },
   "kernels_config": {
    "python": {
     "delete_cmd_postfix": "",
     "delete_cmd_prefix": "del ",
     "library": "var_list.py",
     "varRefreshCmd": "print(var_dic_list())"
    },
    "r": {
     "delete_cmd_postfix": ") ",
     "delete_cmd_prefix": "rm(",
     "library": "var_list.r",
     "varRefreshCmd": "cat(var_dic_list()) "
    }
   },
   "types_to_exclude": [
    "module",
    "function",
    "builtin_function_or_method",
    "instance",
    "_Feature"
   ],
   "window_display": false
  }
 },
 "nbformat": 4,
 "nbformat_minor": 5
}
