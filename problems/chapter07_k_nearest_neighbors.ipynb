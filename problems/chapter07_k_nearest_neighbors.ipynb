{
 "cells": [
  {
   "cell_type": "markdown",
   "id": "25a005a5",
   "metadata": {},
   "source": [
    "# Problems"
   ]
  },
  {
   "cell_type": "code",
   "execution_count": 1,
   "id": "c8ab4d67",
   "metadata": {},
   "outputs": [],
   "source": [
    "import pandas as pd\n",
    "\n",
    "from sklearn.neighbors import NearestNeighbors\n",
    "from sklearn.metrics.pairwise import euclidean_distances"
   ]
  },
  {
   "cell_type": "markdown",
   "id": "c2f54c2b",
   "metadata": {},
   "source": [
    "**1. Calculating Distance with Categorical Predictors.**\n",
    "\n",
    "This exercise with a tiny dataset illustrates the calculation of Euclidean distance, and the creation of binary\n",
    "dummies. The online education company Statistics.com segments its customers and prospects into three main categories: IT professionals (IT), statisticians (Stat), and other (Other). It also tracks, for each customer, the number of years since first contact (years). Consider the following customers; information about whether they have taken a course or not (the outcome to be predicted) is included:\n",
    "\n",
    "    Customer 1: Stat, 1 year, did not take course\n",
    "    Customer 2: Other, 1.1 year, took course\n",
    "\n",
    "**a.** Consider now the following new prospect:\n",
    "\n",
    "    Prospect 1: IT, 1 year\n",
    "\n",
    "Using the above information on the two customers and one prospect, create one dataset for all three with the categorical predictor variable transformed into 2 binaries, and a similar dataset with the categorical predictor variable transformed into 3 binaries."
   ]
  },
  {
   "cell_type": "code",
   "execution_count": 2,
   "id": "dfaca762",
   "metadata": {},
   "outputs": [
    {
     "data": {
      "text/html": [
       "<div>\n",
       "<style scoped>\n",
       "    .dataframe tbody tr th:only-of-type {\n",
       "        vertical-align: middle;\n",
       "    }\n",
       "\n",
       "    .dataframe tbody tr th {\n",
       "        vertical-align: top;\n",
       "    }\n",
       "\n",
       "    .dataframe thead th {\n",
       "        text-align: right;\n",
       "    }\n",
       "</style>\n",
       "<table border=\"1\" class=\"dataframe\">\n",
       "  <thead>\n",
       "    <tr style=\"text-align: right;\">\n",
       "      <th></th>\n",
       "      <th>IT</th>\n",
       "      <th>Stat</th>\n",
       "      <th>years_since_first_contact</th>\n",
       "      <th>course</th>\n",
       "    </tr>\n",
       "  </thead>\n",
       "  <tbody>\n",
       "    <tr>\n",
       "      <th>0</th>\n",
       "      <td>0</td>\n",
       "      <td>1</td>\n",
       "      <td>1.0</td>\n",
       "      <td>0.0</td>\n",
       "    </tr>\n",
       "    <tr>\n",
       "      <th>1</th>\n",
       "      <td>0</td>\n",
       "      <td>0</td>\n",
       "      <td>1.1</td>\n",
       "      <td>1.0</td>\n",
       "    </tr>\n",
       "    <tr>\n",
       "      <th>2</th>\n",
       "      <td>1</td>\n",
       "      <td>0</td>\n",
       "      <td>1.0</td>\n",
       "      <td>NaN</td>\n",
       "    </tr>\n",
       "  </tbody>\n",
       "</table>\n",
       "</div>"
      ],
      "text/plain": [
       "   IT  Stat  years_since_first_contact  course\n",
       "0   0     1                        1.0     0.0\n",
       "1   0     0                        1.1     1.0\n",
       "2   1     0                        1.0     NaN"
      ]
     },
     "execution_count": 2,
     "metadata": {},
     "output_type": "execute_result"
    }
   ],
   "source": [
    "# dataset for all three customers with the categorical predictor (category)\n",
    "# transformed into 2 binaries\n",
    "tiny_two_cat_dummies_df = pd.DataFrame({\"IT\": [0, 0, 1], \"Stat\": [1, 0, 0],\n",
    "                                        \"years_since_first_contact\": [1, 1.1, 1],\n",
    "                                        \"course\": [0, 1, None]})\n",
    "tiny_two_cat_dummies_df"
   ]
  },
  {
   "cell_type": "code",
   "execution_count": 3,
   "id": "f555d6af",
   "metadata": {},
   "outputs": [
    {
     "data": {
      "text/html": [
       "<div>\n",
       "<style scoped>\n",
       "    .dataframe tbody tr th:only-of-type {\n",
       "        vertical-align: middle;\n",
       "    }\n",
       "\n",
       "    .dataframe tbody tr th {\n",
       "        vertical-align: top;\n",
       "    }\n",
       "\n",
       "    .dataframe thead th {\n",
       "        text-align: right;\n",
       "    }\n",
       "</style>\n",
       "<table border=\"1\" class=\"dataframe\">\n",
       "  <thead>\n",
       "    <tr style=\"text-align: right;\">\n",
       "      <th></th>\n",
       "      <th>IT</th>\n",
       "      <th>Stat</th>\n",
       "      <th>Other</th>\n",
       "      <th>years_since_first_contact</th>\n",
       "      <th>course</th>\n",
       "    </tr>\n",
       "  </thead>\n",
       "  <tbody>\n",
       "    <tr>\n",
       "      <th>0</th>\n",
       "      <td>0</td>\n",
       "      <td>1</td>\n",
       "      <td>0</td>\n",
       "      <td>1.0</td>\n",
       "      <td>0.0</td>\n",
       "    </tr>\n",
       "    <tr>\n",
       "      <th>1</th>\n",
       "      <td>0</td>\n",
       "      <td>0</td>\n",
       "      <td>1</td>\n",
       "      <td>1.1</td>\n",
       "      <td>1.0</td>\n",
       "    </tr>\n",
       "    <tr>\n",
       "      <th>2</th>\n",
       "      <td>1</td>\n",
       "      <td>0</td>\n",
       "      <td>0</td>\n",
       "      <td>1.0</td>\n",
       "      <td>NaN</td>\n",
       "    </tr>\n",
       "  </tbody>\n",
       "</table>\n",
       "</div>"
      ],
      "text/plain": [
       "   IT  Stat  Other  years_since_first_contact  course\n",
       "0   0     1      0                        1.0     0.0\n",
       "1   0     0      1                        1.1     1.0\n",
       "2   1     0      0                        1.0     NaN"
      ]
     },
     "execution_count": 3,
     "metadata": {},
     "output_type": "execute_result"
    }
   ],
   "source": [
    "# dataset for all three customers with the categorical predictor (category)\n",
    "# transformed into 3 binaries\n",
    "tiny_all_cat_dummies_df = pd.DataFrame({\"IT\": [0, 0, 1], \"Stat\": [1, 0, 0], \n",
    "                                        \"Other\": [0, 1, 0], \"years_since_first_contact\": [1, 1.1, 1],\n",
    "                                        \"course\": [0, 1, None]})\n",
    "tiny_all_cat_dummies_df"
   ]
  },
  {
   "cell_type": "markdown",
   "id": "4270110a",
   "metadata": {},
   "source": [
    "**b.** For each derived dataset, calculate the Euclidean distance between the prospect and each of the other two customers. (Note: While it is typical to normalize data for k-NN, this is not an iron-clad rule and you may proceed here without normalization.)\n",
    "\n",
    "- Two categorical dummies (IT/Stat):"
   ]
  },
  {
   "cell_type": "code",
   "execution_count": 4,
   "id": "8a56a2a9",
   "metadata": {},
   "outputs": [
    {
     "data": {
      "text/html": [
       "<div>\n",
       "<style scoped>\n",
       "    .dataframe tbody tr th:only-of-type {\n",
       "        vertical-align: middle;\n",
       "    }\n",
       "\n",
       "    .dataframe tbody tr th {\n",
       "        vertical-align: top;\n",
       "    }\n",
       "\n",
       "    .dataframe thead th {\n",
       "        text-align: right;\n",
       "    }\n",
       "</style>\n",
       "<table border=\"1\" class=\"dataframe\">\n",
       "  <thead>\n",
       "    <tr style=\"text-align: right;\">\n",
       "      <th></th>\n",
       "      <th>customer_1</th>\n",
       "      <th>customer_2</th>\n",
       "      <th>customer_3</th>\n",
       "    </tr>\n",
       "  </thead>\n",
       "  <tbody>\n",
       "    <tr>\n",
       "      <th>customer_1</th>\n",
       "      <td>0.000000</td>\n",
       "      <td>1.004988</td>\n",
       "      <td>1.414214</td>\n",
       "    </tr>\n",
       "    <tr>\n",
       "      <th>customer_2</th>\n",
       "      <td>1.004988</td>\n",
       "      <td>0.000000</td>\n",
       "      <td>1.004988</td>\n",
       "    </tr>\n",
       "    <tr>\n",
       "      <th>customer_3</th>\n",
       "      <td>1.414214</td>\n",
       "      <td>1.004988</td>\n",
       "      <td>0.000000</td>\n",
       "    </tr>\n",
       "  </tbody>\n",
       "</table>\n",
       "</div>"
      ],
      "text/plain": [
       "            customer_1  customer_2  customer_3\n",
       "customer_1    0.000000    1.004988    1.414214\n",
       "customer_2    1.004988    0.000000    1.004988\n",
       "customer_3    1.414214    1.004988    0.000000"
      ]
     },
     "execution_count": 4,
     "metadata": {},
     "output_type": "execute_result"
    }
   ],
   "source": [
    "predictors = [\"IT\", \"Stat\", \"years_since_first_contact\"]\n",
    "pd.DataFrame(euclidean_distances(tiny_two_cat_dummies_df[predictors],\n",
    "                                 tiny_two_cat_dummies_df[predictors]),\n",
    "             columns=[\"customer_1\", \"customer_2\", \"customer_3\"],\n",
    "             index=[\"customer_1\", \"customer_2\", \"customer_3\"])"
   ]
  },
  {
   "cell_type": "markdown",
   "id": "d8d97daa",
   "metadata": {},
   "source": [
    "- Three categorical dummies (IT/Stat/Other):"
   ]
  },
  {
   "cell_type": "code",
   "execution_count": 5,
   "id": "26d98c1f",
   "metadata": {},
   "outputs": [
    {
     "data": {
      "text/html": [
       "<div>\n",
       "<style scoped>\n",
       "    .dataframe tbody tr th:only-of-type {\n",
       "        vertical-align: middle;\n",
       "    }\n",
       "\n",
       "    .dataframe tbody tr th {\n",
       "        vertical-align: top;\n",
       "    }\n",
       "\n",
       "    .dataframe thead th {\n",
       "        text-align: right;\n",
       "    }\n",
       "</style>\n",
       "<table border=\"1\" class=\"dataframe\">\n",
       "  <thead>\n",
       "    <tr style=\"text-align: right;\">\n",
       "      <th></th>\n",
       "      <th>customer_1</th>\n",
       "      <th>customer_2</th>\n",
       "      <th>customer_3</th>\n",
       "    </tr>\n",
       "  </thead>\n",
       "  <tbody>\n",
       "    <tr>\n",
       "      <th>customer_1</th>\n",
       "      <td>0.000000</td>\n",
       "      <td>1.417745</td>\n",
       "      <td>1.414214</td>\n",
       "    </tr>\n",
       "    <tr>\n",
       "      <th>customer_2</th>\n",
       "      <td>1.417745</td>\n",
       "      <td>0.000000</td>\n",
       "      <td>1.417745</td>\n",
       "    </tr>\n",
       "    <tr>\n",
       "      <th>customer_3</th>\n",
       "      <td>1.414214</td>\n",
       "      <td>1.417745</td>\n",
       "      <td>0.000000</td>\n",
       "    </tr>\n",
       "  </tbody>\n",
       "</table>\n",
       "</div>"
      ],
      "text/plain": [
       "            customer_1  customer_2  customer_3\n",
       "customer_1    0.000000    1.417745    1.414214\n",
       "customer_2    1.417745    0.000000    1.417745\n",
       "customer_3    1.414214    1.417745    0.000000"
      ]
     },
     "execution_count": 5,
     "metadata": {},
     "output_type": "execute_result"
    }
   ],
   "source": [
    "predictors = [\"IT\", \"Stat\", \"Other\", \"years_since_first_contact\"]\n",
    "\n",
    "pd.DataFrame(euclidean_distances(tiny_all_cat_dummies_df[predictors],\n",
    "                                 tiny_all_cat_dummies_df[predictors]),\n",
    "             columns=[\"customer_1\", \"customer_2\", \"customer_3\"],\n",
    "             index=[\"customer_1\", \"customer_2\", \"customer_3\"])"
   ]
  },
  {
   "cell_type": "markdown",
   "id": "4732c44b",
   "metadata": {},
   "source": [
    "We can already see the effect of using two/three dummy variables. For the two dummy variables dataset, the `customer_3` is nearer to `customer_2` than to `customer_1`. This happens because the variable `years_since_first_contact` are the same for the both customers. For the three dummy variables, we still see that the `customer_3` are nearer to `customer_1` than to `customer_2` though the distances are very close between all customers. This happens because the `Other` variable helps to discriminate each of the customers.\n",
    "\n",
    "In contrast to the situation with statistical models such as regression, all *m* binaries should be created and\n",
    "used with *k*-NN. While mathematically this is redundant, since *m* - 1 dummies contain the same information as *m* dummies, this redundant information does not create the multicollinearity problems that it does for linear models. Moreover, in *k*-NN the use of *m* - 1 dummies can yield different classifications than the use of *m* dummies, and lead to an imbalance in the contribution of the different categories to the model."
   ]
  },
  {
   "cell_type": "markdown",
   "id": "188b71c1",
   "metadata": {},
   "source": [
    "**c.** Using k-NN with k = 1, classify the prospect as taking or not taking a course using each of the two derived datasets. Does it make a difference whether you use two or three dummies?\n",
    "\n",
    "- Two dummies variables (IT/Stat)"
   ]
  },
  {
   "cell_type": "code",
   "execution_count": 6,
   "id": "b9898679",
   "metadata": {},
   "outputs": [
    {
     "data": {
      "text/html": [
       "<div>\n",
       "<style scoped>\n",
       "    .dataframe tbody tr th:only-of-type {\n",
       "        vertical-align: middle;\n",
       "    }\n",
       "\n",
       "    .dataframe tbody tr th {\n",
       "        vertical-align: top;\n",
       "    }\n",
       "\n",
       "    .dataframe thead th {\n",
       "        text-align: right;\n",
       "    }\n",
       "</style>\n",
       "<table border=\"1\" class=\"dataframe\">\n",
       "  <thead>\n",
       "    <tr style=\"text-align: right;\">\n",
       "      <th></th>\n",
       "      <th>IT</th>\n",
       "      <th>Stat</th>\n",
       "      <th>years_since_first_contact</th>\n",
       "      <th>course</th>\n",
       "    </tr>\n",
       "  </thead>\n",
       "  <tbody>\n",
       "    <tr>\n",
       "      <th>1</th>\n",
       "      <td>0</td>\n",
       "      <td>0</td>\n",
       "      <td>1.1</td>\n",
       "      <td>1.0</td>\n",
       "    </tr>\n",
       "  </tbody>\n",
       "</table>\n",
       "</div>"
      ],
      "text/plain": [
       "   IT  Stat  years_since_first_contact  course\n",
       "1   0     0                        1.1     1.0"
      ]
     },
     "execution_count": 6,
     "metadata": {},
     "output_type": "execute_result"
    }
   ],
   "source": [
    "predictors = [\"IT\", \"Stat\", \"years_since_first_contact\"]\n",
    "\n",
    "# user NearestNeighbors from scikit-learn to compute knn\n",
    "knn = NearestNeighbors(n_neighbors=1)\n",
    "knn.fit(tiny_two_cat_dummies_df.loc[:1, predictors])\n",
    "\n",
    "new_customer = pd.DataFrame({\"IT\": [1], \"Stat\": [0],\n",
    "                             \"years_since_first_contact\": [1]})\n",
    "\n",
    "distances, indices = knn.kneighbors(new_customer)\n",
    "\n",
    "# indices is a list of lists, we are only interested in the first element\n",
    "tiny_two_cat_dummies_df.iloc[indices[0], :]"
   ]
  },
  {
   "cell_type": "markdown",
   "id": "067c14e7",
   "metadata": {},
   "source": [
    "- Three dummies variable(IT/Stat/Other)"
   ]
  },
  {
   "cell_type": "code",
   "execution_count": 7,
   "id": "c0b8fd37",
   "metadata": {},
   "outputs": [
    {
     "data": {
      "text/html": [
       "<div>\n",
       "<style scoped>\n",
       "    .dataframe tbody tr th:only-of-type {\n",
       "        vertical-align: middle;\n",
       "    }\n",
       "\n",
       "    .dataframe tbody tr th {\n",
       "        vertical-align: top;\n",
       "    }\n",
       "\n",
       "    .dataframe thead th {\n",
       "        text-align: right;\n",
       "    }\n",
       "</style>\n",
       "<table border=\"1\" class=\"dataframe\">\n",
       "  <thead>\n",
       "    <tr style=\"text-align: right;\">\n",
       "      <th></th>\n",
       "      <th>IT</th>\n",
       "      <th>Stat</th>\n",
       "      <th>Other</th>\n",
       "      <th>years_since_first_contact</th>\n",
       "      <th>course</th>\n",
       "    </tr>\n",
       "  </thead>\n",
       "  <tbody>\n",
       "    <tr>\n",
       "      <th>1</th>\n",
       "      <td>0</td>\n",
       "      <td>0</td>\n",
       "      <td>1</td>\n",
       "      <td>1.1</td>\n",
       "      <td>1.0</td>\n",
       "    </tr>\n",
       "  </tbody>\n",
       "</table>\n",
       "</div>"
      ],
      "text/plain": [
       "   IT  Stat  Other  years_since_first_contact  course\n",
       "1   0     0      1                        1.1     1.0"
      ]
     },
     "execution_count": 7,
     "metadata": {},
     "output_type": "execute_result"
    }
   ],
   "source": [
    "predictors = [\"IT\", \"Stat\", \"Other\", \"years_since_first_contact\"]\n",
    "\n",
    "# user NearestNeighbors from scikit-learn to compute knn\n",
    "knn = NearestNeighbors(n_neighbors=1)\n",
    "knn.fit(tiny_all_cat_dummies_df.loc[:1, predictors])\n",
    "\n",
    "new_customer = pd.DataFrame({\"IT\": [1], \"Stat\": [0], \"Other\": [1],\n",
    "                             \"years_since_first_contact\": [1]})\n",
    "\n",
    "distances, indices = knn.kneighbors(new_customer)\n",
    "\n",
    "# indices is a list of lists, we are only interested in the first element\n",
    "tiny_all_cat_dummies_df.iloc[indices[0], :]"
   ]
  },
  {
   "cell_type": "markdown",
   "id": "416cb005",
   "metadata": {},
   "source": [
    "If we use *k* = 1, the nearest customer is the one that took the course for both variables. Therefore, for this specific example there was no difference on using two or three categorical variable. Therefore, as indicated in the previous item (**b**), this redundant information does not create the multicollinearity problems that it does for linear models. Moreover, in *k*-NN the use of *m* - 1 dummies can yield different classifications than the use of *m* dummies, and lead to an imbalance in the contribution of the different categories to the model."
   ]
  }
 ],
 "metadata": {
  "kernelspec": {
   "display_name": "Python 3",
   "language": "python",
   "name": "python3"
  },
  "language_info": {
   "codemirror_mode": {
    "name": "ipython",
    "version": 3
   },
   "file_extension": ".py",
   "mimetype": "text/x-python",
   "name": "python",
   "nbconvert_exporter": "python",
   "pygments_lexer": "ipython3",
   "version": "3.8.10"
  },
  "varInspector": {
   "cols": {
    "lenName": 16,
    "lenType": 16,
    "lenVar": 40
   },
   "kernels_config": {
    "python": {
     "delete_cmd_postfix": "",
     "delete_cmd_prefix": "del ",
     "library": "var_list.py",
     "varRefreshCmd": "print(var_dic_list())"
    },
    "r": {
     "delete_cmd_postfix": ") ",
     "delete_cmd_prefix": "rm(",
     "library": "var_list.r",
     "varRefreshCmd": "cat(var_dic_list()) "
    }
   },
   "types_to_exclude": [
    "module",
    "function",
    "builtin_function_or_method",
    "instance",
    "_Feature"
   ],
   "window_display": false
  }
 },
 "nbformat": 4,
 "nbformat_minor": 5
}
