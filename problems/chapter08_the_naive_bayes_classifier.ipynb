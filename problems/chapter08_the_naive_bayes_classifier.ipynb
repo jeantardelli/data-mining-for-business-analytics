{
 "cells": [
  {
   "cell_type": "markdown",
   "id": "b5b0ba4f",
   "metadata": {},
   "source": [
    "## Problems"
   ]
  },
  {
   "cell_type": "code",
   "execution_count": 1,
   "id": "e794fc97",
   "metadata": {},
   "outputs": [],
   "source": [
    "import pandas as pd\n",
    "\n",
    "from sklearn.model_selection import train_test_split"
   ]
  },
  {
   "cell_type": "markdown",
   "id": "032aa30d",
   "metadata": {},
   "source": [
    "**1. Personal Loan Acceptance.** The file `UniversalBank.csv` contains data on 5000 customers of Universal Bank. The data include customer demographic information (age, income, etc.), the customer's relationship with the bank (mortgage, securities account, etc.), and the customer response to the last personal loan campaign (Personal Loan). Among these 5000 customers, only 480 (=9.6%) accepted the personal loan that was offered to them in the earlier campaign. In this exercise, we focus on two predictors: Online (whether or not the customer is an active user of\n",
    "online banking services) and Credit Card (abbreviated CC below) (does the customer hold a credit card issued by the bank), and the outcome Personal Loan (abbreviated Loan below).\n",
    "\n",
    "Partition the data into training (60%) and validation (40%) sets.\n",
    "\n",
    "**a.** Create a pivot table for the training data with Online as a column variable, CC as a row variable, and Loan as a secondary row variable. The values inside the table should convey the count. Use the pandas dataframe methods `melt()` and `pivot()`."
   ]
  },
  {
   "cell_type": "code",
   "execution_count": 2,
   "id": "09606909",
   "metadata": {},
   "outputs": [
    {
     "data": {
      "text/html": [
       "<div>\n",
       "<style scoped>\n",
       "    .dataframe tbody tr th:only-of-type {\n",
       "        vertical-align: middle;\n",
       "    }\n",
       "\n",
       "    .dataframe tbody tr th {\n",
       "        vertical-align: top;\n",
       "    }\n",
       "\n",
       "    .dataframe thead th {\n",
       "        text-align: right;\n",
       "    }\n",
       "</style>\n",
       "<table border=\"1\" class=\"dataframe\">\n",
       "  <thead>\n",
       "    <tr style=\"text-align: right;\">\n",
       "      <th></th>\n",
       "      <th>ID</th>\n",
       "      <th>Age</th>\n",
       "      <th>Experience</th>\n",
       "      <th>Income</th>\n",
       "      <th>ZIP Code</th>\n",
       "      <th>Family</th>\n",
       "      <th>CCAvg</th>\n",
       "      <th>Education</th>\n",
       "      <th>Mortgage</th>\n",
       "      <th>Personal Loan</th>\n",
       "      <th>Securities Account</th>\n",
       "      <th>CD Account</th>\n",
       "      <th>Online</th>\n",
       "      <th>CreditCard</th>\n",
       "    </tr>\n",
       "  </thead>\n",
       "  <tbody>\n",
       "    <tr>\n",
       "      <th>0</th>\n",
       "      <td>1</td>\n",
       "      <td>25</td>\n",
       "      <td>1</td>\n",
       "      <td>49</td>\n",
       "      <td>91107</td>\n",
       "      <td>4</td>\n",
       "      <td>1.6</td>\n",
       "      <td>1</td>\n",
       "      <td>0</td>\n",
       "      <td>0</td>\n",
       "      <td>1</td>\n",
       "      <td>0</td>\n",
       "      <td>0</td>\n",
       "      <td>0</td>\n",
       "    </tr>\n",
       "    <tr>\n",
       "      <th>1</th>\n",
       "      <td>2</td>\n",
       "      <td>45</td>\n",
       "      <td>19</td>\n",
       "      <td>34</td>\n",
       "      <td>90089</td>\n",
       "      <td>3</td>\n",
       "      <td>1.5</td>\n",
       "      <td>1</td>\n",
       "      <td>0</td>\n",
       "      <td>0</td>\n",
       "      <td>1</td>\n",
       "      <td>0</td>\n",
       "      <td>0</td>\n",
       "      <td>0</td>\n",
       "    </tr>\n",
       "    <tr>\n",
       "      <th>2</th>\n",
       "      <td>3</td>\n",
       "      <td>39</td>\n",
       "      <td>15</td>\n",
       "      <td>11</td>\n",
       "      <td>94720</td>\n",
       "      <td>1</td>\n",
       "      <td>1.0</td>\n",
       "      <td>1</td>\n",
       "      <td>0</td>\n",
       "      <td>0</td>\n",
       "      <td>0</td>\n",
       "      <td>0</td>\n",
       "      <td>0</td>\n",
       "      <td>0</td>\n",
       "    </tr>\n",
       "    <tr>\n",
       "      <th>3</th>\n",
       "      <td>4</td>\n",
       "      <td>35</td>\n",
       "      <td>9</td>\n",
       "      <td>100</td>\n",
       "      <td>94112</td>\n",
       "      <td>1</td>\n",
       "      <td>2.7</td>\n",
       "      <td>2</td>\n",
       "      <td>0</td>\n",
       "      <td>0</td>\n",
       "      <td>0</td>\n",
       "      <td>0</td>\n",
       "      <td>0</td>\n",
       "      <td>0</td>\n",
       "    </tr>\n",
       "    <tr>\n",
       "      <th>4</th>\n",
       "      <td>5</td>\n",
       "      <td>35</td>\n",
       "      <td>8</td>\n",
       "      <td>45</td>\n",
       "      <td>91330</td>\n",
       "      <td>4</td>\n",
       "      <td>1.0</td>\n",
       "      <td>2</td>\n",
       "      <td>0</td>\n",
       "      <td>0</td>\n",
       "      <td>0</td>\n",
       "      <td>0</td>\n",
       "      <td>0</td>\n",
       "      <td>1</td>\n",
       "    </tr>\n",
       "  </tbody>\n",
       "</table>\n",
       "</div>"
      ],
      "text/plain": [
       "   ID  Age  Experience  Income  ZIP Code  Family  CCAvg  Education  Mortgage  \\\n",
       "0   1   25           1      49     91107       4    1.6          1         0   \n",
       "1   2   45          19      34     90089       3    1.5          1         0   \n",
       "2   3   39          15      11     94720       1    1.0          1         0   \n",
       "3   4   35           9     100     94112       1    2.7          2         0   \n",
       "4   5   35           8      45     91330       4    1.0          2         0   \n",
       "\n",
       "   Personal Loan  Securities Account  CD Account  Online  CreditCard  \n",
       "0              0                   1           0       0           0  \n",
       "1              0                   1           0       0           0  \n",
       "2              0                   0           0       0           0  \n",
       "3              0                   0           0       0           0  \n",
       "4              0                   0           0       0           1  "
      ]
     },
     "execution_count": 2,
     "metadata": {},
     "output_type": "execute_result"
    }
   ],
   "source": [
    "bank_df = pd.read_csv(\"../datasets/UniversalBank.csv\")\n",
    "bank_df.head()"
   ]
  },
  {
   "cell_type": "code",
   "execution_count": 3,
   "id": "83b6e598",
   "metadata": {},
   "outputs": [
    {
     "name": "stdout",
     "output_type": "stream",
     "text": [
      "   CreditCard  Personal Loan  Online\n",
      "0           0              0    1909\n",
      "1           0              1     199\n",
      "2           1              0     804\n",
      "3           1              1      88\n",
      "\n",
      "   CreditCard  Personal Loan  Online\n",
      "0           0              0    1909\n",
      "1           0              1     199\n",
      "2           1              0     804\n",
      "3           1              1      88\n"
     ]
    }
   ],
   "source": [
    "# data preparation for the exercise\n",
    "predictors = [\"Online\", \"CreditCard\"]\n",
    "outcome = \"Personal Loan\"\n",
    "\n",
    "X_train, X_valid, y_train, y_valid = train_test_split(bank_df[predictors], bank_df[outcome],\n",
    "                                                      test_size=0.4, random_state=1)\n",
    "\n",
    "# data preparation to generate the pivot tables\n",
    "train_df, valid_df = train_test_split(bank_df[predictors+[outcome]],\n",
    "                                      test_size=0.4, random_state=1)\n",
    "\n",
    "melt_table = pd.melt(train_df,\n",
    "                     id_vars=[\"CreditCard\", \"Personal Loan\"],\n",
    "                     var_name=[\"Online\"])\\\n",
    "               .groupby([\"CreditCard\", \"Personal Loan\"])\\\n",
    "               .count()[\"Online\"]\\\n",
    "               .reset_index()\n",
    "pivot_table = pd.pivot_table(train_df,\n",
    "                             values=[\"Online\"],\n",
    "                             index=[\"CreditCard\", \"Personal Loan\"],\n",
    "                             aggfunc='count')\\\n",
    "                .reset_index()\n",
    "\n",
    "print(melt_table)\n",
    "print()\n",
    "print(pivot_table)"
   ]
  },
  {
   "cell_type": "markdown",
   "id": "3ce90adc",
   "metadata": {},
   "source": [
    "**b.** Consider the task of classifying a customer who owns a bank credit card and is actively using online banking services. Looking at the pivot table, what is the probability that this customer will accept the loan offer? (This is the probability of loan acceptance (Loan = 1) conditional on having a bank credit card (CC = 1) and being an active user of online banking services (Online = 1))."
   ]
  },
  {
   "cell_type": "markdown",
   "id": "f0197705",
   "metadata": {},
   "source": [
    "In this case, we will be looking at the probability of the record belonging to class `Personal Loan` = 1 given that its predictor values are `CC` = 1 and `Online` = 1:\n",
    "\n",
    "<p style=\"text-align:center\">\n",
    "    $P(\\text{Loan}=1 ∣ \\text{CC}=1, \\text{Online}=1) = \\frac{88}{804+88} = 0.098 = 9.8\\%$\n",
    "</p>"
   ]
  },
  {
   "cell_type": "markdown",
   "id": "f36f5475",
   "metadata": {},
   "source": [
    "**c.** Create two separate pivot tables for the training data. One will have Loan (rows) as a function of Online (columns) and the other will have Loan (rows) as a function of CC."
   ]
  },
  {
   "cell_type": "code",
   "execution_count": 4,
   "id": "c8a0ba32",
   "metadata": {},
   "outputs": [
    {
     "name": "stdout",
     "output_type": "stream",
     "text": [
      "0    0.9043\n",
      "1    0.0957\n",
      "Name: Personal Loan, dtype: float64\n",
      "\n",
      "Online            0     1\n",
      "Personal Loan            \n",
      "0              1119  1594\n",
      "1               112   175\n",
      "\n",
      "CreditCard        0    1\n",
      "Personal Loan           \n",
      "0              1909  804\n",
      "1               199   88\n",
      "\n"
     ]
    }
   ],
   "source": [
    "pd.set_option(\"precision\", 4)\n",
    "# probability of loan acceptance\n",
    "print(train_df[\"Personal Loan\"].value_counts() / len(train_df))\n",
    "print()\n",
    "\n",
    "for predictor in predictors:\n",
    "    # construct the frequency table\n",
    "    df = train_df[[\"Personal Loan\", predictor]]\n",
    "    freq_table = df.pivot_table(index=\"Personal Loan\", columns=predictor, aggfunc=len)\n",
    "\n",
    "    # divide each value by the sum of the row to get conditional probabilities\n",
    "    prop_table = freq_table.apply(lambda x: x, axis=1)\n",
    "    print(prop_table)\n",
    "    print()\n",
    "\n",
    "pd.reset_option(\"precision\")"
   ]
  },
  {
   "cell_type": "markdown",
   "id": "9bdb6938",
   "metadata": {},
   "source": [
    "**d.** Compute the following quantities [P(A ∣ B) means \"the probability of A given B\"]:\n",
    "\n",
    "    i. P(CC = 1 ∣ Loan = 1) (the proportion of credit card holders among the loan acceptors)\n",
    "\n",
    "<p style=\"text-align:center\">\n",
    "    $P(\\text{CC}=1 ∣ \\text{Loan}=1) = \\frac{88}{199+88} = 0.306 = 30.6\\%$\n",
    "</p>\n",
    "\n",
    "    ii. P(Online = 1 ∣ Loan = 1)\n",
    "\n",
    "<p style=\"text-align:center\">\n",
    "    $P(\\text{Online}=1 ∣ \\text{Loan}=1) = \\frac{175}{175+112} = 0.609 = 60.9\\%$\n",
    "</p>\n",
    "\n",
    "    iii. P(Loan = 1) (the proportion of loan acceptors)\n",
    "\n",
    "<p style=\"text-align:center\">\n",
    "    $P(\\text{Loan}=1) = \\frac{287}{3000} = 0.0957 = 9.57\\%$\n",
    "</p>\n",
    "\n",
    "    iv. P(CC = 1 ∣ Loan = 0)\n",
    "\n",
    "<p style=\"text-align:center\">\n",
    "    $P(\\text{CC}=1 ∣ \\text{Loan}=0) = \\frac{804}{1909+804} = 0.296 = 29.6\\%$\n",
    "</p>\n",
    "\n",
    "    v. P(Online = 1 ∣ Loan = 0)\n",
    "\n",
    "<p style=\"text-align:center\">\n",
    "    $P(\\text{Online}=1 ∣ \\text{Loan}=0) = \\frac{1594}{1119+1594} = 0.587 = 58.7\\%$\n",
    "</p>\n",
    "\n",
    "    vi. P(Loan = 0)\n",
    "\n",
    "<p style=\"text-align:center\">\n",
    "    $P(\\text{Loan}=0) = 1 - P(\\text{Loan}=1) = 1 - 0.0957 = 0.9043 = 90.4\\%$\n",
    "</p>"
   ]
  },
  {
   "cell_type": "markdown",
   "id": "79cf7dd5",
   "metadata": {},
   "source": [
    "**e.** Use the quantities computed above to compute the naive Bayes probability $P(\\text{Loan} = 1 ∣ \\text{CC} = 1, \\text{Online} = 1)$."
   ]
  },
  {
   "cell_type": "markdown",
   "id": "eb0a7381",
   "metadata": {},
   "source": [
    "The naive Bayes probability for this case is given by:\n",
    "\n",
    "<p style=\"text-align:center\">\n",
    "    $P_{nb}(\\text{Loan} = 1 ∣ \\text{CC} = 1, \\text{Online} = 1) = \\frac{P(\\text{Loan}=1) P(\\text{CC}=1 ∣ \\text{Loan}=1) P(\\text{Online}=1 ∣ \\text{Loan}=1)}{P(\\text{Loan}=1) P(\\text{CC}=1 ∣ \\text{Loan}=1) P(\\text{Online}=1 ∣ \\text{Loan}=1) + P(\\text{Loan}=0) P(\\text{CC}=1 ∣ \\text{Loan}=0) P(\\text{Online}=1 ∣ \\text{Loan}=0)}$\n",
    "    <br>$ = \\frac{(0.0957)(0.306)(0.609)}{(0.0957)(0.306)(0.609) + (0.9043)(0.296)(0.587)} = $\n",
    "    <br>$ = \\frac{0.01783}{0.01783 + 0.1571} = 0.1019 = 10.1\\%$ (+/-)\n",
    "   \n",
    "</p>"
   ]
  },
  {
   "cell_type": "markdown",
   "id": "67e9c3d9",
   "metadata": {},
   "source": [
    "**f.** Compare this value with the one obtained from the pivot table in (b). Which is a more accurate estimate?"
   ]
  },
  {
   "cell_type": "markdown",
   "id": "8d4e856c",
   "metadata": {},
   "source": [
    "The value obtained between naive Bayes probabilities are very close to the exact Bayes probabilities. Although they are not equal, both would lead to exactly the same classification for a cutoff of 0.5 (and many other values). It is often the case that the rank ordering of probabilities is even closer to the exact Bayes method than the probabilities themselves, and for classification purposes it is the rank orderings that matter."
   ]
  },
  {
   "cell_type": "markdown",
   "id": "a804c90a",
   "metadata": {},
   "source": [
    "**g.** Which of the entries in this table are needed for computing P(Loan = 1 ∣ CC = 1, Online = 1)? In Python, run naive Bayes on the data. Examine the model output on training data, and find the entry that corresponds to P(Loan = 1 ∣ CC = 1, Online = 1). Compare this to the number you obtained in (e)."
   ]
  }
 ],
 "metadata": {
  "kernelspec": {
   "display_name": "Python 3",
   "language": "python",
   "name": "python3"
  },
  "language_info": {
   "codemirror_mode": {
    "name": "ipython",
    "version": 3
   },
   "file_extension": ".py",
   "mimetype": "text/x-python",
   "name": "python",
   "nbconvert_exporter": "python",
   "pygments_lexer": "ipython3",
   "version": "3.8.10"
  },
  "varInspector": {
   "cols": {
    "lenName": 16,
    "lenType": 16,
    "lenVar": 40
   },
   "kernels_config": {
    "python": {
     "delete_cmd_postfix": "",
     "delete_cmd_prefix": "del ",
     "library": "var_list.py",
     "varRefreshCmd": "print(var_dic_list())"
    },
    "r": {
     "delete_cmd_postfix": ") ",
     "delete_cmd_prefix": "rm(",
     "library": "var_list.r",
     "varRefreshCmd": "cat(var_dic_list()) "
    }
   },
   "types_to_exclude": [
    "module",
    "function",
    "builtin_function_or_method",
    "instance",
    "_Feature"
   ],
   "window_display": false
  }
 },
 "nbformat": 4,
 "nbformat_minor": 5
}
