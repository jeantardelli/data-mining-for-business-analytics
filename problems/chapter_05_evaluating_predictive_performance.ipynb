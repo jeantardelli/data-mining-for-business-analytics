{
 "cells": [
  {
   "cell_type": "markdown",
   "id": "77d0a49b",
   "metadata": {},
   "source": [
    "## Problems\n",
    "\n",
    "1. A data mining routine has been applied to a transaction dataset and has classified 88 records as fraudulent (30 correctly so) and 952 as non-fraudulent (920 correctly so). Construct the confusion matrix and calculate the overall error rate.\n",
    "\n",
    "The following table shows the mentioned data mining routine confusion matrix that was applied to a total of 1040  (952 + 88) records. The two diagonals cells (upper left, lower right) give the number of correct classifications - where the predicted class coincide with the actual class. The off-diagonal cells give counts of misclassification.\n",
    "\n",
    "|                   | Pred. non-fraud. | Pred. fraud     |\n",
    "|:------------------|:-----------------|:----------------|\n",
    "| **non-fraudulent**| 920              | 32              |\n",
    "| **fraudulent**    | 58               | 30              |\n",
    "\n",
    "The *estimated misclassification rate*, also called the *overall error rate*. It is given by:\n",
    "\n",
    "<p><center>$err = \\frac{n_{1, 2} + n_{2, 1}}{n} = \\frac{32 + 58}{1040} = 8.56 \\%$</center></p>\n",
    "\n",
    "\n",
    "2. Suppose that this routine has an adjustable cutoff (threshold) mechanism by which you can alter the proportion of records classified as fraudulent. Describe how moving the cutoff up or down would affect\n",
    "\n",
    "a. the classification error rate for records that are truly fraudulent\n",
    "\n",
    "R> Assuming that the default cutoff for this classifier is 0.5, we have a record classified as fraudulent if the estimated probability is greater than 0.5, otherwise it is classified as a non-fraudulent. If we instead adopt another cutoff, say 0.25, we will classify much more records as fraudulent and the classification rate might go up because will comprise more non-fraudulent misclassified as fraudulent.\n",
    "\n",
    "Conversely, if we adopt a cutoff of 0.75, we instead classify fewer records as fraudulent and again the misclassification might go up. It is a good practice to empirically identify the best cutoff and validate with an expert to see with the cutoff threshold holds. To see the entire range of cutoff values and how the accuracy or misclassification rates change as a function of the cutoff, we can plot the performance measure of interest vs. the cutoff.\n",
    "\n",
    "b. the classification\n",
    "\n",
    "R> By moving up the cutoff value, the fraudulent records will go down and this decreases the number of fraudulent classified records.\n",
    "\n",
    "Conversely, if the cutoff value is down, the non-fraudulent records will go down and the total fraudulent records will increase.\n",
    "\n",
    "\n",
    "3. FiscalNote is a startup founded by a Washington, DC entrepreneur and funded by a Singapore sovereign wealth fund, the Winklevoss twins of Facebook fame, and others. It uses machine learning and data mining techniques to predict for its clients whether legislation in the US Congress and in US state legislatures will pass or not. The company reports 94% accuracy. (Washington Post, November 21, 2014, “Capital Business”)\n",
    "\n",
    "Considering just bills introduced in the US Congress, do a bit of internet research to learn about numbers of bills introduced and passage rates. Identify the possible types of misclassifications, and comment on the use of overall accuracy as a metric. Include a discussion of other possible metrics and the potential role of\n",
    "propensities.\n",
    "\n",
    "R> This link gives a very good overview about bills and US Congress: https://www.govtrack.us/congress/bills/statistics\n",
    "\n",
    "Concerning the misclassification question, we can think about the following.\n",
    "\n",
    "There are two types of misclassification: \n",
    "\n",
    "- Null hypothesis: bill not passed\n",
    "- Alternate hypothesis: the bill passed\n",
    "\n",
    " \n",
    "    1) Type 1 error (known also as False Positive): It is a condition when the bill is not passed actually but the system predicts that the bill is to be passed\n",
    "\n",
    "    2) Type 2 error (known also as False Negative): It is a condition when the bill is passed actually but the system predicts that the bill is no passed\n",
    "\n",
    "Both of the errors (and the correct guesses) can be summarized in a confusion matrix. To asses whether the system is making good predictions we can use the *propensities* - the probability estimation by an algorithm belongs to a given class (or classes). Propensities are typically used either as an interim step for generating predicted class membership (classification), or for rank-ordering the records by their probability of belonging to a class of interest.\n",
    "\n",
    "If overall classification accuracy (involving all the classes) is of interest, the record can be assigned to the class with the highest probability. Using this technique, it is possible to find the best cutoff that gives the best accuracy for the bill system."
   ]
  },
  {
   "cell_type": "markdown",
   "id": "e6e2a935",
   "metadata": {},
   "source": [
    "4. Consider the figure below, the decile lift chart for the transaction data model, applied to new data.\n",
    "\n",
    "a. Interpret the meaning of the first and second bars from the left.\n",
    "\n",
    "R> Reading the bar on the left, the meaning is that taking 10% of the records that are ranked by the model as “the most probable 1’s” (having the highest propensities) yields six times as many 1’s as would a random selection of 10% of the records. In this example, the decile lift chart indicates that we can also use the model to select the top 20% records with the highest propensities and still perform almost twice as well as random.\n",
    "\n",
    "b. Explain how you might use this information in practice.\n",
    "\n",
    "R> It is possible to use the Lift decile chart when the goal is to accurately classify the most interesting or important records, rather than accurately classify the entire sample (e.g., the 10% of customers most likely to respond to an offer, or the 5% of claims most likely to be fraudulent);\n",
    "\n",
    "c. Another analyst comments that you could improve the accuracy of the model by classifying everything as nonfraudulent. If you do that, what is the error rate?\n",
    "\n",
    "R> Looking at the lift chart and supposing this is a model for targeting customer, targeting 100% of the population performs no better than random guessing. Therefore, the misclassification error for this model is simply the number of those who responded divided by the number of records. \n",
    "\n",
    "d. Comment on the usefulness, in this situation, of these two metrics of model performance (error rate and lift).\n",
    "\n",
    "R> In this situation we can measure the trade-off between correctly classify the critical records and higher/lower misclassification error, such that we are willing to tolerate greater overall error in return for better identifying the important class for further attention."
   ]
  },
  {
   "cell_type": "code",
   "execution_count": 1,
   "id": "675bc29e",
   "metadata": {},
   "outputs": [
    {
     "data": {
      "image/png": "[encoded data removed]",
      "text/plain": [
       "<Figure size 432x288 with 1 Axes>"
      ]
     },
     "metadata": {
      "needs_background": "light"
     },
     "output_type": "display_data"
    }
   ],
   "source": [
    "import matplotlib.pyplot as plt\n",
    "import pandas as pd\n",
    "\n",
    "lift_df = pd.DataFrame({\"Lift\": [6.2, 2.1, 0.43, 0.3, 0.36, 0.1, 0.1, 0.1, 0.1, 0.1],\n",
    "                        \"Percentile\": [10, 20, 30, 40, 50, 60, 70, 80, 90, 100]})\n",
    "\n",
    "fig, ax = plt.subplots()\n",
    "ax.bar(lift_df.Percentile, lift_df.Lift, width=4)\n",
    "ax.set_xlabel(\"Percentile\")\n",
    "ax.set_ylabel(\"Lift\")\n",
    "plt.xticks(lift_df.Percentile)\n",
    "plt.show()"
   ]
  },
  {
   "cell_type": "code",
   "execution_count": null,
   "id": "8189a9dc",
   "metadata": {},
   "outputs": [],
   "source": []
  }
 ],
 "metadata": {
  "kernelspec": {
   "display_name": "Python 3",
   "language": "python",
   "name": "python3"
  },
  "language_info": {
   "codemirror_mode": {
    "name": "ipython",
    "version": 3
   },
   "file_extension": ".py",
   "mimetype": "text/x-python",
   "name": "python",
   "nbconvert_exporter": "python",
   "pygments_lexer": "ipython3",
   "version": "3.8.10"
  },
  "varInspector": {
   "cols": {
    "lenName": 16,
    "lenType": 16,
    "lenVar": 40
   },
   "kernels_config": {
    "python": {
     "delete_cmd_postfix": "",
     "delete_cmd_prefix": "del ",
     "library": "var_list.py",
     "varRefreshCmd": "print(var_dic_list())"
    },
    "r": {
     "delete_cmd_postfix": ") ",
     "delete_cmd_prefix": "rm(",
     "library": "var_list.r",
     "varRefreshCmd": "cat(var_dic_list()) "
    }
   },
   "types_to_exclude": [
    "module",
    "function",
    "builtin_function_or_method",
    "instance",
    "_Feature"
   ],
   "window_display": false
  }
 },
 "nbformat": 4,
 "nbformat_minor": 5
}
