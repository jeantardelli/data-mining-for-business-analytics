{
 "cells": [
  {
   "cell_type": "markdown",
   "id": "84973ac5",
   "metadata": {},
   "source": [
    "## Problems\n",
    "\n",
    "**1.Predicting Boston Housing Prices.** The file `BostonHousing.csv` contains information collected by the US Bureau of the Census concerning housing in the area of Boston, Massachusetts. The dataset includes information on 506 census housing tracts in the Boston area. The goal is to predict the median house price in new tracts based on information such as crime rate, pollution, and number of rooms. The dataset contains 13 predictors, and the outcome variable is the median house price (MEDV). The following describes each of the predictors and the outcome\n",
    "variable:\n",
    "\n",
    "    CRIM: Per capita crime rate by town\n",
    "    ZN: Proportion of residential land zonedfor lots over 25,000 ft squared\n",
    "    INDUS: Proportion of nonretail business acres per town\n",
    "    CHAS: Charles River dummy variable (=1 if tract bounds river; =0 otherwise)\n",
    "    NOX: Nitric oxide concentration (parts per 10 million)\n",
    "    RM: Average number of rooms per dwelling\n",
    "    AGE: Proportion of owner-occupied units built prior to 1940\n",
    "    DIS: Weighted distances to five Boston employment centers\n",
    "    RAD: Index of accessibility to radial highways\n",
    "    TAX: Full-value property-tax rate per $10,000\n",
    "    PTRATIO: Pupil/teacher ratio by town\n",
    "    LSTAT: Percentage lower status of the population\n",
    "    MEDV: Median value of owner-occupied\n",
    "\n",
    "**a.** Why should the data be partitioned into training and validation sets? What will the training set be used for? What will the validation set be used for?\n",
    "\n",
    "When we use the same data both to develop the model and to assess its performance, we introduce an \"optimism\" bias. This is because when we choose the model that works best with the data, this model's superior performance comes from two sources:\n",
    "\n",
    "- A superior model\n",
    "- Chance aspects of the data that happen to match the chosen model better than they match other models\n",
    "\n",
    "The latter is a particularly serious problem with techniques (such as trees and neural nets) that do not impose linear or other structure on the data, and thus end up overfitting it.\n",
    "\n",
    "To address the overfitting problem, we simply divide (partition) our data and develop our model using only one of the partitions. After we have a model, we try it out on another partition and see how it performs, which we can measure in several ways. In a classification model, we can count the proportion of held-back records that were misclassified. In a prediction model, we can measure the residuals (prediction errors) between the predicted values and the actual values. This evaluation approach in effect mimics the deployment scenario, where our model is applied to data that it hasn't \"seen.\"\n",
    "\n",
    "**Training Partition**: the training partition, typically the largest partition, contains the data used to build the various models we are examining. The same training partition is generally used to develop multiple models.\n",
    "\n",
    "**Validation Partition**: the validation partition (sometimes called the test partition) is used to assess the predictive performance of each model so that you can compare models and choose the best one.\n",
    "\n",
    "**b.** Fit a multiple linear regression model to the median house price (MEDV) as a function of CRIM, CHAS, and RM. Write the equation for predicting the median house price from the predictors in the model.\n",
    "\n",
    "For the above predictors, we will estimate the coefficients of the regression formula from the data using a method called *ordinary least squares* (OLS). This method finds values $\\hat{\\beta}_0$, $\\hat{\\beta}_1$, $\\hat{\\beta}_2$, ..., $\\hat{\\beta}_p$, where $\\hat{\\beta_i}$ is the parameter for the predictor *i*, that minimize the sum of squared deviations between the actual outcome values ($Y$) and their predicted values based on that model ($\\hat{Y}$).\n",
    "\n",
    "To predict the value of the outcome variable for a record with predictor values $x_1$, $x_2$, ..., $x_p$, we use the equation:\n",
    "\n",
    "<p>\n",
    "    <center>\n",
    "        $\\hat{Y} = \\hat{\\beta}_0 + \\hat{\\beta}_1 x_1 + \\hat{\\beta}_2 x_2 + ... + \\hat{\\beta}_p x_p$\n",
    "    </center>\n",
    "</p>\n",
    "\n",
    "One very rough rule of thumb is to have a number of records *n* larger than *5(p + 2)*, where *p* is the number of predictors. Since we have 3 predictors, we need at least *5(3 + 2) = 25* records. We have 506 records, so this is not a concern.\n",
    "\n",
    "Let's estimate the predictors (using all data):"
   ]
  },
  {
   "cell_type": "code",
   "execution_count": 1,
   "id": "42a23b51",
   "metadata": {},
   "outputs": [],
   "source": [
    "from sklearn.model_selection import train_test_split\n",
    "from sklearn.linear_model import LinearRegression\n",
    "\n",
    "import seaborn as sns\n",
    "import pandas as pd\n",
    "import matplotlib.pyplot as plt\n",
    "\n",
    "from dmutils import adjusted_r2_score, AIC_score\n",
    "from dmutils import exhaustive_search, backward_elimination\n",
    "from dmutils import forward_selection, stepwise_selection\n",
    "from dmutils import regression_summary"
   ]
  },
  {
   "cell_type": "code",
   "execution_count": 2,
   "id": "e7d29e1f",
   "metadata": {},
   "outputs": [
    {
     "data": {
      "text/html": [
       "<div>\n",
       "<style scoped>\n",
       "    .dataframe tbody tr th:only-of-type {\n",
       "        vertical-align: middle;\n",
       "    }\n",
       "\n",
       "    .dataframe tbody tr th {\n",
       "        vertical-align: top;\n",
       "    }\n",
       "\n",
       "    .dataframe thead th {\n",
       "        text-align: right;\n",
       "    }\n",
       "</style>\n",
       "<table border=\"1\" class=\"dataframe\">\n",
       "  <thead>\n",
       "    <tr style=\"text-align: right;\">\n",
       "      <th></th>\n",
       "      <th>CRIM</th>\n",
       "      <th>ZN</th>\n",
       "      <th>INDUS</th>\n",
       "      <th>CHAS</th>\n",
       "      <th>NOX</th>\n",
       "      <th>RM</th>\n",
       "      <th>AGE</th>\n",
       "      <th>DIS</th>\n",
       "      <th>RAD</th>\n",
       "      <th>TAX</th>\n",
       "      <th>PTRATIO</th>\n",
       "      <th>LSTAT</th>\n",
       "      <th>MEDV</th>\n",
       "      <th>CAT. MEDV</th>\n",
       "    </tr>\n",
       "  </thead>\n",
       "  <tbody>\n",
       "    <tr>\n",
       "      <th>0</th>\n",
       "      <td>0.00632</td>\n",
       "      <td>18.0</td>\n",
       "      <td>2.31</td>\n",
       "      <td>0</td>\n",
       "      <td>0.538</td>\n",
       "      <td>6.575</td>\n",
       "      <td>65.2</td>\n",
       "      <td>4.0900</td>\n",
       "      <td>1</td>\n",
       "      <td>296</td>\n",
       "      <td>15.3</td>\n",
       "      <td>4.98</td>\n",
       "      <td>24.0</td>\n",
       "      <td>0</td>\n",
       "    </tr>\n",
       "    <tr>\n",
       "      <th>1</th>\n",
       "      <td>0.02731</td>\n",
       "      <td>0.0</td>\n",
       "      <td>7.07</td>\n",
       "      <td>0</td>\n",
       "      <td>0.469</td>\n",
       "      <td>6.421</td>\n",
       "      <td>78.9</td>\n",
       "      <td>4.9671</td>\n",
       "      <td>2</td>\n",
       "      <td>242</td>\n",
       "      <td>17.8</td>\n",
       "      <td>9.14</td>\n",
       "      <td>21.6</td>\n",
       "      <td>0</td>\n",
       "    </tr>\n",
       "    <tr>\n",
       "      <th>2</th>\n",
       "      <td>0.02729</td>\n",
       "      <td>0.0</td>\n",
       "      <td>7.07</td>\n",
       "      <td>0</td>\n",
       "      <td>0.469</td>\n",
       "      <td>7.185</td>\n",
       "      <td>61.1</td>\n",
       "      <td>4.9671</td>\n",
       "      <td>2</td>\n",
       "      <td>242</td>\n",
       "      <td>17.8</td>\n",
       "      <td>4.03</td>\n",
       "      <td>34.7</td>\n",
       "      <td>1</td>\n",
       "    </tr>\n",
       "    <tr>\n",
       "      <th>3</th>\n",
       "      <td>0.03237</td>\n",
       "      <td>0.0</td>\n",
       "      <td>2.18</td>\n",
       "      <td>0</td>\n",
       "      <td>0.458</td>\n",
       "      <td>6.998</td>\n",
       "      <td>45.8</td>\n",
       "      <td>6.0622</td>\n",
       "      <td>3</td>\n",
       "      <td>222</td>\n",
       "      <td>18.7</td>\n",
       "      <td>2.94</td>\n",
       "      <td>33.4</td>\n",
       "      <td>1</td>\n",
       "    </tr>\n",
       "    <tr>\n",
       "      <th>4</th>\n",
       "      <td>0.06905</td>\n",
       "      <td>0.0</td>\n",
       "      <td>2.18</td>\n",
       "      <td>0</td>\n",
       "      <td>0.458</td>\n",
       "      <td>7.147</td>\n",
       "      <td>54.2</td>\n",
       "      <td>6.0622</td>\n",
       "      <td>3</td>\n",
       "      <td>222</td>\n",
       "      <td>18.7</td>\n",
       "      <td>5.33</td>\n",
       "      <td>36.2</td>\n",
       "      <td>1</td>\n",
       "    </tr>\n",
       "    <tr>\n",
       "      <th>...</th>\n",
       "      <td>...</td>\n",
       "      <td>...</td>\n",
       "      <td>...</td>\n",
       "      <td>...</td>\n",
       "      <td>...</td>\n",
       "      <td>...</td>\n",
       "      <td>...</td>\n",
       "      <td>...</td>\n",
       "      <td>...</td>\n",
       "      <td>...</td>\n",
       "      <td>...</td>\n",
       "      <td>...</td>\n",
       "      <td>...</td>\n",
       "      <td>...</td>\n",
       "    </tr>\n",
       "    <tr>\n",
       "      <th>501</th>\n",
       "      <td>0.06263</td>\n",
       "      <td>0.0</td>\n",
       "      <td>11.93</td>\n",
       "      <td>0</td>\n",
       "      <td>0.573</td>\n",
       "      <td>6.593</td>\n",
       "      <td>69.1</td>\n",
       "      <td>2.4786</td>\n",
       "      <td>1</td>\n",
       "      <td>273</td>\n",
       "      <td>21.0</td>\n",
       "      <td>9.67</td>\n",
       "      <td>22.4</td>\n",
       "      <td>0</td>\n",
       "    </tr>\n",
       "    <tr>\n",
       "      <th>502</th>\n",
       "      <td>0.04527</td>\n",
       "      <td>0.0</td>\n",
       "      <td>11.93</td>\n",
       "      <td>0</td>\n",
       "      <td>0.573</td>\n",
       "      <td>6.120</td>\n",
       "      <td>76.7</td>\n",
       "      <td>2.2875</td>\n",
       "      <td>1</td>\n",
       "      <td>273</td>\n",
       "      <td>21.0</td>\n",
       "      <td>9.08</td>\n",
       "      <td>20.6</td>\n",
       "      <td>0</td>\n",
       "    </tr>\n",
       "    <tr>\n",
       "      <th>503</th>\n",
       "      <td>0.06076</td>\n",
       "      <td>0.0</td>\n",
       "      <td>11.93</td>\n",
       "      <td>0</td>\n",
       "      <td>0.573</td>\n",
       "      <td>6.976</td>\n",
       "      <td>91.0</td>\n",
       "      <td>2.1675</td>\n",
       "      <td>1</td>\n",
       "      <td>273</td>\n",
       "      <td>21.0</td>\n",
       "      <td>5.64</td>\n",
       "      <td>23.9</td>\n",
       "      <td>0</td>\n",
       "    </tr>\n",
       "    <tr>\n",
       "      <th>504</th>\n",
       "      <td>0.10959</td>\n",
       "      <td>0.0</td>\n",
       "      <td>11.93</td>\n",
       "      <td>0</td>\n",
       "      <td>0.573</td>\n",
       "      <td>6.794</td>\n",
       "      <td>89.3</td>\n",
       "      <td>2.3889</td>\n",
       "      <td>1</td>\n",
       "      <td>273</td>\n",
       "      <td>21.0</td>\n",
       "      <td>6.48</td>\n",
       "      <td>22.0</td>\n",
       "      <td>0</td>\n",
       "    </tr>\n",
       "    <tr>\n",
       "      <th>505</th>\n",
       "      <td>0.04741</td>\n",
       "      <td>0.0</td>\n",
       "      <td>11.93</td>\n",
       "      <td>0</td>\n",
       "      <td>0.573</td>\n",
       "      <td>6.030</td>\n",
       "      <td>80.8</td>\n",
       "      <td>2.5050</td>\n",
       "      <td>1</td>\n",
       "      <td>273</td>\n",
       "      <td>21.0</td>\n",
       "      <td>7.88</td>\n",
       "      <td>11.9</td>\n",
       "      <td>0</td>\n",
       "    </tr>\n",
       "  </tbody>\n",
       "</table>\n",
       "<p>506 rows × 14 columns</p>\n",
       "</div>"
      ],
      "text/plain": [
       "        CRIM    ZN  INDUS  CHAS    NOX     RM   AGE     DIS  RAD  TAX  \\\n",
       "0    0.00632  18.0   2.31     0  0.538  6.575  65.2  4.0900    1  296   \n",
       "1    0.02731   0.0   7.07     0  0.469  6.421  78.9  4.9671    2  242   \n",
       "2    0.02729   0.0   7.07     0  0.469  7.185  61.1  4.9671    2  242   \n",
       "3    0.03237   0.0   2.18     0  0.458  6.998  45.8  6.0622    3  222   \n",
       "4    0.06905   0.0   2.18     0  0.458  7.147  54.2  6.0622    3  222   \n",
       "..       ...   ...    ...   ...    ...    ...   ...     ...  ...  ...   \n",
       "501  0.06263   0.0  11.93     0  0.573  6.593  69.1  2.4786    1  273   \n",
       "502  0.04527   0.0  11.93     0  0.573  6.120  76.7  2.2875    1  273   \n",
       "503  0.06076   0.0  11.93     0  0.573  6.976  91.0  2.1675    1  273   \n",
       "504  0.10959   0.0  11.93     0  0.573  6.794  89.3  2.3889    1  273   \n",
       "505  0.04741   0.0  11.93     0  0.573  6.030  80.8  2.5050    1  273   \n",
       "\n",
       "     PTRATIO  LSTAT  MEDV  CAT. MEDV  \n",
       "0       15.3   4.98  24.0          0  \n",
       "1       17.8   9.14  21.6          0  \n",
       "2       17.8   4.03  34.7          1  \n",
       "3       18.7   2.94  33.4          1  \n",
       "4       18.7   5.33  36.2          1  \n",
       "..       ...    ...   ...        ...  \n",
       "501     21.0   9.67  22.4          0  \n",
       "502     21.0   9.08  20.6          0  \n",
       "503     21.0   5.64  23.9          0  \n",
       "504     21.0   6.48  22.0          0  \n",
       "505     21.0   7.88  11.9          0  \n",
       "\n",
       "[506 rows x 14 columns]"
      ]
     },
     "execution_count": 2,
     "metadata": {},
     "output_type": "execute_result"
    }
   ],
   "source": [
    "# load housing data\n",
    "housing_df = pd.read_csv(\"../datasets/BostonHousing.csv\")\n",
    "housing_df"
   ]
  },
  {
   "cell_type": "code",
   "execution_count": 3,
   "id": "1e1948e6",
   "metadata": {},
   "outputs": [
    {
     "name": "stdout",
     "output_type": "stream",
     "text": [
      "  Predictor  coefficient\n",
      "0      CRIM    -0.260724\n",
      "1      CHAS     3.763037\n",
      "2        RM     8.278180\n",
      "\n",
      "Intercept:  -28.810682506359118\n",
      "\n",
      "Regression statistics\n",
      "\n",
      "                      Mean Error (ME) : -0.0000\n",
      "       Root Mean Squared Error (RMSE) : 6.1453\n",
      "            Mean Absolute Error (MAE) : 4.1782\n",
      "          Mean Percentage Error (MPE) : -7.3835\n",
      "Mean Absolute Percentage Error (MAPE) : 22.9616\n"
     ]
    }
   ],
   "source": [
    "# select predictors\n",
    "predictors = [\"CRIM\", \"CHAS\", \"RM\"]\n",
    "outcome = \"MEDV\"\n",
    "\n",
    "# partition data\n",
    "X = housing_df[predictors]\n",
    "y = housing_df[outcome]\n",
    "\n",
    "housing_lmr = LinearRegression()\n",
    "housing_lmr.fit(X, y)\n",
    "\n",
    "# print coefficients\n",
    "print(pd.DataFrame({'Predictor': X.columns,\n",
    "                    'coefficient': housing_lmr.coef_}))\n",
    "# print intercept\n",
    "print('\\nIntercept: ', housing_lmr.intercept_)\n",
    "# print performance measures (training data)\n",
    "regression_summary(y, housing_lmr.predict(X))"
   ]
  },
  {
   "cell_type": "markdown",
   "id": "8f9da8ee",
   "metadata": {},
   "source": [
    "Therefore, we can write the equation for predicting the median house price as:\n",
    "\n",
    "<p>\n",
    "    <center>\n",
    "        $\\hat{MEDV} = -28.81 - 0.26 x_{CRIM} + 3.76 x_{CHAS} + 8.27 x_{RM}$\n",
    "    </center>\n",
    "</p>"
   ]
  },
  {
   "cell_type": "markdown",
   "id": "9cd9e75f",
   "metadata": {},
   "source": [
    "c. Using the estimated regression model, what median house price is predicted for a tract in the Boston area that does not bound the Charles River, has a crime rate of 0.1, and where the average number of rooms per house is 6?"
   ]
  },
  {
   "cell_type": "code",
   "execution_count": 4,
   "id": "871e5675",
   "metadata": {},
   "outputs": [
    {
     "name": "stdout",
     "output_type": "stream",
     "text": [
      "   CHAS  CRIM  RM\n",
      "0     0   0.1   6\n",
      "\n",
      "Predictions:  [21.23470007]\n"
     ]
    }
   ],
   "source": [
    "# the example of a data frame home to be scored using our regression model\n",
    "\n",
    "new_data = pd.DataFrame({\"CHAS\": [0], \"CRIM\": [0.1], \"RM\": [6]})\n",
    "\n",
    "print(new_data)\n",
    "print(\"\\nPredictions: \", housing_lmr.predict(new_data))"
   ]
  },
  {
   "cell_type": "markdown",
   "id": "c7b18e3a",
   "metadata": {},
   "source": [
    "Thus the predicted MEDV is \\\\$21.23 (in \\\\$1000s) for this house. Since there is no data that is exactly the same as the example given above we are not able to calculate the prediction error (residual)."
   ]
  },
  {
   "cell_type": "markdown",
   "id": "3469ad07",
   "metadata": {},
   "source": [
    "d. Reduce the number of predictors:\n",
    "\n",
    "    i. Which predictors are likely to be measuring the same thing among the 13 predictors? Discuss the\n",
    "    relationships among INDUS, NOX, and TAX.\n",
    "\n",
    "    ii. Compute the correlation table for the 12 numerical predictors and search for highly correlated pairs.\n",
    "    These have potential redundancy and can cause multicollinearity. Choose which ones to remove based on this\n",
    "    table.\n",
    "\n",
    "Let's plot the correlation matrix among variables and check for possible multicollinearity (Multicollinearity is the presence of two or more predictors sharing the same linear relationship with the outcome variable)."
   ]
  },
  {
   "cell_type": "code",
   "execution_count": 5,
   "id": "f94e4db7",
   "metadata": {},
   "outputs": [
    {
     "data": {
      "image/png": "[encoded data removed]",
      "text/plain": [
       "<Figure size 792x504 with 2 Axes>"
      ]
     },
     "metadata": {
      "needs_background": "light"
     },
     "output_type": "display_data"
    }
   ],
   "source": [
    "# simple heatmap of correlations (without values)\n",
    "corr = housing_df.corr()\n",
    "\n",
    "# include information about values\n",
    "# (example demonstrate how to control the size of the plot)\n",
    "fig, ax = plt.subplots()\n",
    "fig.set_size_inches(11, 7)\n",
    "sns.heatmap(corr, annot=True, fmt=\".1f\", cmap=\"RdBu\", center=0, ax=ax)\n",
    "plt.show()"
   ]
  },
  {
   "cell_type": "markdown",
   "id": "057f9aca",
   "metadata": {},
   "source": [
    "**i.** We can see from the above correlation matrix that the correlation between TAX, INDUS and NOX variables are strong, and positive, correlations (knowing the value of one of these variables gives a hint about the others):\n",
    "\n",
    "- TAX and INDUS: 0.7\n",
    "- TAX and NOX: 0.7\n",
    "- NOX and INDUS: 0.8\n",
    "\n",
    "**ii.** Other correlations are:\n",
    "\n",
    "- DIS and INDUS: -0.7\n",
    "- DIS and TAX: -0.7\n",
    "- DIS and AGE: -0.7\n",
    "- DIS and NOX: -0.7\n",
    "\n",
    "These correlation suggest that the weighted distances to five Boston employment centers are inversely proportional to the proportion of nonretail business acres per town, proportion of owner-occupied units built prior to 1940 (old houses), nitric oxide concentration (pollution, parts per 10 million), and full-value property-tax rate per \\\\$10,000.\n",
    "\n",
    "Therefore, these would be good candidates to be removed from the predictor lists as a way to reduce/remove multicollinearity problem."
   ]
  },
  {
   "cell_type": "markdown",
   "id": "515d8400",
   "metadata": {},
   "source": [
    "    iii. Use three subset selection algorithms: backward, forward, and stepwise) to reduce the remaining\n",
    "    predictors. Compute the validation performance for each of the three selected models. Compare RMSE, MAPE,\n",
    "    and mean error, as well as histograms of the errors. Finally, describe the best model."
   ]
  },
  {
   "cell_type": "code",
   "execution_count": 6,
   "id": "a5170853",
   "metadata": {},
   "outputs": [],
   "source": [
    "# select predictors (all variables)\n",
    "predictors = [\"CRIM\", \"ZN\", \"INDUS\", \"CHAS\", \"NOX\",\n",
    "              \"RM\", \"AGE\", \"DIS\", \"RAD\", \"TAX\", \"PTRATIO\", \"LSTAT\"]\n",
    "\n",
    "# partition data, 40% test set\n",
    "X = housing_df[predictors]\n",
    "y = housing_df[outcome]\n",
    "train_X, valid_X, train_y, valid_y = train_test_split(X, y, \n",
    "                                                      test_size=0.4,\n",
    "                                                      random_state=1)"
   ]
  },
  {
   "cell_type": "markdown",
   "id": "3d0a9160",
   "metadata": {},
   "source": [
    "- Exhaustive search:"
   ]
  },
  {
   "cell_type": "code",
   "execution_count": 7,
   "id": "cb7e1d78",
   "metadata": {},
   "outputs": [
    {
     "data": {
      "text/html": [
       "<div>\n",
       "<style scoped>\n",
       "    .dataframe tbody tr th:only-of-type {\n",
       "        vertical-align: middle;\n",
       "    }\n",
       "\n",
       "    .dataframe tbody tr th {\n",
       "        vertical-align: top;\n",
       "    }\n",
       "\n",
       "    .dataframe thead th {\n",
       "        text-align: right;\n",
       "    }\n",
       "</style>\n",
       "<table border=\"1\" class=\"dataframe\">\n",
       "  <thead>\n",
       "    <tr style=\"text-align: right;\">\n",
       "      <th></th>\n",
       "      <th>n</th>\n",
       "      <th>r2adj</th>\n",
       "      <th>AIC</th>\n",
       "      <th>AGE</th>\n",
       "      <th>CHAS</th>\n",
       "      <th>CRIM</th>\n",
       "      <th>DIS</th>\n",
       "      <th>INDUS</th>\n",
       "      <th>LSTAT</th>\n",
       "      <th>NOX</th>\n",
       "      <th>PTRATIO</th>\n",
       "      <th>RAD</th>\n",
       "      <th>RM</th>\n",
       "      <th>TAX</th>\n",
       "      <th>ZN</th>\n",
       "    </tr>\n",
       "  </thead>\n",
       "  <tbody>\n",
       "    <tr>\n",
       "      <th>0</th>\n",
       "      <td>1</td>\n",
       "      <td>0.572980</td>\n",
       "      <td>1934.913465</td>\n",
       "      <td>False</td>\n",
       "      <td>False</td>\n",
       "      <td>False</td>\n",
       "      <td>False</td>\n",
       "      <td>False</td>\n",
       "      <td>True</td>\n",
       "      <td>False</td>\n",
       "      <td>False</td>\n",
       "      <td>False</td>\n",
       "      <td>False</td>\n",
       "      <td>False</td>\n",
       "      <td>False</td>\n",
       "    </tr>\n",
       "    <tr>\n",
       "      <th>1</th>\n",
       "      <td>2</td>\n",
       "      <td>0.651683</td>\n",
       "      <td>1874.178531</td>\n",
       "      <td>False</td>\n",
       "      <td>False</td>\n",
       "      <td>False</td>\n",
       "      <td>False</td>\n",
       "      <td>False</td>\n",
       "      <td>True</td>\n",
       "      <td>False</td>\n",
       "      <td>False</td>\n",
       "      <td>False</td>\n",
       "      <td>True</td>\n",
       "      <td>False</td>\n",
       "      <td>False</td>\n",
       "    </tr>\n",
       "    <tr>\n",
       "      <th>2</th>\n",
       "      <td>3</td>\n",
       "      <td>0.687239</td>\n",
       "      <td>1842.541774</td>\n",
       "      <td>False</td>\n",
       "      <td>False</td>\n",
       "      <td>False</td>\n",
       "      <td>False</td>\n",
       "      <td>False</td>\n",
       "      <td>True</td>\n",
       "      <td>False</td>\n",
       "      <td>True</td>\n",
       "      <td>False</td>\n",
       "      <td>True</td>\n",
       "      <td>False</td>\n",
       "      <td>False</td>\n",
       "    </tr>\n",
       "    <tr>\n",
       "      <th>3</th>\n",
       "      <td>4</td>\n",
       "      <td>0.693208</td>\n",
       "      <td>1837.687606</td>\n",
       "      <td>False</td>\n",
       "      <td>True</td>\n",
       "      <td>False</td>\n",
       "      <td>False</td>\n",
       "      <td>False</td>\n",
       "      <td>True</td>\n",
       "      <td>False</td>\n",
       "      <td>True</td>\n",
       "      <td>False</td>\n",
       "      <td>True</td>\n",
       "      <td>False</td>\n",
       "      <td>False</td>\n",
       "    </tr>\n",
       "    <tr>\n",
       "      <th>4</th>\n",
       "      <td>5</td>\n",
       "      <td>0.708318</td>\n",
       "      <td>1823.366167</td>\n",
       "      <td>False</td>\n",
       "      <td>False</td>\n",
       "      <td>False</td>\n",
       "      <td>True</td>\n",
       "      <td>False</td>\n",
       "      <td>True</td>\n",
       "      <td>True</td>\n",
       "      <td>True</td>\n",
       "      <td>False</td>\n",
       "      <td>True</td>\n",
       "      <td>False</td>\n",
       "      <td>False</td>\n",
       "    </tr>\n",
       "    <tr>\n",
       "      <th>5</th>\n",
       "      <td>6</td>\n",
       "      <td>0.714863</td>\n",
       "      <td>1817.467502</td>\n",
       "      <td>False</td>\n",
       "      <td>False</td>\n",
       "      <td>False</td>\n",
       "      <td>True</td>\n",
       "      <td>False</td>\n",
       "      <td>True</td>\n",
       "      <td>True</td>\n",
       "      <td>True</td>\n",
       "      <td>False</td>\n",
       "      <td>True</td>\n",
       "      <td>False</td>\n",
       "      <td>True</td>\n",
       "    </tr>\n",
       "    <tr>\n",
       "      <th>6</th>\n",
       "      <td>7</td>\n",
       "      <td>0.721032</td>\n",
       "      <td>1811.815660</td>\n",
       "      <td>False</td>\n",
       "      <td>True</td>\n",
       "      <td>False</td>\n",
       "      <td>True</td>\n",
       "      <td>False</td>\n",
       "      <td>True</td>\n",
       "      <td>True</td>\n",
       "      <td>True</td>\n",
       "      <td>False</td>\n",
       "      <td>True</td>\n",
       "      <td>False</td>\n",
       "      <td>True</td>\n",
       "    </tr>\n",
       "    <tr>\n",
       "      <th>7</th>\n",
       "      <td>8</td>\n",
       "      <td>0.723443</td>\n",
       "      <td>1810.156279</td>\n",
       "      <td>False</td>\n",
       "      <td>True</td>\n",
       "      <td>True</td>\n",
       "      <td>True</td>\n",
       "      <td>False</td>\n",
       "      <td>True</td>\n",
       "      <td>True</td>\n",
       "      <td>True</td>\n",
       "      <td>False</td>\n",
       "      <td>True</td>\n",
       "      <td>False</td>\n",
       "      <td>True</td>\n",
       "    </tr>\n",
       "    <tr>\n",
       "      <th>8</th>\n",
       "      <td>9</td>\n",
       "      <td>0.727136</td>\n",
       "      <td>1807.050098</td>\n",
       "      <td>False</td>\n",
       "      <td>False</td>\n",
       "      <td>True</td>\n",
       "      <td>True</td>\n",
       "      <td>False</td>\n",
       "      <td>True</td>\n",
       "      <td>True</td>\n",
       "      <td>True</td>\n",
       "      <td>True</td>\n",
       "      <td>True</td>\n",
       "      <td>True</td>\n",
       "      <td>True</td>\n",
       "    </tr>\n",
       "    <tr>\n",
       "      <th>9</th>\n",
       "      <td>10</td>\n",
       "      <td>0.731108</td>\n",
       "      <td>1803.571740</td>\n",
       "      <td>False</td>\n",
       "      <td>True</td>\n",
       "      <td>True</td>\n",
       "      <td>True</td>\n",
       "      <td>False</td>\n",
       "      <td>True</td>\n",
       "      <td>True</td>\n",
       "      <td>True</td>\n",
       "      <td>True</td>\n",
       "      <td>True</td>\n",
       "      <td>True</td>\n",
       "      <td>True</td>\n",
       "    </tr>\n",
       "    <tr>\n",
       "      <th>10</th>\n",
       "      <td>11</td>\n",
       "      <td>0.730424</td>\n",
       "      <td>1805.301680</td>\n",
       "      <td>False</td>\n",
       "      <td>True</td>\n",
       "      <td>True</td>\n",
       "      <td>True</td>\n",
       "      <td>True</td>\n",
       "      <td>True</td>\n",
       "      <td>True</td>\n",
       "      <td>True</td>\n",
       "      <td>True</td>\n",
       "      <td>True</td>\n",
       "      <td>True</td>\n",
       "      <td>True</td>\n",
       "    </tr>\n",
       "    <tr>\n",
       "      <th>11</th>\n",
       "      <td>12</td>\n",
       "      <td>0.729557</td>\n",
       "      <td>1807.231231</td>\n",
       "      <td>True</td>\n",
       "      <td>True</td>\n",
       "      <td>True</td>\n",
       "      <td>True</td>\n",
       "      <td>True</td>\n",
       "      <td>True</td>\n",
       "      <td>True</td>\n",
       "      <td>True</td>\n",
       "      <td>True</td>\n",
       "      <td>True</td>\n",
       "      <td>True</td>\n",
       "      <td>True</td>\n",
       "    </tr>\n",
       "  </tbody>\n",
       "</table>\n",
       "</div>"
      ],
      "text/plain": [
       "     n     r2adj          AIC    AGE   CHAS   CRIM    DIS  INDUS  LSTAT  \\\n",
       "0    1  0.572980  1934.913465  False  False  False  False  False   True   \n",
       "1    2  0.651683  1874.178531  False  False  False  False  False   True   \n",
       "2    3  0.687239  1842.541774  False  False  False  False  False   True   \n",
       "3    4  0.693208  1837.687606  False   True  False  False  False   True   \n",
       "4    5  0.708318  1823.366167  False  False  False   True  False   True   \n",
       "5    6  0.714863  1817.467502  False  False  False   True  False   True   \n",
       "6    7  0.721032  1811.815660  False   True  False   True  False   True   \n",
       "7    8  0.723443  1810.156279  False   True   True   True  False   True   \n",
       "8    9  0.727136  1807.050098  False  False   True   True  False   True   \n",
       "9   10  0.731108  1803.571740  False   True   True   True  False   True   \n",
       "10  11  0.730424  1805.301680  False   True   True   True   True   True   \n",
       "11  12  0.729557  1807.231231   True   True   True   True   True   True   \n",
       "\n",
       "      NOX  PTRATIO    RAD     RM    TAX     ZN  \n",
       "0   False    False  False  False  False  False  \n",
       "1   False    False  False   True  False  False  \n",
       "2   False     True  False   True  False  False  \n",
       "3   False     True  False   True  False  False  \n",
       "4    True     True  False   True  False  False  \n",
       "5    True     True  False   True  False   True  \n",
       "6    True     True  False   True  False   True  \n",
       "7    True     True  False   True  False   True  \n",
       "8    True     True   True   True   True   True  \n",
       "9    True     True   True   True   True   True  \n",
       "10   True     True   True   True   True   True  \n",
       "11   True     True   True   True   True   True  "
      ]
     },
     "execution_count": 7,
     "metadata": {},
     "output_type": "execute_result"
    }
   ],
   "source": [
    "def train_model(variables):\n",
    "    model = LinearRegression()\n",
    "    model.fit(train_X[list(variables)], train_y)\n",
    "    return model\n",
    "\n",
    "def score_model(model, variables):\n",
    "    pred_y = model.predict(train_X[list(variables)])\n",
    "    # we negate as score is optimized to be as low as possible\n",
    "    return -adjusted_r2_score(train_y, pred_y, model)\n",
    "\n",
    "all_variables = train_X.columns\n",
    "results = exhaustive_search(all_variables, train_model, score_model)\n",
    "\n",
    "data = []\n",
    "for result in results:\n",
    "    model = result[\"model\"]\n",
    "    variables = list(result[\"variables\"])\n",
    "    AIC = AIC_score(train_y, model.predict(train_X[variables]), model)\n",
    "\n",
    "    d = {\"n\": result[\"n\"], \"r2adj\": -result[\"score\"], \"AIC\": AIC}\n",
    "    d.update({var: var in result[\"variables\"] for var in sorted(all_variables)})\n",
    "    data.append(d)\n",
    "\n",
    "pd.DataFrame(data, columns=(\"n\", \"r2adj\", \"AIC\") + tuple(sorted(all_variables)))"
   ]
  },
  {
   "cell_type": "markdown",
   "id": "fa0fadf8",
   "metadata": {},
   "source": [
    "- Backward Selection"
   ]
  },
  {
   "cell_type": "code",
   "execution_count": 8,
   "id": "1e4e27a7",
   "metadata": {},
   "outputs": [
    {
     "name": "stdout",
     "output_type": "stream",
     "text": [
      "Variables: CRIM, ZN, INDUS, CHAS, NOX, RM, AGE, DIS, RAD, TAX, PTRATIO, LSTAT\n",
      "Start: score=1807.23\n",
      "Step: score=1805.30, remove=AGE\n",
      "Step: score=1803.57, remove=INDUS\n",
      "Step: score=1803.57, remove=None\n",
      "['CRIM', 'ZN', 'CHAS', 'NOX', 'RM', 'DIS', 'RAD', 'TAX', 'PTRATIO', 'LSTAT']\n",
      "\n",
      "Regression statistics\n",
      "\n",
      "                      Mean Error (ME) : -0.0393\n",
      "       Root Mean Squared Error (RMSE) : 5.0771\n",
      "            Mean Absolute Error (MAE) : 3.5746\n",
      "          Mean Percentage Error (MPE) : -5.1561\n",
      "Mean Absolute Percentage Error (MAPE) : 16.9733\n"
     ]
    }
   ],
   "source": [
    "def train_model(variables):\n",
    "    model = LinearRegression()\n",
    "    model.fit(train_X[variables], train_y)\n",
    "    return model\n",
    "\n",
    "def score_model(model, variables):\n",
    "    return AIC_score(train_y, model.predict(train_X[variables]), model)\n",
    "\n",
    "\n",
    "all_variables = train_X.columns\n",
    "best_model, best_variables = backward_elimination(all_variables, train_model, score_model,\n",
    "                                                  verbose=True)\n",
    "print(best_variables)\n",
    "regression_summary(valid_y, best_model.predict(valid_X[best_variables]))"
   ]
  },
  {
   "cell_type": "code",
   "execution_count": 9,
   "id": "8d10e805",
   "metadata": {},
   "outputs": [
    {
     "name": "stdout",
     "output_type": "stream",
     "text": [
      "Percentage of datapoints with a residual in [-5, 5]:  0.7684729064039408\n"
     ]
    },
    {
     "data": {
      "image/png": "[encoded data removed]",
      "text/plain": [
       "<Figure size 432x288 with 1 Axes>"
      ]
     },
     "metadata": {
      "needs_background": "light"
     },
     "output_type": "display_data"
    }
   ],
   "source": [
    "all_residuals = valid_y - best_model.predict(valid_X[best_variables])\n",
    "\n",
    "# Determine the percentage of datapoints with a residual in [-5, 5] = approx. 75%\n",
    "print(\"Percentage of datapoints with a residual in [-5, 5]: \",\n",
    "      len(all_residuals[(all_residuals > -5) & (all_residuals < 5)]) / len(all_residuals))\n",
    "\n",
    "pd.DataFrame({\"Residuals\": all_residuals}).hist(bins=25)\n",
    "plt.show()"
   ]
  },
  {
   "cell_type": "markdown",
   "id": "f4292908",
   "metadata": {},
   "source": [
    "- Forward Selection"
   ]
  },
  {
   "cell_type": "code",
   "execution_count": 10,
   "id": "152ba722",
   "metadata": {},
   "outputs": [
    {
     "name": "stdout",
     "output_type": "stream",
     "text": [
      "Variables: CRIM, ZN, INDUS, CHAS, NOX, RM, AGE, DIS, RAD, TAX, PTRATIO, LSTAT\n",
      "Start: score=2191.75, constant\n",
      "Step: score=1934.91, add LSTAT\n",
      "Step: score=1874.18, add RM\n",
      "Step: score=1842.54, add PTRATIO\n",
      "Step: score=1837.69, add CHAS\n",
      "Step: score=1835.00, add NOX\n",
      "Step: score=1817.90, add DIS\n",
      "Step: score=1811.82, add ZN\n",
      "Step: score=1810.16, add CRIM\n",
      "Step: score=1808.01, add RAD\n",
      "Step: score=1803.57, add TAX\n",
      "Step: score=1803.57, add None\n",
      "['LSTAT', 'RM', 'PTRATIO', 'CHAS', 'NOX', 'DIS', 'ZN', 'CRIM', 'RAD', 'TAX']\n",
      "\n",
      "Regression statistics\n",
      "\n",
      "                      Mean Error (ME) : -0.0393\n",
      "       Root Mean Squared Error (RMSE) : 5.0771\n",
      "            Mean Absolute Error (MAE) : 3.5746\n",
      "          Mean Percentage Error (MPE) : -5.1561\n",
      "Mean Absolute Percentage Error (MAPE) : 16.9733\n"
     ]
    }
   ],
   "source": [
    "# The initial model is the constant model - this requires special handling\n",
    "# in train_model and score_model\n",
    "def train_model(variables):\n",
    "    if len(variables) == 0:\n",
    "        return None\n",
    "    model = LinearRegression()\n",
    "    model.fit(train_X[variables], train_y)\n",
    "    return model\n",
    "\n",
    "def score_model(model, variables):\n",
    "    if len(variables) == 0:\n",
    "        return AIC_score(train_y, [train_y.mean()] * len(train_y), model, df=1)\n",
    "    return AIC_score(train_y, model.predict(train_X[variables]), model)\n",
    "\n",
    "best_model, best_variables = forward_selection(train_X.columns, train_model,\n",
    "                                               score_model, verbose=True)\n",
    "print(best_variables)\n",
    "regression_summary(valid_y, best_model.predict(valid_X[best_variables]))"
   ]
  },
  {
   "cell_type": "code",
   "execution_count": 11,
   "id": "0386ced7",
   "metadata": {},
   "outputs": [
    {
     "name": "stdout",
     "output_type": "stream",
     "text": [
      "Percentage of datapoints with a residual in [-5, 5]:  0.7684729064039408\n"
     ]
    },
    {
     "data": {
      "image/png": "[encoded data removed]",
      "text/plain": [
       "<Figure size 432x288 with 1 Axes>"
      ]
     },
     "metadata": {
      "needs_background": "light"
     },
     "output_type": "display_data"
    }
   ],
   "source": [
    "all_residuals = valid_y - best_model.predict(valid_X[best_variables])\n",
    "\n",
    "# Determine the percentage of datapoints with a residual in [-5, 5] = approx. 75%\n",
    "print(\"Percentage of datapoints with a residual in [-5, 5]: \",\n",
    "      len(all_residuals[(all_residuals > -5) & (all_residuals < 5)]) / len(all_residuals))\n",
    "\n",
    "pd.DataFrame({\"Residuals\": all_residuals}).hist(bins=25)\n",
    "plt.show()"
   ]
  },
  {
   "cell_type": "markdown",
   "id": "5e867c03",
   "metadata": {},
   "source": [
    "- Stepwise Selection"
   ]
  },
  {
   "cell_type": "code",
   "execution_count": 12,
   "id": "62e89416",
   "metadata": {},
   "outputs": [
    {
     "name": "stdout",
     "output_type": "stream",
     "text": [
      "Variables: CRIM, ZN, INDUS, CHAS, NOX, RM, AGE, DIS, RAD, TAX, PTRATIO, LSTAT\n",
      "Start: score=2191.75, constant\n",
      "Step: score=1934.91, add LSTAT\n",
      "Step: score=1874.18, add RM\n",
      "Step: score=1842.54, add PTRATIO\n",
      "Step: score=1837.69, add CHAS\n",
      "Step: score=1835.00, add NOX\n",
      "Step: score=1817.90, add DIS\n",
      "Step: score=1811.82, add ZN\n",
      "Step: score=1810.16, add CRIM\n",
      "Step: score=1808.01, add RAD\n",
      "Step: score=1803.57, add TAX\n",
      "Step: score=1803.57, unchanged None\n",
      "['LSTAT', 'RM', 'PTRATIO', 'CHAS', 'NOX', 'DIS', 'ZN', 'CRIM', 'RAD', 'TAX']\n",
      "\n",
      "Regression statistics\n",
      "\n",
      "                      Mean Error (ME) : -0.0393\n",
      "       Root Mean Squared Error (RMSE) : 5.0771\n",
      "            Mean Absolute Error (MAE) : 3.5746\n",
      "          Mean Percentage Error (MPE) : -5.1561\n",
      "Mean Absolute Percentage Error (MAPE) : 16.9733\n"
     ]
    }
   ],
   "source": [
    "best_model, best_variables = stepwise_selection(train_X.columns, train_model,\n",
    "                                                score_model, verbose=True)\n",
    "print(best_variables)\n",
    "regression_summary(valid_y, best_model.predict(valid_X[best_variables]))"
   ]
  },
  {
   "cell_type": "code",
   "execution_count": 13,
   "id": "f180e68a",
   "metadata": {},
   "outputs": [
    {
     "name": "stdout",
     "output_type": "stream",
     "text": [
      "Percentage of datapoints with a residual in [-5, 5]:  0.7684729064039408\n"
     ]
    },
    {
     "data": {
      "image/png": "[encoded data removed]",
      "text/plain": [
       "<Figure size 432x288 with 1 Axes>"
      ]
     },
     "metadata": {
      "needs_background": "light"
     },
     "output_type": "display_data"
    }
   ],
   "source": [
    "all_residuals = valid_y - best_model.predict(valid_X[best_variables])\n",
    "\n",
    "# Determine the percentage of datapoints with a residual in [-5, 5] = approx. 75%\n",
    "print(\"Percentage of datapoints with a residual in [-5, 5]: \",\n",
    "      len(all_residuals[(all_residuals > -5) & (all_residuals < 5)]) / len(all_residuals))\n",
    "\n",
    "pd.DataFrame({\"Residuals\": all_residuals}).hist(bins=25)\n",
    "plt.show()"
   ]
  },
  {
   "cell_type": "markdown",
   "id": "0ea36fa8",
   "metadata": {},
   "source": [
    "The chosen ten-predictor models from backward, forward and stepwise selection are identical to the best eight-predictor model chosen by the exhaustive search. The variables are:\n",
    "\n",
    "- CHAS;\n",
    "- CRIM;\n",
    "- DIS;\n",
    "- LSTAT;\n",
    "- NOX;\n",
    "- PTRATIO;\n",
    "- RAD;\n",
    "- RM;\n",
    "- TAX;\n",
    "- ZN;\n",
    "\n",
    "In this example, forward selection, backward selection and stepwise regression end up with this same ten-predictor model. This need not be the case with other datasets. Besides that, the histogram of errors are the same as the resultant models are the same for all variable selector methods.\n",
    "\n",
    "Finally, the validation performance of the ten-predictor models is slightly better than the all-predictor model in terms of validation metrics (see below table). This happens because of the multicollinearity effect that regression coefficients suffer - there are variables in the model that have small coefficients relative to the standard deviation of the noise and also exhibit at least moderate correlation with other variables);\n",
    "\n",
    "                       R_adj       AIC\n",
    "      ten-predictor: 0.731108    1803.571740\n",
    "      all-predictor: 0.729557    1807.231231\n",
    "\n",
    "There is an even smaller model, performing only slightly worse, that is preferable from a parsimony standpoint."
   ]
  },
  {
   "cell_type": "markdown",
   "id": "b732c80a",
   "metadata": {},
   "source": [
    "**2.Predicting Software Reselling Profits.** Tayko Software is a software catalog firm that sells games and educational software. It started out as a software manufacturer and then added third-party titles to its offerings. It recently revised its collection of items in a new catalog, which it mailed out to its customers. This mailing yielded 2000 purchases. Based on these data, Tayko wants to devise a model for predicting the spending amount that a purchasing customer will yield. The file `Tayko.csv` contains information on 2000 purchases. The following table describes the variables to be used in the problem (the Excel file contains additional variables).\n",
    "\n",
    "    FREQ: Number of transactions in the preceding year\n",
    "    LAST_UPDATE: Number of days since last update to customer record\n",
    "    WEB: Whether customer purchased by Web order at least once\n",
    "    GENDER: Male or female\n",
    "    ADDRESS_RES: Whether it is a residential address\n",
    "    ADDRESS_US: Whether it is a US address\n",
    "    SPENDING: Amount spent by customer in (outcome) test mailing ($)\n",
    "\n",
    "a. Explore the spending amount by creating a pivot table for the categorical variables and computing the average and standard deviation of spending in each category."
   ]
  },
  {
   "cell_type": "code",
   "execution_count": 14,
   "id": "e14ebded",
   "metadata": {},
   "outputs": [
    {
     "data": {
      "text/html": [
       "<div>\n",
       "<style scoped>\n",
       "    .dataframe tbody tr th:only-of-type {\n",
       "        vertical-align: middle;\n",
       "    }\n",
       "\n",
       "    .dataframe tbody tr th {\n",
       "        vertical-align: top;\n",
       "    }\n",
       "\n",
       "    .dataframe thead th {\n",
       "        text-align: right;\n",
       "    }\n",
       "</style>\n",
       "<table border=\"1\" class=\"dataframe\">\n",
       "  <thead>\n",
       "    <tr style=\"text-align: right;\">\n",
       "      <th></th>\n",
       "      <th>FREQ</th>\n",
       "      <th>LAST_UPDATE</th>\n",
       "      <th>WEB</th>\n",
       "      <th>GENDER</th>\n",
       "      <th>ADDRESS_RES</th>\n",
       "      <th>ADDRESS_US</th>\n",
       "      <th>SPENDING</th>\n",
       "    </tr>\n",
       "  </thead>\n",
       "  <tbody>\n",
       "    <tr>\n",
       "      <th>0</th>\n",
       "      <td>2</td>\n",
       "      <td>3662</td>\n",
       "      <td>1</td>\n",
       "      <td>0</td>\n",
       "      <td>1</td>\n",
       "      <td>1</td>\n",
       "      <td>128</td>\n",
       "    </tr>\n",
       "    <tr>\n",
       "      <th>1</th>\n",
       "      <td>0</td>\n",
       "      <td>2900</td>\n",
       "      <td>1</td>\n",
       "      <td>1</td>\n",
       "      <td>0</td>\n",
       "      <td>1</td>\n",
       "      <td>0</td>\n",
       "    </tr>\n",
       "    <tr>\n",
       "      <th>2</th>\n",
       "      <td>2</td>\n",
       "      <td>3883</td>\n",
       "      <td>0</td>\n",
       "      <td>0</td>\n",
       "      <td>0</td>\n",
       "      <td>1</td>\n",
       "      <td>127</td>\n",
       "    </tr>\n",
       "    <tr>\n",
       "      <th>3</th>\n",
       "      <td>1</td>\n",
       "      <td>829</td>\n",
       "      <td>0</td>\n",
       "      <td>1</td>\n",
       "      <td>0</td>\n",
       "      <td>1</td>\n",
       "      <td>0</td>\n",
       "    </tr>\n",
       "    <tr>\n",
       "      <th>4</th>\n",
       "      <td>1</td>\n",
       "      <td>869</td>\n",
       "      <td>0</td>\n",
       "      <td>0</td>\n",
       "      <td>0</td>\n",
       "      <td>1</td>\n",
       "      <td>0</td>\n",
       "    </tr>\n",
       "  </tbody>\n",
       "</table>\n",
       "</div>"
      ],
      "text/plain": [
       "   FREQ  LAST_UPDATE  WEB  GENDER  ADDRESS_RES  ADDRESS_US  SPENDING\n",
       "0     2         3662    1       0            1           1       128\n",
       "1     0         2900    1       1            0           1         0\n",
       "2     2         3883    0       0            0           1       127\n",
       "3     1          829    0       1            0           1         0\n",
       "4     1          869    0       0            0           1         0"
      ]
     },
     "execution_count": 14,
     "metadata": {},
     "output_type": "execute_result"
    }
   ],
   "source": [
    "columns=[\"Freq\", \"last_update_days_ago\", \"Web order\", \"Gender=male\",\n",
    "         \"Address_is_res\", \"US\", \"Spending\"]\n",
    "selling_df = pd.read_csv(\"../datasets/Tayko.csv\")\n",
    "selling_df = selling_df[columns].copy()\n",
    "selling_df = selling_df.rename(columns={\"Freq\": \"FREQ\",\n",
    "                                        \"last_update_days_ago\": \"LAST_UPDATE\",\n",
    "                                        \"Web order\": \"WEB\",\n",
    "                                        \"Gender=male\": \"GENDER\",\n",
    "                                        \"Address_is_res\": \"ADDRESS_RES\",\n",
    "                                        \"US\": \"ADDRESS_US\",\n",
    "                                        \"Spending\": \"SPENDING\"\n",
    "                                       })\n",
    "selling_df.head()"
   ]
  },
  {
   "cell_type": "markdown",
   "id": "5a28785b",
   "metadata": {},
   "source": [
    "- Web"
   ]
  },
  {
   "cell_type": "code",
   "execution_count": 15,
   "id": "194a20a3",
   "metadata": {
    "scrolled": true
   },
   "outputs": [
    {
     "data": {
      "text/html": [
       "<div>\n",
       "<style scoped>\n",
       "    .dataframe tbody tr th:only-of-type {\n",
       "        vertical-align: middle;\n",
       "    }\n",
       "\n",
       "    .dataframe tbody tr th {\n",
       "        vertical-align: top;\n",
       "    }\n",
       "\n",
       "    .dataframe thead tr th {\n",
       "        text-align: left;\n",
       "    }\n",
       "\n",
       "    .dataframe thead tr:last-of-type th {\n",
       "        text-align: right;\n",
       "    }\n",
       "</style>\n",
       "<table border=\"1\" class=\"dataframe\">\n",
       "  <thead>\n",
       "    <tr>\n",
       "      <th></th>\n",
       "      <th colspan=\"2\" halign=\"left\">SPENDING</th>\n",
       "    </tr>\n",
       "    <tr>\n",
       "      <th></th>\n",
       "      <th>mean</th>\n",
       "      <th>std</th>\n",
       "    </tr>\n",
       "    <tr>\n",
       "      <th>WEB</th>\n",
       "      <th></th>\n",
       "      <th></th>\n",
       "    </tr>\n",
       "  </thead>\n",
       "  <tbody>\n",
       "    <tr>\n",
       "      <th>0</th>\n",
       "      <td>82.902439</td>\n",
       "      <td>173.417088</td>\n",
       "    </tr>\n",
       "    <tr>\n",
       "      <th>1</th>\n",
       "      <td>129.199531</td>\n",
       "      <td>200.463840</td>\n",
       "    </tr>\n",
       "  </tbody>\n",
       "</table>\n",
       "</div>"
      ],
      "text/plain": [
       "       SPENDING            \n",
       "           mean         std\n",
       "WEB                        \n",
       "0     82.902439  173.417088\n",
       "1    129.199531  200.463840"
      ]
     },
     "execution_count": 15,
     "metadata": {},
     "output_type": "execute_result"
    }
   ],
   "source": [
    "selling_df[[\"WEB\", \"SPENDING\"]].groupby(\"WEB\").agg({\"SPENDING\": [\"mean\", \"std\"]})"
   ]
  },
  {
   "cell_type": "markdown",
   "id": "f319c2cc",
   "metadata": {},
   "source": [
    "Web spending are higher on average compared to non-web spending;"
   ]
  },
  {
   "cell_type": "markdown",
   "id": "5e6699e8",
   "metadata": {},
   "source": [
    "- Gender"
   ]
  },
  {
   "cell_type": "code",
   "execution_count": 16,
   "id": "7c178911",
   "metadata": {},
   "outputs": [
    {
     "data": {
      "text/html": [
       "<div>\n",
       "<style scoped>\n",
       "    .dataframe tbody tr th:only-of-type {\n",
       "        vertical-align: middle;\n",
       "    }\n",
       "\n",
       "    .dataframe tbody tr th {\n",
       "        vertical-align: top;\n",
       "    }\n",
       "\n",
       "    .dataframe thead tr th {\n",
       "        text-align: left;\n",
       "    }\n",
       "\n",
       "    .dataframe thead tr:last-of-type th {\n",
       "        text-align: right;\n",
       "    }\n",
       "</style>\n",
       "<table border=\"1\" class=\"dataframe\">\n",
       "  <thead>\n",
       "    <tr>\n",
       "      <th></th>\n",
       "      <th colspan=\"2\" halign=\"left\">SPENDING</th>\n",
       "    </tr>\n",
       "    <tr>\n",
       "      <th></th>\n",
       "      <th>mean</th>\n",
       "      <th>std</th>\n",
       "    </tr>\n",
       "    <tr>\n",
       "      <th>GENDER</th>\n",
       "      <th></th>\n",
       "      <th></th>\n",
       "    </tr>\n",
       "  </thead>\n",
       "  <tbody>\n",
       "    <tr>\n",
       "      <th>0</th>\n",
       "      <td>107.339642</td>\n",
       "      <td>190.83233</td>\n",
       "    </tr>\n",
       "    <tr>\n",
       "      <th>1</th>\n",
       "      <td>98.350810</td>\n",
       "      <td>183.02006</td>\n",
       "    </tr>\n",
       "  </tbody>\n",
       "</table>\n",
       "</div>"
      ],
      "text/plain": [
       "          SPENDING           \n",
       "              mean        std\n",
       "GENDER                       \n",
       "0       107.339642  190.83233\n",
       "1        98.350810  183.02006"
      ]
     },
     "execution_count": 16,
     "metadata": {},
     "output_type": "execute_result"
    }
   ],
   "source": [
    "selling_df[[\"GENDER\", \"SPENDING\"]].groupby(\"GENDER\").agg({\"SPENDING\": [\"mean\", \"std\"]})"
   ]
  },
  {
   "cell_type": "markdown",
   "id": "80868753",
   "metadata": {},
   "source": [
    "Male spending are higher on average compared to female spending;"
   ]
  },
  {
   "cell_type": "markdown",
   "id": "e3eacdd8",
   "metadata": {},
   "source": [
    "- Address Residential"
   ]
  },
  {
   "cell_type": "code",
   "execution_count": 17,
   "id": "a315edc9",
   "metadata": {},
   "outputs": [
    {
     "data": {
      "text/html": [
       "<div>\n",
       "<style scoped>\n",
       "    .dataframe tbody tr th:only-of-type {\n",
       "        vertical-align: middle;\n",
       "    }\n",
       "\n",
       "    .dataframe tbody tr th {\n",
       "        vertical-align: top;\n",
       "    }\n",
       "\n",
       "    .dataframe thead tr th {\n",
       "        text-align: left;\n",
       "    }\n",
       "\n",
       "    .dataframe thead tr:last-of-type th {\n",
       "        text-align: right;\n",
       "    }\n",
       "</style>\n",
       "<table border=\"1\" class=\"dataframe\">\n",
       "  <thead>\n",
       "    <tr>\n",
       "      <th></th>\n",
       "      <th colspan=\"2\" halign=\"left\">SPENDING</th>\n",
       "    </tr>\n",
       "    <tr>\n",
       "      <th></th>\n",
       "      <th>mean</th>\n",
       "      <th>std</th>\n",
       "    </tr>\n",
       "    <tr>\n",
       "      <th>ADDRESS_RES</th>\n",
       "      <th></th>\n",
       "      <th></th>\n",
       "    </tr>\n",
       "  </thead>\n",
       "  <tbody>\n",
       "    <tr>\n",
       "      <th>0</th>\n",
       "      <td>105.306162</td>\n",
       "      <td>199.521159</td>\n",
       "    </tr>\n",
       "    <tr>\n",
       "      <th>1</th>\n",
       "      <td>93.174208</td>\n",
       "      <td>132.204281</td>\n",
       "    </tr>\n",
       "  </tbody>\n",
       "</table>\n",
       "</div>"
      ],
      "text/plain": [
       "               SPENDING            \n",
       "                   mean         std\n",
       "ADDRESS_RES                        \n",
       "0            105.306162  199.521159\n",
       "1             93.174208  132.204281"
      ]
     },
     "execution_count": 17,
     "metadata": {},
     "output_type": "execute_result"
    }
   ],
   "source": [
    "selling_df[[\"ADDRESS_RES\", \"SPENDING\"]].groupby(\"ADDRESS_RES\").agg({\"SPENDING\": [\"mean\", \"std\"]})"
   ]
  },
  {
   "cell_type": "markdown",
   "id": "f09c81ae",
   "metadata": {},
   "source": [
    "Non-address residential purchases spending are higher on average compared to residential addresses spending;"
   ]
  },
  {
   "cell_type": "markdown",
   "id": "0a6399c1",
   "metadata": {},
   "source": [
    "- Address US"
   ]
  },
  {
   "cell_type": "code",
   "execution_count": 18,
   "id": "162e9282",
   "metadata": {},
   "outputs": [
    {
     "data": {
      "text/html": [
       "<div>\n",
       "<style scoped>\n",
       "    .dataframe tbody tr th:only-of-type {\n",
       "        vertical-align: middle;\n",
       "    }\n",
       "\n",
       "    .dataframe tbody tr th {\n",
       "        vertical-align: top;\n",
       "    }\n",
       "\n",
       "    .dataframe thead tr th {\n",
       "        text-align: left;\n",
       "    }\n",
       "\n",
       "    .dataframe thead tr:last-of-type th {\n",
       "        text-align: right;\n",
       "    }\n",
       "</style>\n",
       "<table border=\"1\" class=\"dataframe\">\n",
       "  <thead>\n",
       "    <tr>\n",
       "      <th></th>\n",
       "      <th colspan=\"2\" halign=\"left\">SPENDING</th>\n",
       "    </tr>\n",
       "    <tr>\n",
       "      <th></th>\n",
       "      <th>mean</th>\n",
       "      <th>std</th>\n",
       "    </tr>\n",
       "    <tr>\n",
       "      <th>ADDRESS_US</th>\n",
       "      <th></th>\n",
       "      <th></th>\n",
       "    </tr>\n",
       "  </thead>\n",
       "  <tbody>\n",
       "    <tr>\n",
       "      <th>0</th>\n",
       "      <td>101.216524</td>\n",
       "      <td>174.844401</td>\n",
       "    </tr>\n",
       "    <tr>\n",
       "      <th>1</th>\n",
       "      <td>102.924803</td>\n",
       "      <td>189.275664</td>\n",
       "    </tr>\n",
       "  </tbody>\n",
       "</table>\n",
       "</div>"
      ],
      "text/plain": [
       "              SPENDING            \n",
       "                  mean         std\n",
       "ADDRESS_US                        \n",
       "0           101.216524  174.844401\n",
       "1           102.924803  189.275664"
      ]
     },
     "execution_count": 18,
     "metadata": {},
     "output_type": "execute_result"
    }
   ],
   "source": [
    "selling_df[[\"ADDRESS_US\", \"SPENDING\"]].groupby(\"ADDRESS_US\").agg({\"SPENDING\": [\"mean\", \"std\"]})"
   ]
  },
  {
   "cell_type": "markdown",
   "id": "75e0a475",
   "metadata": {},
   "source": [
    "Address US purchases spending are almost the same (on average) compared to non-us addresses spending;"
   ]
  },
  {
   "cell_type": "markdown",
   "id": "c49ff9aa",
   "metadata": {},
   "source": [
    "b. Explore the relationship between spending and each of the two continuous predictors by creating two scatter plots (Spending vs. Freq, and Spending vs. last_update_days_ago). Does there seem to be a linear relationship?"
   ]
  },
  {
   "cell_type": "code",
   "execution_count": 19,
   "id": "2bb20eb3",
   "metadata": {},
   "outputs": [
    {
     "data": {
      "image/png": "[encoded data removed]",
      "text/plain": [
       "<Figure size 432x288 with 1 Axes>"
      ]
     },
     "metadata": {
      "needs_background": "light"
     },
     "output_type": "display_data"
    },
    {
     "data": {
      "image/png": "[encoded data removed]",
      "text/plain": [
       "<Figure size 432x288 with 1 Axes>"
      ]
     },
     "metadata": {
      "needs_background": "light"
     },
     "output_type": "display_data"
    }
   ],
   "source": [
    "plt.scatter(selling_df.SPENDING, selling_df.FREQ, alpha=0.2)\n",
    "plt.xlabel(\"SPENDING\")\n",
    "plt.ylabel(\"FREQ\")\n",
    "plt.show()\n",
    "\n",
    "plt.scatter(selling_df.SPENDING, selling_df.LAST_UPDATE, alpha=0.2)\n",
    "plt.xlabel(\"SPENDING\")\n",
    "plt.ylabel(\"LAST UPDATE\")\n",
    "plt.show()"
   ]
  },
  {
   "cell_type": "markdown",
   "id": "e54b6876",
   "metadata": {},
   "source": [
    "The relationship between spending and frequency of purchase appears appears to be linear, such that when the frequency increases, so does the amount spent. The relationship between spending and last update seems to be less linear. Though it appears to exist a linear relationship between the two variable.\n",
    "\n",
    "Computing the correlation matrix help us to be sure about such relationships:"
   ]
  },
  {
   "cell_type": "code",
   "execution_count": 20,
   "id": "c8f07e40",
   "metadata": {},
   "outputs": [
    {
     "data": {
      "text/html": [
       "<div>\n",
       "<style scoped>\n",
       "    .dataframe tbody tr th:only-of-type {\n",
       "        vertical-align: middle;\n",
       "    }\n",
       "\n",
       "    .dataframe tbody tr th {\n",
       "        vertical-align: top;\n",
       "    }\n",
       "\n",
       "    .dataframe thead th {\n",
       "        text-align: right;\n",
       "    }\n",
       "</style>\n",
       "<table border=\"1\" class=\"dataframe\">\n",
       "  <thead>\n",
       "    <tr style=\"text-align: right;\">\n",
       "      <th></th>\n",
       "      <th>FREQ</th>\n",
       "      <th>LAST_UPDATE</th>\n",
       "      <th>SPENDING</th>\n",
       "    </tr>\n",
       "  </thead>\n",
       "  <tbody>\n",
       "    <tr>\n",
       "      <th>FREQ</th>\n",
       "      <td>1.000000</td>\n",
       "      <td>-0.348303</td>\n",
       "      <td>0.691128</td>\n",
       "    </tr>\n",
       "    <tr>\n",
       "      <th>LAST_UPDATE</th>\n",
       "      <td>-0.348303</td>\n",
       "      <td>1.000000</td>\n",
       "      <td>-0.256912</td>\n",
       "    </tr>\n",
       "    <tr>\n",
       "      <th>SPENDING</th>\n",
       "      <td>0.691128</td>\n",
       "      <td>-0.256912</td>\n",
       "      <td>1.000000</td>\n",
       "    </tr>\n",
       "  </tbody>\n",
       "</table>\n",
       "</div>"
      ],
      "text/plain": [
       "                 FREQ  LAST_UPDATE  SPENDING\n",
       "FREQ         1.000000    -0.348303  0.691128\n",
       "LAST_UPDATE -0.348303     1.000000 -0.256912\n",
       "SPENDING     0.691128    -0.256912  1.000000"
      ]
     },
     "execution_count": 20,
     "metadata": {},
     "output_type": "execute_result"
    }
   ],
   "source": [
    "selling_df[[\"FREQ\", \"LAST_UPDATE\", \"SPENDING\"]].corr()"
   ]
  },
  {
   "cell_type": "markdown",
   "id": "1d4aa9e0",
   "metadata": {},
   "source": [
    "From the correlation matrix it is possible to see that both have a linear relationship, being the spending and frequency of transactions in the previous year a positive and strong correlation and the last update (number of days since last update to customer record) negatively, but no strongly, correlated with spending."
   ]
  },
  {
   "cell_type": "markdown",
   "id": "72f4a805",
   "metadata": {},
   "source": [
    "c. To fit a predictive model for Spending:\n",
    "\n",
    "    i. Partition the 2000 records into training and validation sets."
   ]
  },
  {
   "cell_type": "code",
   "execution_count": 21,
   "id": "16f840ca",
   "metadata": {},
   "outputs": [],
   "source": [
    "# select predictors\n",
    "predictors = [\"FREQ\", \"LAST_UPDATE\", \"WEB\", \"GENDER\",\n",
    "              \"ADDRESS_RES\", \"ADDRESS_US\"]\n",
    "outcome = \"SPENDING\"\n",
    "\n",
    "# partition data, 40% test set\n",
    "X = selling_df[predictors]\n",
    "y = selling_df[outcome]\n",
    "train_X, valid_X, train_y, valid_y = train_test_split(X, y, \n",
    "                                                      test_size=0.4,\n",
    "                                                      random_state=1)"
   ]
  },
  {
   "cell_type": "markdown",
   "id": "6a187931",
   "metadata": {},
   "source": [
    "    ii. Run a multiple linear regression model for Spending vs. all six predictors. Give the estimated\n",
    "    predictive equation."
   ]
  },
  {
   "cell_type": "code",
   "execution_count": 22,
   "id": "d33fad69",
   "metadata": {},
   "outputs": [
    {
     "name": "stdout",
     "output_type": "stream",
     "text": [
      "     Predictor  coefficient\n",
      "0         FREQ    91.274450\n",
      "1  LAST_UPDATE    -0.010374\n",
      "2          WEB    18.628731\n",
      "3       GENDER    -9.111366\n",
      "4  ADDRESS_RES   -75.815354\n",
      "5   ADDRESS_US    -4.620293\n",
      "\n",
      "Intercept:  10.176297413561059\n",
      "\n",
      "Regression statistics\n",
      "\n",
      "               Mean Error (ME) : 2.8773\n",
      "Root Mean Squared Error (RMSE) : 130.4020\n",
      "     Mean Absolute Error (MAE) : 81.1267\n"
     ]
    }
   ],
   "source": [
    "selling_lmr = LinearRegression()\n",
    "selling_lmr.fit(train_X, train_y)\n",
    "\n",
    "# print coefficients\n",
    "print(pd.DataFrame({'Predictor': train_X.columns,\n",
    "                    'coefficient': selling_lmr.coef_}))\n",
    "# print intercept\n",
    "print('\\nIntercept: ', selling_lmr.intercept_)\n",
    "# print performance measures (training data)\n",
    "regression_summary(y, selling_lmr.predict(X))"
   ]
  },
  {
   "cell_type": "markdown",
   "id": "828f0b98",
   "metadata": {},
   "source": [
    "Therefore, we can write the equation for predicting the selling amount as:\n",
    "\n",
    "<p>\n",
    "    <center>\n",
    "        $\\hat{Y}_{SPENDING} = 10.17 + 91.27 x_{FREQ} - 0.01 x_{LAST\\_UPDATE} + 18.63 x_{WEB} - 9.11 x_{GENDER} - 75.81 x_{ADD\\_RES} - 4.62 x_{ADD\\_US}$\n",
    "    </center>\n",
    "</p>"
   ]
  },
  {
   "cell_type": "markdown",
   "id": "6e6d87ab",
   "metadata": {},
   "source": [
    "    iii. Based on this model, what type of purchaser is most likely to spend a large amount of money?\n",
    "\n",
    "Users that have a higher number of transactions in the past years, done on web, likely to be male and not purchasing for residential address. The other variables do not influence too much the model (`LAST_UPDATE` and `ADDRESS_US`)."
   ]
  },
  {
   "cell_type": "markdown",
   "id": "3f8bef14",
   "metadata": {},
   "source": [
    "    iv. If we used backward elimination to reduce the number of predictors, which predictor would be dropped\n",
    "    first from the model?"
   ]
  },
  {
   "cell_type": "code",
   "execution_count": 23,
   "id": "fea95923",
   "metadata": {},
   "outputs": [
    {
     "name": "stdout",
     "output_type": "stream",
     "text": [
      "Variables: FREQ, LAST_UPDATE, WEB, GENDER, ADDRESS_RES, ADDRESS_US\n",
      "Start: score=15028.53\n",
      "Step: score=15026.76, remove=ADDRESS_US\n",
      "Step: score=15026.38, remove=GENDER\n",
      "Step: score=15026.38, remove=None\n",
      "['FREQ', 'LAST_UPDATE', 'WEB', 'ADDRESS_RES']\n",
      "\n",
      "Regression statistics\n",
      "\n",
      "               Mean Error (ME) : 6.9616\n",
      "Root Mean Squared Error (RMSE) : 136.5274\n",
      "     Mean Absolute Error (MAE) : 83.4472\n"
     ]
    }
   ],
   "source": [
    "def train_model(variables):\n",
    "    model = LinearRegression()\n",
    "    model.fit(train_X[variables], train_y)\n",
    "    return model\n",
    "\n",
    "def score_model(model, variables):\n",
    "    return AIC_score(train_y, model.predict(train_X[variables]), model)\n",
    "\n",
    "\n",
    "all_variables = train_X.columns\n",
    "best_model, best_variables = backward_elimination(all_variables, train_model, score_model,\n",
    "                                                  verbose=True)\n",
    "print(best_variables)\n",
    "regression_summary(valid_y, best_model.predict(valid_X[best_variables]))"
   ]
  },
  {
   "cell_type": "markdown",
   "id": "5d1daf0c",
   "metadata": {},
   "source": [
    "According to the backward elimitation the first variable would be `ADDRESS_US`, followed by `GENDER`;"
   ]
  },
  {
   "cell_type": "markdown",
   "id": "bc846985",
   "metadata": {},
   "source": [
    "    v. Show how the prediction and the prediction error are computed for the first purchase in the validation\n",
    "    set."
   ]
  },
  {
   "cell_type": "code",
   "execution_count": 24,
   "id": "e976ae94",
   "metadata": {},
   "outputs": [
    {
     "data": {
      "text/plain": [
       "FREQ              2\n",
       "LAST_UPDATE    1346\n",
       "WEB               0\n",
       "GENDER            1\n",
       "ADDRESS_RES       1\n",
       "ADDRESS_US        1\n",
       "Name: 674, dtype: int64"
      ]
     },
     "execution_count": 24,
     "metadata": {},
     "output_type": "execute_result"
    }
   ],
   "source": [
    "valid_X.iloc[0, :]"
   ]
  },
  {
   "cell_type": "code",
   "execution_count": 25,
   "id": "919ce137",
   "metadata": {},
   "outputs": [
    {
     "data": {
      "text/plain": [
       "0"
      ]
     },
     "execution_count": 25,
     "metadata": {},
     "output_type": "execute_result"
    }
   ],
   "source": [
    "valid_y.iloc[0]"
   ]
  },
  {
   "cell_type": "markdown",
   "id": "d1e09331",
   "metadata": {},
   "source": [
    "The computation would be the following:\n",
    "\n",
    "<p>\n",
    "    <center>\n",
    "        $\\hat{Y}_{SPENDING} = 10.17 + 91.27 * 2 - 0.01 * 1346 + 18.63 * 0 - 9.11 * 1 - 75.81 * 1 - 4.62 * 1$\n",
    "    </center>\n",
    "</p>\n",
    "\n",
    "Resulting in a value of \\\\$89.71. The prediction error would be calculated as follows:\n",
    "\n",
    "<p>\n",
    "    <center>\n",
    "        $err = Y - \\hat{Y}_{SPENDING} = 0 - 89.71 = 89.71$\n",
    "    </center>\n",
    "</p>\n",
    "\n",
    "\n",
    "For the first 20 rows we have the following:"
   ]
  },
  {
   "cell_type": "code",
   "execution_count": 26,
   "id": "b82d7855",
   "metadata": {},
   "outputs": [
    {
     "name": "stdout",
     "output_type": "stream",
     "text": [
      "       Predicted  Actual     Residual\n",
      "674    89.214915       0   -89.214915\n",
      "1699  202.231362     184   -18.231362\n",
      "1282   49.159303       0   -49.159303\n",
      "1315  824.841659    1289   464.158341\n",
      "1210    0.121196       0    -0.121196\n",
      "1636   86.766675       0   -86.766675\n",
      "613    58.018614       0   -58.018614\n",
      "447   247.428569    1255  1007.571431\n",
      "1131   67.036615       0   -67.036615\n",
      "808    67.825031       0   -67.825031\n",
      "1496   -7.098168       0     7.098168\n",
      "1468  194.814024     411   216.185976\n",
      "1682  -13.480101       0    13.480101\n",
      "1149  -32.457046       0    32.457046\n",
      "442    61.247979       0   -61.247979\n",
      "1813    4.497885     173   168.502115\n",
      "654   -46.046854       0    46.046854\n",
      "1264  -32.315195       0    32.315195\n",
      "858    80.219048       0   -80.219048\n",
      "1482   51.783900       0   -51.783900\n"
     ]
    }
   ],
   "source": [
    "selling_lmr_pred = selling_lmr.predict(valid_X)\n",
    "result = pd.DataFrame({\"Predicted\": selling_lmr_pred,\n",
    "                       \"Actual\": valid_y,\n",
    "                       \"Residual\": valid_y - selling_lmr_pred})\n",
    "print(result.head(20))"
   ]
  },
  {
   "cell_type": "markdown",
   "id": "c69b9be6",
   "metadata": {},
   "source": [
    "    vi. Evaluate the predictive accuracy of the model by examining its performance on the validation set."
   ]
  },
  {
   "cell_type": "code",
   "execution_count": 27,
   "id": "9534df6e",
   "metadata": {},
   "outputs": [
    {
     "name": "stdout",
     "output_type": "stream",
     "text": [
      "\n",
      "Regression statistics\n",
      "\n",
      "               Mean Error (ME) : 7.1933\n",
      "Root Mean Squared Error (RMSE) : 136.7397\n",
      "     Mean Absolute Error (MAE) : 83.6010\n"
     ]
    }
   ],
   "source": [
    "# print performance measures (validation data)\n",
    "regression_summary(valid_y, selling_lmr_pred)"
   ]
  },
  {
   "cell_type": "markdown",
   "id": "62b83749",
   "metadata": {},
   "source": [
    "    vii. Create a histogram of the model residuals. Do they appear to follow a normal distribution? How does\n",
    "    this affect the predictive performance of the model?"
   ]
  },
  {
   "cell_type": "code",
   "execution_count": 28,
   "id": "93ff41b7",
   "metadata": {},
   "outputs": [
    {
     "name": "stdout",
     "output_type": "stream",
     "text": [
      "Percentage of datapoints with a residual in [-250, 250]:  0.9625\n"
     ]
    },
    {
     "data": {
      "image/png": "[encoded data removed]",
      "text/plain": [
       "<Figure size 432x288 with 1 Axes>"
      ]
     },
     "metadata": {
      "needs_background": "light"
     },
     "output_type": "display_data"
    }
   ],
   "source": [
    "all_residuals = valid_y - selling_lmr.predict(valid_X)\n",
    "\n",
    "# Determine the percentage of datapoints with a residual in [-250, 250] = approx. 95%\n",
    "print(\"Percentage of datapoints with a residual in [-250, 250]: \",\n",
    "      len(all_residuals[(all_residuals > -250) & (all_residuals < 250)]) / len(all_residuals))\n",
    "\n",
    "pd.DataFrame({\"Residuals\": all_residuals}).hist(bins=25)\n",
    "plt.show()"
   ]
  },
  {
   "cell_type": "markdown",
   "id": "31a746fe",
   "metadata": {},
   "source": [
    "We can see from the above figure that the residuals follow a normal distribution. The predictions will be unbiased (equal to the true values on average) and will have the smallest mean squared error compared to any unbiased estimates if we make the following assumptions:\n",
    "\n",
    "**1. The noise ε (or equivalently, Y) follows a normal distribution.**\n",
    "2. The choice of predictors and their form is correct (linearity).\n",
    "3. The records are independent of each other.\n",
    "4. The variability in the outcome values for a given set of predictors is the same regardless of the values of the predictors (homoskedasticity).\n",
    "\n",
    "Since the noise ε follows a normal distribution, we know that these are the best predictions possible (unbiased)."
   ]
  },
  {
   "cell_type": "code",
   "execution_count": null,
   "id": "c1247cdc",
   "metadata": {},
   "outputs": [],
   "source": []
  }
 ],
 "metadata": {
  "kernelspec": {
   "display_name": "Python 3",
   "language": "python",
   "name": "python3"
  },
  "language_info": {
   "codemirror_mode": {
    "name": "ipython",
    "version": 3
   },
   "file_extension": ".py",
   "mimetype": "text/x-python",
   "name": "python",
   "nbconvert_exporter": "python",
   "pygments_lexer": "ipython3",
   "version": "3.8.10"
  },
  "varInspector": {
   "cols": {
    "lenName": 16,
    "lenType": 16,
    "lenVar": 40
   },
   "kernels_config": {
    "python": {
     "delete_cmd_postfix": "",
     "delete_cmd_prefix": "del ",
     "library": "var_list.py",
     "varRefreshCmd": "print(var_dic_list())"
    },
    "r": {
     "delete_cmd_postfix": ") ",
     "delete_cmd_prefix": "rm(",
     "library": "var_list.r",
     "varRefreshCmd": "cat(var_dic_list()) "
    }
   },
   "types_to_exclude": [
    "module",
    "function",
    "builtin_function_or_method",
    "instance",
    "_Feature"
   ],
   "window_display": false
  }
 },
 "nbformat": 4,
 "nbformat_minor": 5
}
